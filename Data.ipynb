{
 "cells": [
  {
   "cell_type": "code",
   "execution_count": 113,
   "metadata": {},
   "outputs": [],
   "source": [
    "# Imports \n",
    "\n",
    "\n",
    "import pandas as pd \n",
    "from matplotlib import pyplot as plt\n",
    "import requests\n",
    "import numpy as np \n"
   ]
  },
  {
   "cell_type": "code",
   "execution_count": 106,
   "metadata": {},
   "outputs": [],
   "source": [
    "# Tried connecting to API but was unsuccesfull \n",
    "# API \n",
    "# url =  \"0d82b7e788mshf89453c3067ab51p1c915fjsnb3247cb71a19\"\n",
    "#  # \"https://api.fantasynerds.com/v1/nfl/dfs?apikey=TEST&slateId=\"\n",
    "\n",
    "# # response = requests.get(url)\n",
    "#  # data = response.json()\n",
    "# # type(data)\n",
    "#  # data.keys()\n",
    "\n",
    "# # fantasy_points = pd.DataFrame(data['players'])\n",
    "# # fantasy_points.head()\n",
    "# # data[\"players\"]\n",
    "# # fantasy_points['ownership']\n"
   ]
  },
  {
   "cell_type": "code",
   "execution_count": 219,
   "metadata": {},
   "outputs": [],
   "source": [
    "# Loading CSV's for Analysis \n",
    "\n",
    "stats_2021 = pd.read_csv(\"https://raw.githubusercontent.com/fantasydatapros/data/master/yearly/2021.csv\", index_col='Player')\n",
    "stats_2020 = pd.read_csv(\"https://raw.githubusercontent.com/fantasydatapros/data/master/yearly/2019.csv\", index_col='Player' )\n",
    "stats_2019 = pd.read_csv(\"https://raw.githubusercontent.com/fantasydatapros/data/master/yearly/2019.csv\", index_col='Player' )\n",
    "stats_2018 = pd.read_csv(\"https://raw.githubusercontent.com/fantasydatapros/data/master/yearly/2019.csv\", index_col='Player' )\n",
    "stats_2017 = pd.read_csv(\"https://raw.githubusercontent.com/fantasydatapros/data/master/yearly/2019.csv\", index_col='Player' )\n",
    "stats_2016 = pd.read_csv(\"https://raw.githubusercontent.com/fantasydatapros/data/master/yearly/2019.csv\", index_col='Player' )"
   ]
  },
  {
   "cell_type": "code",
   "execution_count": 220,
   "metadata": {},
   "outputs": [
    {
     "data": {
      "text/plain": [
       "Index(['Tm', 'Pos', 'Age', 'G', 'GS', 'Tgt', 'Rec', 'PassingYds', 'PassingTD',\n",
       "       'PassingAtt', 'RushingYds', 'RushingTD', 'RushingAtt', 'ReceivingYds',\n",
       "       'ReceivingTD', 'FantasyPoints', 'Int', 'Fumbles', 'FumblesLost',\n",
       "       'Year'],\n",
       "      dtype='object')"
      ]
     },
     "execution_count": 220,
     "metadata": {},
     "output_type": "execute_result"
    }
   ],
   "source": [
    "# Cleaning Data \n",
    "stats_2021 = stats_2021.drop(columns=\"Unnamed: 0\")\n",
    "stats_20220 =stats_2020.drop(columns=\"Unnamed: 0\")\n",
    "stats_2019 = stats_2019.drop(columns=\"Unnamed: 0\")\n",
    "stats_2018 =stats_2018.drop(columns=\"Unnamed: 0\")\n",
    "stats_2017 = stats_2017.drop(columns=\"Unnamed: 0\")\n",
    "stats_2016 = stats_2016.drop(columns=\"Unnamed: 0\")\n",
    "\n",
    "# Adding Year Column\n",
    "stats_2021[\"Year\"] = \"2021\"\n",
    "stats_2020[\"Year\"] = \"2020\"\n",
    "stats_2019[\"Year\"] = \"2019\"\n",
    "stats_2018[\"Year\"] = \"2018\"\n",
    "stats_2017[\"Year\"] = \"2017\"\n",
    "stats_2016[\"Year\"] = \"2016\"\n",
    "\n",
    "# Dropping null values \n",
    "stats_2021.dropna(inplace=True)\n",
    "stats_2020.dropna(inplace=True)\n",
    "stats_2019.dropna(inplace=True)\n",
    "stats_2018.dropna(inplace=True)\n",
    "stats_2017.dropna(inplace=True)\n",
    "stats_2016.dropna(inplace=True)\n",
    "\n",
    "# Checking keys in database\n",
    "stats_2021.keys()"
   ]
  },
  {
   "cell_type": "code",
   "execution_count": 221,
   "metadata": {},
   "outputs": [],
   "source": [
    "# Function: Creating DF's by position - Called by {position}_position \n",
    "\n",
    "def RB_position(df):\n",
    "\n",
    "    new_df = df.loc[df['Pos'] == 'RB']\n",
    "\n",
    "    return new_df\n",
    "\n",
    "def WR_position(df):\n",
    "\n",
    "    new_df = df.loc[df['Pos'] == 'WR']\n",
    "\n",
    "    return new_df\n",
    "\n",
    "def QB_position(df):\n",
    "\n",
    "    new_df = df.loc[df['Pos'] == 'QB']\n",
    "\n",
    "    return new_df\n",
    "\n",
    "def TE_position(df):\n",
    "\n",
    "    new_df = df.loc[df['Pos'] == 'TE']\n",
    "\n",
    "    return new_df\n",
    "\n",
    "def zero_position(df):\n",
    "\n",
    "    new_df = df.loc[df['Pos'] == '0']\n",
    "\n",
    "    return new_df\n",
    "\n",
    "# Applying by position function to CSV's \n",
    "\n",
    "RB_stats_2021 = RB_position(stats_2021)\n",
    "RB_stats_2020 = RB_position(stats_2020)\n",
    "RB_stats_20219 =RB_position(stats_2019)\n",
    "RB_stats_2018 = RB_position(stats_2018)\n",
    "RB_stats_2017 = RB_position(stats_2017)\n",
    "RB_stats_2016 = RB_position(stats_2016)\n",
    "\n",
    "WR_stats_2021 = WR_position(stats_2021)\n",
    "WR_stats_2020 = WR_position(stats_2020)\n",
    "WR_stats_20219 =WR_position(stats_2019)\n",
    "WR_stats_2018 = WR_position(stats_2018)\n",
    "WR_stats_2017 = WR_position(stats_2017)\n",
    "WR_stats_2016 = WR_position(stats_2016)\n",
    "\n",
    "QB_stats_2021 = QB_position(stats_2021)\n",
    "QB_stats_2020 = QB_position(stats_2020)\n",
    "QB_stats_20219 =QB_position(stats_2019)\n",
    "QB_stats_2018 = QB_position(stats_2018)\n",
    "QB_stats_2017 = QB_position(stats_2017)\n",
    "QB_stats_2016 = QB_position(stats_2016)\n",
    "\n",
    "TE_stats_2021 = TE_position(stats_2021)\n",
    "TE_stats_2020 = TE_position(stats_2020)\n",
    "TE_stats_20219 =TE_position(stats_2019)\n",
    "TE_stats_2018 = TE_position(stats_2018)\n",
    "TE_stats_2017 = TE_position(stats_2017)\n",
    "TE_stats_2016 = TE_position(stats_2016)"
   ]
  },
  {
   "cell_type": "code",
   "execution_count": 226,
   "metadata": {},
   "outputs": [
    {
     "data": {
      "text/plain": [
       "(array([4., 8., 3., 1., 1., 1., 1., 0., 0., 1.]),\n",
       " array([153., 171., 189., 207., 225., 243., 261., 279., 297., 315., 333.]),\n",
       " <BarContainer object of 10 artists>)"
      ]
     },
     "execution_count": 226,
     "metadata": {},
     "output_type": "execute_result"
    },
    {
     "data": {
      "image/png": "[encoded data removed]",
      "text/plain": [
       "<Figure size 432x288 with 1 Axes>"
      ]
     },
     "metadata": {
      "needs_background": "light"
     },
     "output_type": "display_data"
    }
   ],
   "source": [
    "# Having trouble plotting Historgram, not taking names into account. Review Lecture \n",
    "\n",
    "def fantasy_points(df): \n",
    "    \n",
    "    his_df = df['FantasyPoints']\n",
    "    his_df.dropna\n",
    "    new_df =his_df.iloc[0:20]\n",
    "    \n",
    "    \n",
    "    his_graph = plt.hist(new_df)\n",
    "    \n",
    "    return his_graph\n",
    "\n",
    "\n",
    "fantasy_points(RB_stats_2021)    \n"
   ]
  },
  {
   "cell_type": "code",
   "execution_count": null,
   "metadata": {},
   "outputs": [],
   "source": []
  }
 ],
 "metadata": {
  "kernelspec": {
   "display_name": "Python 3.9.12 ('base')",
   "language": "python",
   "name": "python3"
  },
  "language_info": {
   "codemirror_mode": {
    "name": "ipython",
    "version": 3
   },
   "file_extension": ".py",
   "mimetype": "text/x-python",
   "name": "python",
   "nbconvert_exporter": "python",
   "pygments_lexer": "ipython3",
   "version": "3.9.12"
  },
  "orig_nbformat": 4,
  "vscode": {
   "interpreter": {
    "hash": "3161287874ee3d3bfe19bc31235e4eed2eb54f98e4cc9a0a76f68004823bd9ff"
   }
  }
 },
 "nbformat": 4,
 "nbformat_minor": 2
}
