{
 "cells": [
  {
   "cell_type": "code",
   "execution_count": 162,
   "metadata": {},
   "outputs": [],
   "source": [
    "# Imports \n",
    "\n",
    "\n",
    "import pandas as pd \n",
    "import matplotlib.pyplot as plt\n",
    "%matplotlib inline\n",
    "import hvplot.pandas\n",
    "import requests\n",
    "import numpy as np \n"
   ]
  },
  {
   "cell_type": "code",
   "execution_count": 163,
   "metadata": {},
   "outputs": [],
   "source": [
    "# Tried connecting to API but was unsuccesfull \n",
    "# API \n",
    "# url =  \"0d82b7e788mshf89453c3067ab51p1c915fjsnb3247cb71a19\"\n",
    "#  # \"https://api.fantasynerds.com/v1/nfl/dfs?apikey=TEST&slateId=\"\n",
    "\n",
    "# # response = requests.get(url)\n",
    "#  # data = response.json()\n",
    "# # type(data)\n",
    "#  # data.keys()\n",
    "\n",
    "# # fantasy_points = pd.DataFrame(data['players'])\n",
    "# # fantasy_points.head()\n",
    "# # data[\"players\"]\n",
    "# # fantasy_points['ownership']\n"
   ]
  },
  {
   "cell_type": "code",
   "execution_count": 164,
   "metadata": {},
   "outputs": [],
   "source": [
    "# Loading CSV's for Analysis \n",
    "\n",
    "stats_2021 = pd.read_csv(\"https://raw.githubusercontent.com/fantasydatapros/data/master/yearly/2021.csv\", index_col='Player')\n",
    "stats_2020 = pd.read_csv(\"https://raw.githubusercontent.com/fantasydatapros/data/master/yearly/2019.csv\", index_col='Player' )\n",
    "stats_2019 = pd.read_csv(\"https://raw.githubusercontent.com/fantasydatapros/data/master/yearly/2019.csv\", index_col='Player' )\n",
    "stats_2018 = pd.read_csv(\"https://raw.githubusercontent.com/fantasydatapros/data/master/yearly/2019.csv\", index_col='Player' )\n",
    "stats_2017 = pd.read_csv(\"https://raw.githubusercontent.com/fantasydatapros/data/master/yearly/2019.csv\", index_col='Player' )\n",
    "stats_2016 = pd.read_csv(\"https://raw.githubusercontent.com/fantasydatapros/data/master/yearly/2019.csv\", index_col='Player' )"
   ]
  },
  {
   "cell_type": "code",
   "execution_count": 165,
   "metadata": {},
   "outputs": [
    {
     "data": {
      "text/plain": [
       "Index(['Tm', 'Pos', 'Age', 'Tgt_2021', 'Rec_2021', 'PassingYds_2021',\n",
       "       'PassingTD_2021', 'PassingAtt_2021', 'RushingYds_2021',\n",
       "       'RushingTD_2021', 'RushingAtt_2021', 'ReceivingYds_2021',\n",
       "       'ReceivingTD_2021', 'FantasyPoints_2021', 'Int_2021'],\n",
       "      dtype='object')"
      ]
     },
     "execution_count": 165,
     "metadata": {},
     "output_type": "execute_result"
    }
   ],
   "source": [
    "# Dropping Columns we don't need \n",
    "stats_2021 = stats_2021.drop(columns=['Unnamed: 0', 'G', 'GS', 'Fumbles', 'FumblesLost'], axis=1)\n",
    "stats_2020 = stats_2020.drop(columns=['Unnamed: 0', 'G', 'GS', 'Fumbles', 'FumblesLost'], axis=1)\n",
    "stats_2019 = stats_2019.drop(columns=['Unnamed: 0', 'G', 'GS', 'Fumbles', 'FumblesLost'], axis=1)\n",
    "stats_2018 = stats_2018.drop(columns=['Unnamed: 0', 'G', 'GS', 'Fumbles', 'FumblesLost'], axis=1)\n",
    "stats_2017 = stats_2017.drop(columns=['Unnamed: 0', 'G', 'GS', 'Fumbles', 'FumblesLost'], axis=1)\n",
    "stats_2016 = stats_2016.drop(columns=['Unnamed: 0', 'G', 'GS', 'Fumbles', 'FumblesLost'], axis=1)\n",
    "\n",
    "# Renaming Columns\n",
    "stats_2021 = stats_2021.rename(columns={'Tgt': 'Tgt_2021', 'Rec': 'Rec_2021', 'PassingYds' : 'PassingYds_2021', 'PassingTD' : 'PassingTD_2021', 'PassingAtt'  : 'PassingAtt_2021', 'RushingYds': 'RushingYds_2021', 'RushingTD' : 'RushingTD_2021', 'RushingAtt': 'RushingAtt_2021', 'ReceivingYds' : 'ReceivingYds_2021', 'ReceivingTD': 'ReceivingTD_2021', 'FantasyPoints': 'FantasyPoints_2021', 'Int': 'Int_2021'})\n",
    "stats_2020 = stats_2020.rename(columns={'Tgt': 'Tgt_2020', 'Rec': 'Rec_2020', 'PassingYds' : 'PassingYds_2020', 'PassingTD' : 'PassingTD_2020', 'PassingAtt'  : 'PassingAtt_2020', 'RushingYds': 'RushingYds_2020', 'RushingTD' : 'RushingTD_2020', 'RushingAtt': 'RushingAtt_2020', 'ReceivingYds' : 'ReceivingYds_2020', 'ReceivingTD': 'ReceivingTD_2020', 'FantasyPoints': 'FantasyPoints_2020', 'Int': 'Int_2020'})\n",
    "stats_2019 = stats_2019.rename(columns={'Tgt': 'Tgt_2019', 'Rec': 'Rec_2019', 'PassingYds' : 'PassingYds_2019', 'PassingTD' : 'PassingTD_2019', 'PassingAtt'  : 'PassingAtt_2019', 'RushingYds': 'RushingYds_2019', 'RushingTD' : 'RushingTD_2019', 'RushingAtt': 'RushingAtt_2019', 'ReceivingYds' : 'ReceivingYds_2019', 'ReceivingTD': 'ReceivingTD_2019', 'FantasyPoints': 'FantasyPoints_2019', 'Int': 'Int_2019'})\n",
    "stats_2018 = stats_2018.rename(columns={'Tgt': 'Tgt_2018', 'Rec': 'Rec_2018', 'PassingYds' : 'PassingYds_2018', 'PassingTD' : 'PassingTD_2018', 'PassingAtt'  : 'PassingAtt_2018', 'RushingYds': 'RushingYds_2018', 'RushingTD' : 'RushingTD_2018', 'RushingAtt': 'RushingAtt_2018', 'ReceivingYds' : 'ReceivingYds_2018', 'ReceivingTD': 'ReceivingTD_2018', 'FantasyPoints': 'FantasyPoints_2018', 'Int': 'Int_2018'})\n",
    "stats_2017 = stats_2017.rename(columns={'Tgt': 'Tgt_2017', 'Rec': 'Rec_2017', 'PassingYds' : 'PassingYds_2017', 'PassingTD' : 'PassingTD_2017', 'PassingAtt'  : 'PassingAtt_2017', 'RushingYds': 'RushingYds_2017', 'RushingTD' : 'RushingTD_2017', 'RushingAtt': 'RushingAtt_2017', 'ReceivingYds' : 'ReceivingYds_2017', 'ReceivingTD': 'ReceivingTD_2017', 'FantasyPoints': 'FantasyPoints_2017', 'Int': 'Int_2017'})\n",
    "stats_2016 = stats_2016.rename(columns={'Tgt': 'Tgt_2016', 'Rec': 'Rec_2016', 'PassingYds' : 'PassingYds_2016', 'PassingTD' : 'PassingTD_2016', 'PassingAtt'  : 'PassingAtt_2016', 'RushingYds': 'RushingYds_2016', 'RushingTD' : 'RushingTD_2016', 'RushingAtt': 'RushingAtt_2016', 'ReceivingYds' : 'ReceivingYds_2016', 'ReceivingTD': 'ReceivingTD_2016', 'FantasyPoints': 'FantasyPoints_2016', 'Int': 'Int_2016'})\n",
    "\n",
    "# Dropping null values \n",
    "stats_2021.dropna(inplace=True)\n",
    "stats_2020.dropna(inplace=True)\n",
    "stats_2019.dropna(inplace=True)\n",
    "stats_2018.dropna(inplace=True)\n",
    "stats_2017.dropna(inplace=True)\n",
    "stats_2016.dropna(inplace=True)\n",
    "\n",
    "# Checking keys in database\n",
    "stats_2021.keys()"
   ]
  },
  {
   "cell_type": "code",
   "execution_count": 167,
   "metadata": {},
   "outputs": [],
   "source": [
    "# Function: Creating DF's by position - Called by {position}_position(df)\n",
    "\n",
    "def RB_position(df):\n",
    "\n",
    "    new_df = df.loc[df['Pos'] == 'RB']\n",
    "\n",
    "    return new_df\n",
    "\n",
    "def WR_position(df):\n",
    "\n",
    "    new_df = df.loc[df['Pos'] == 'WR']\n",
    "\n",
    "    return new_df\n",
    "\n",
    "def QB_position(df):\n",
    "\n",
    "    new_df = df.loc[df['Pos'] == 'QB']\n",
    "\n",
    "    return new_df\n",
    "\n",
    "def TE_position(df):\n",
    "\n",
    "    new_df = df.loc[df['Pos'] == 'TE']\n",
    "\n",
    "    return new_df\n",
    "\n",
    "def zero_position(df):\n",
    "\n",
    "    new_df = df.loc[df['Pos'] == '0']\n",
    "\n",
    "    return new_df\n",
    "\n",
    "# Applying by position function to CSV's \n",
    "\n",
    "RB_stats_2021 = RB_position(stats_2021)\n",
    "RB_stats_2020 = RB_position(stats_2020)\n",
    "RB_stats_2019 =RB_position(stats_2019)\n",
    "RB_stats_2018 = RB_position(stats_2018)\n",
    "RB_stats_2017 = RB_position(stats_2017)\n",
    "RB_stats_2016 = RB_position(stats_2016)\n",
    "\n",
    "WR_stats_2021 = WR_position(stats_2021)\n",
    "WR_stats_2020 = WR_position(stats_2020)\n",
    "WR_stats_2019 =WR_position(stats_2019)\n",
    "WR_stats_2018 = WR_position(stats_2018)\n",
    "WR_stats_2017 = WR_position(stats_2017)\n",
    "WR_stats_2016 = WR_position(stats_2016)\n",
    "\n",
    "QB_stats_2021 = QB_position(stats_2021)\n",
    "QB_stats_2020 = QB_position(stats_2020)\n",
    "QB_stats_2019 =QB_position(stats_2019)\n",
    "QB_stats_2018 = QB_position(stats_2018)\n",
    "QB_stats_2017 = QB_position(stats_2017)\n",
    "QB_stats_2016 = QB_position(stats_2016)\n",
    "\n",
    "TE_stats_2021 = TE_position(stats_2021)\n",
    "TE_stats_2020 = TE_position(stats_2020)\n",
    "TE_stats_2019 =TE_position(stats_2019)\n",
    "TE_stats_2018 = TE_position(stats_2018)\n",
    "TE_stats_2017 = TE_position(stats_2017)\n",
    "TE_stats_2016 = TE_position(stats_2016)"
   ]
  },
  {
   "cell_type": "code",
   "execution_count": 168,
   "metadata": {},
   "outputs": [],
   "source": [
    "# Creating Initial Histogram Function \n",
    "\n",
    "def histogram_creator(df,range, column): #Called by: histogram_creator(df = RB_stats_2021,range= 30, column='FantasyPoints') \n",
    "    new_df = pd.DataFrame(df[column]).iloc[0:range]\n",
    "    \n",
    "    new_hist = new_df.hvplot.bar(x = 'Player',\n",
    "                           y = column, \n",
    "                           rot = 50)\n",
    "    \n",
    "    return new_hist\n",
    "\n"
   ]
  },
  {
   "cell_type": "code",
   "execution_count": 169,
   "metadata": {},
   "outputs": [
    {
     "data": {},
     "metadata": {},
     "output_type": "display_data"
    },
    {
     "data": {
      "application/vnd.holoviews_exec.v0+json": "",
      "text/html": [
       "<div id='9989'>\n",
       "\n",
       "\n",
       "\n",
       "\n",
       "\n",
       "  <div class=\"bk-root\" id=\"53375a8a-64ac-431a-b5d0-d532be331f14\" data-root-id=\"9989\"></div>\n",
       "</div>\n",
       "<script type=\"application/javascript\">(function(root) {\n",
       "  function embed_document(root) {\n",
       "    var docs_json = {\"fc9ac827-a250-45fe-81e6-cbf3bef13579\":{\"defs\":[{\"extends\":null,\"module\":null,\"name\":\"ReactiveHTML1\",\"overrides\":[],\"properties\":[]},{\"extends\":null,\"module\":null,\"name\":\"FlexBox1\",\"overrides\":[],\"properties\":[{\"default\":\"flex-start\",\"kind\":null,\"name\":\"align_content\"},{\"default\":\"flex-start\",\"kind\":null,\"name\":\"align_items\"},{\"default\":\"row\",\"kind\":null,\"name\":\"flex_direction\"},{\"default\":\"wrap\",\"kind\":null,\"name\":\"flex_wrap\"},{\"default\":\"flex-start\",\"kind\":null,\"name\":\"justify_content\"}]},{\"extends\":null,\"module\":null,\"name\":\"GridStack1\",\"overrides\":[],\"properties\":[{\"default\":\"warn\",\"kind\":null,\"name\":\"mode\"},{\"default\":null,\"kind\":null,\"name\":\"ncols\"},{\"default\":null,\"kind\":null,\"name\":\"nrows\"},{\"default\":true,\"kind\":null,\"name\":\"allow_resize\"},{\"default\":true,\"kind\":null,\"name\":\"allow_drag\"},{\"default\":[],\"kind\":null,\"name\":\"state\"}]},{\"extends\":null,\"module\":null,\"name\":\"click1\",\"overrides\":[],\"properties\":[{\"default\":\"\",\"kind\":null,\"name\":\"terminal_output\"},{\"default\":\"\",\"kind\":null,\"name\":\"debug_name\"},{\"default\":0,\"kind\":null,\"name\":\"clears\"}]},{\"extends\":null,\"module\":null,\"name\":\"TemplateActions1\",\"overrides\":[],\"properties\":[{\"default\":0,\"kind\":null,\"name\":\"open_modal\"},{\"default\":0,\"kind\":null,\"name\":\"close_modal\"}]},{\"extends\":null,\"module\":null,\"name\":\"MaterialTemplateActions1\",\"overrides\":[],\"properties\":[{\"default\":0,\"kind\":null,\"name\":\"open_modal\"},{\"default\":0,\"kind\":null,\"name\":\"close_modal\"}]}],\"roots\":{\"references\":[{\"attributes\":{\"coordinates\":null,\"data_source\":{\"id\":\"10070\"},\"glyph\":{\"id\":\"10073\"},\"group\":null,\"hover_glyph\":null,\"muted_glyph\":{\"id\":\"10075\"},\"nonselection_glyph\":{\"id\":\"10074\"},\"selection_glyph\":{\"id\":\"10078\"},\"view\":{\"id\":\"10077\"}},\"id\":\"10076\",\"type\":\"GlyphRenderer\"},{\"attributes\":{},\"id\":\"10001\",\"type\":\"LinearScale\"},{\"attributes\":{\"source\":{\"id\":\"10070\"}},\"id\":\"10077\",\"type\":\"CDSView\"},{\"attributes\":{},\"id\":\"10280\",\"type\":\"UnionRenderers\"},{\"attributes\":{\"bottom\":{\"value\":0},\"fill_alpha\":{\"value\":1.0},\"fill_color\":{\"value\":\"#30a2da\"},\"hatch_alpha\":{\"value\":1.0},\"hatch_color\":{\"value\":\"#30a2da\"},\"hatch_scale\":{\"value\":12.0},\"hatch_weight\":{\"value\":1.0},\"line_alpha\":{\"value\":1.0},\"line_cap\":{\"value\":\"butt\"},\"line_color\":{\"value\":\"black\"},\"line_dash\":{\"value\":[]},\"line_dash_offset\":{\"value\":0},\"line_join\":{\"value\":\"bevel\"},\"line_width\":{\"value\":1},\"top\":{\"field\":\"Rec_2021\"},\"width\":{\"value\":0.8},\"x\":{\"field\":\"Player\"}},\"id\":\"10078\",\"type\":\"VBar\"},{\"attributes\":{\"coordinates\":null,\"group\":null,\"text_color\":\"black\",\"text_font_size\":\"12pt\"},\"id\":\"9995\",\"type\":\"Title\"},{\"attributes\":{},\"id\":\"9999\",\"type\":\"CategoricalScale\"},{\"attributes\":{},\"id\":\"10118\",\"type\":\"Selection\"},{\"attributes\":{\"axis\":{\"id\":\"10003\"},\"coordinates\":null,\"grid_line_color\":null,\"group\":null,\"ticker\":null},\"id\":\"10005\",\"type\":\"Grid\"},{\"attributes\":{\"fill_color\":{\"value\":\"#30a2da\"},\"hatch_color\":{\"value\":\"#30a2da\"},\"top\":{\"field\":\"FantasyPoints_2021\"},\"width\":{\"value\":0.8},\"x\":{\"field\":\"Player\"}},\"id\":\"10026\",\"type\":\"VBar\"},{\"attributes\":{},\"id\":\"10081\",\"type\":\"AllLabels\"},{\"attributes\":{\"fill_color\":{\"value\":\"#30a2da\"},\"hatch_color\":{\"value\":\"#30a2da\"},\"top\":{\"field\":\"ReceivingYds_2021\"},\"width\":{\"value\":0.8},\"x\":{\"field\":\"Player\"}},\"id\":\"10120\",\"type\":\"VBar\"},{\"attributes\":{\"axis_label\":\"Player\",\"coordinates\":null,\"formatter\":{\"id\":\"10033\"},\"group\":null,\"major_label_orientation\":0.8726646259971648,\"major_label_policy\":{\"id\":\"10034\"},\"ticker\":{\"id\":\"10004\"}},\"id\":\"10003\",\"type\":\"CategoricalAxis\"},{\"attributes\":{\"axis\":{\"id\":\"10006\"},\"coordinates\":null,\"dimension\":1,\"grid_line_color\":null,\"group\":null,\"ticker\":null},\"id\":\"10009\",\"type\":\"Grid\"},{\"attributes\":{\"bottom_units\":\"screen\",\"coordinates\":null,\"fill_alpha\":0.5,\"fill_color\":\"lightgrey\",\"group\":null,\"left_units\":\"screen\",\"level\":\"overlay\",\"line_alpha\":1.0,\"line_color\":\"black\",\"line_dash\":[4,4],\"line_width\":2,\"right_units\":\"screen\",\"syncable\":false,\"top_units\":\"screen\"},\"id\":\"10109\",\"type\":\"BoxAnnotation\"},{\"attributes\":{},\"id\":\"10011\",\"type\":\"PanTool\"},{\"attributes\":{},\"id\":\"10004\",\"type\":\"CategoricalTicker\"},{\"attributes\":{},\"id\":\"10037\",\"type\":\"AllLabels\"},{\"attributes\":{\"axis_label\":\"FantasyPoints_2021\",\"coordinates\":null,\"formatter\":{\"id\":\"10036\"},\"group\":null,\"major_label_policy\":{\"id\":\"10037\"},\"ticker\":{\"id\":\"10007\"}},\"id\":\"10006\",\"type\":\"LinearAxis\"},{\"attributes\":{},\"id\":\"10007\",\"type\":\"BasicTicker\"},{\"attributes\":{},\"id\":\"10036\",\"type\":\"BasicTickFormatter\"},{\"attributes\":{},\"id\":\"10128\",\"type\":\"AllLabels\"},{\"attributes\":{},\"id\":\"10012\",\"type\":\"WheelZoomTool\"},{\"attributes\":{\"end\":79.6,\"reset_end\":79.6,\"reset_start\":0.0,\"tags\":[[[\"Rec_2021\",\"Rec_2021\",null]]]},\"id\":\"10039\",\"type\":\"Range1d\"},{\"attributes\":{\"end\":698.9,\"reset_end\":698.9,\"reset_start\":0.0,\"tags\":[[[\"ReceivingYds_2021\",\"ReceivingYds_2021\",null]]]},\"id\":\"10086\",\"type\":\"Range1d\"},{\"attributes\":{},\"id\":\"10010\",\"type\":\"SaveTool\"},{\"attributes\":{\"fill_alpha\":{\"value\":0.1},\"fill_color\":{\"value\":\"#30a2da\"},\"hatch_alpha\":{\"value\":0.1},\"hatch_color\":{\"value\":\"#30a2da\"},\"line_alpha\":{\"value\":0.1},\"top\":{\"field\":\"ReceivingYds_2021\"},\"width\":{\"value\":0.8},\"x\":{\"field\":\"Player\"}},\"id\":\"10121\",\"type\":\"VBar\"},{\"attributes\":{\"fill_alpha\":{\"value\":0.2},\"fill_color\":{\"value\":\"#30a2da\"},\"hatch_alpha\":{\"value\":0.2},\"hatch_color\":{\"value\":\"#30a2da\"},\"line_alpha\":{\"value\":0.2},\"top\":{\"field\":\"ReceivingYds_2021\"},\"width\":{\"value\":0.8},\"x\":{\"field\":\"Player\"}},\"id\":\"10122\",\"type\":\"VBar\"},{\"attributes\":{\"overlay\":{\"id\":\"10015\"}},\"id\":\"10013\",\"type\":\"BoxZoomTool\"},{\"attributes\":{\"axis_label\":\"Rec_2021\",\"coordinates\":null,\"formatter\":{\"id\":\"10083\"},\"group\":null,\"major_label_policy\":{\"id\":\"10084\"},\"ticker\":{\"id\":\"10054\"}},\"id\":\"10053\",\"type\":\"LinearAxis\"},{\"attributes\":{},\"id\":\"10014\",\"type\":\"ResetTool\"},{\"attributes\":{\"fill_color\":{\"value\":\"#30a2da\"},\"hatch_color\":{\"value\":\"#30a2da\"},\"top\":{\"field\":\"Rec_2021\"},\"width\":{\"value\":0.8},\"x\":{\"field\":\"Player\"}},\"id\":\"10073\",\"type\":\"VBar\"},{\"attributes\":{\"bottom\":{\"value\":0},\"fill_alpha\":{\"value\":1.0},\"fill_color\":{\"value\":\"#30a2da\"},\"hatch_alpha\":{\"value\":1.0},\"hatch_color\":{\"value\":\"#30a2da\"},\"hatch_scale\":{\"value\":12.0},\"hatch_weight\":{\"value\":1.0},\"line_alpha\":{\"value\":1.0},\"line_cap\":{\"value\":\"butt\"},\"line_color\":{\"value\":\"black\"},\"line_dash\":{\"value\":[]},\"line_dash_offset\":{\"value\":0},\"line_join\":{\"value\":\"bevel\"},\"line_width\":{\"value\":1},\"top\":{\"field\":\"ReceivingYds_2021\"},\"width\":{\"value\":0.8},\"x\":{\"field\":\"Player\"}},\"id\":\"10125\",\"type\":\"VBar\"},{\"attributes\":{\"coordinates\":null,\"data_source\":{\"id\":\"10117\"},\"glyph\":{\"id\":\"10120\"},\"group\":null,\"hover_glyph\":null,\"muted_glyph\":{\"id\":\"10122\"},\"nonselection_glyph\":{\"id\":\"10121\"},\"selection_glyph\":{\"id\":\"10125\"},\"view\":{\"id\":\"10124\"}},\"id\":\"10123\",\"type\":\"GlyphRenderer\"},{\"attributes\":{\"bottom_units\":\"screen\",\"coordinates\":null,\"fill_alpha\":0.5,\"fill_color\":\"lightgrey\",\"group\":null,\"left_units\":\"screen\",\"level\":\"overlay\",\"line_alpha\":1.0,\"line_color\":\"black\",\"line_dash\":[4,4],\"line_width\":2,\"right_units\":\"screen\",\"syncable\":false,\"top_units\":\"screen\"},\"id\":\"10015\",\"type\":\"BoxAnnotation\"},{\"attributes\":{\"below\":[{\"id\":\"10050\"}],\"center\":[{\"id\":\"10052\"},{\"id\":\"10056\"}],\"height\":300,\"left\":[{\"id\":\"10053\"}],\"margin\":null,\"min_border_bottom\":10,\"min_border_left\":10,\"min_border_right\":10,\"min_border_top\":10,\"renderers\":[{\"id\":\"10076\"}],\"sizing_mode\":\"fixed\",\"title\":{\"id\":\"10042\"},\"toolbar\":{\"id\":\"10063\"},\"toolbar_location\":null,\"width\":700,\"x_range\":{\"id\":\"9991\"},\"x_scale\":{\"id\":\"10046\"},\"y_range\":{\"id\":\"10039\"},\"y_scale\":{\"id\":\"10048\"}},\"id\":\"10041\",\"subtype\":\"Figure\",\"type\":\"Plot\"},{\"attributes\":{\"callback\":null,\"renderers\":[{\"id\":\"10076\"}],\"tags\":[\"hv_created\"],\"tooltips\":[[\"Player\",\"@{Player}\"],[\"Rec_2021\",\"@{Rec_2021}\"]]},\"id\":\"10040\",\"type\":\"HoverTool\"},{\"attributes\":{\"source\":{\"id\":\"10117\"}},\"id\":\"10124\",\"type\":\"CDSView\"},{\"attributes\":{\"axis\":{\"id\":\"10050\"},\"coordinates\":null,\"grid_line_color\":null,\"group\":null,\"ticker\":null},\"id\":\"10052\",\"type\":\"Grid\"},{\"attributes\":{},\"id\":\"10057\",\"type\":\"SaveTool\"},{\"attributes\":{},\"id\":\"10024\",\"type\":\"Selection\"},{\"attributes\":{},\"id\":\"10127\",\"type\":\"CategoricalTickFormatter\"},{\"attributes\":{},\"id\":\"10059\",\"type\":\"WheelZoomTool\"},{\"attributes\":{\"axis\":{\"id\":\"10053\"},\"coordinates\":null,\"dimension\":1,\"grid_line_color\":null,\"group\":null,\"ticker\":null},\"id\":\"10056\",\"type\":\"Grid\"},{\"attributes\":{\"data\":{\"Player\":[\"Jonathan Taylor*+\",\"Austin Ekeler\",\"Joe Mixon*\",\"Najee Harris*\",\"James Conner*\",\"Ezekiel Elliott\",\"Nick Chubb*\",\"Damien Harris\",\"Alvin Kamara*\",\"Antonio Gibson\",\"Leonard Fournette\",\"Cordarrelle Patterson\",\"Aaron Jones\",\"Derrick Henry\",\"Dalvin Cook*\",\"Josh Jacobs\",\"Melvin Gordon\",\"Javonte Williams\",\"Devin Singletary\",\"David Montgomery\",\"AJ Dillon\",\"Darrel Williams\",\"D'Andre Swift\",\"Elijah Mitchell\",\"James Robinson\",\"Darrell Henderson\",\"Myles Gaskin\",\"Sony Michel\",\"Tony Pollard\",\"Michael Carter\"],\"Rec_2021\":{\"__ndarray__\":\"AAAAAAAAREAAAAAAAIBRQAAAAAAAAEVAAAAAAACAUkAAAAAAAIBCQAAAAAAAgEdAAAAAAAAANEAAAAAAAAAyQAAAAAAAgEdAAAAAAAAARUAAAAAAAEBRQAAAAAAAAEpAAAAAAAAASkAAAAAAAAAyQAAAAAAAAEFAAAAAAAAAS0AAAAAAAAA8QAAAAAAAgEVAAAAAAAAAREAAAAAAAABFQAAAAAAAAEFAAAAAAACAR0AAAAAAAABPQAAAAAAAADNAAAAAAAAAP0AAAAAAAAA9QAAAAAAAgEhAAAAAAAAANUAAAAAAAIBDQAAAAAAAAEJA\",\"dtype\":\"float64\",\"order\":\"little\",\"shape\":[30]}},\"selected\":{\"id\":\"10071\"},\"selection_policy\":{\"id\":\"10291\"}},\"id\":\"10070\",\"type\":\"ColumnDataSource\"},{\"attributes\":{},\"id\":\"10080\",\"type\":\"CategoricalTickFormatter\"},{\"attributes\":{},\"id\":\"10054\",\"type\":\"BasicTicker\"},{\"attributes\":{},\"id\":\"10084\",\"type\":\"AllLabels\"},{\"attributes\":{},\"id\":\"10058\",\"type\":\"PanTool\"},{\"attributes\":{},\"id\":\"10083\",\"type\":\"BasicTickFormatter\"},{\"attributes\":{},\"id\":\"10051\",\"type\":\"CategoricalTicker\"},{\"attributes\":{},\"id\":\"10131\",\"type\":\"AllLabels\"},{\"attributes\":{\"overlay\":{\"id\":\"10062\"}},\"id\":\"10060\",\"type\":\"BoxZoomTool\"},{\"attributes\":{},\"id\":\"10095\",\"type\":\"LinearScale\"},{\"attributes\":{\"below\":[{\"id\":\"10097\"}],\"center\":[{\"id\":\"10099\"},{\"id\":\"10103\"}],\"height\":300,\"left\":[{\"id\":\"10100\"}],\"margin\":null,\"min_border_bottom\":10,\"min_border_left\":10,\"min_border_right\":10,\"min_border_top\":10,\"renderers\":[{\"id\":\"10123\"}],\"sizing_mode\":\"fixed\",\"title\":{\"id\":\"10089\"},\"toolbar\":{\"id\":\"10110\"},\"toolbar_location\":null,\"width\":700,\"x_range\":{\"id\":\"9991\"},\"x_scale\":{\"id\":\"10093\"},\"y_range\":{\"id\":\"10086\"},\"y_scale\":{\"id\":\"10095\"}},\"id\":\"10088\",\"subtype\":\"Figure\",\"type\":\"Plot\"},{\"attributes\":{},\"id\":\"10061\",\"type\":\"ResetTool\"},{\"attributes\":{},\"id\":\"10140\",\"type\":\"CategoricalScale\"},{\"attributes\":{\"bottom_units\":\"screen\",\"coordinates\":null,\"fill_alpha\":0.5,\"fill_color\":\"lightgrey\",\"group\":null,\"left_units\":\"screen\",\"level\":\"overlay\",\"line_alpha\":1.0,\"line_color\":\"black\",\"line_dash\":[4,4],\"line_width\":2,\"right_units\":\"screen\",\"syncable\":false,\"top_units\":\"screen\"},\"id\":\"10062\",\"type\":\"BoxAnnotation\"},{\"attributes\":{},\"id\":\"10130\",\"type\":\"BasicTickFormatter\"},{\"attributes\":{},\"id\":\"10335\",\"type\":\"UnionRenderers\"},{\"attributes\":{\"callback\":null,\"renderers\":[{\"id\":\"10123\"}],\"tags\":[\"hv_created\"],\"tooltips\":[[\"Player\",\"@{Player}\"],[\"ReceivingYds_2021\",\"@{ReceivingYds_2021}\"]]},\"id\":\"10087\",\"type\":\"HoverTool\"},{\"attributes\":{\"coordinates\":null,\"group\":null,\"text_color\":\"black\",\"text_font_size\":\"12pt\"},\"id\":\"10136\",\"type\":\"Title\"},{\"attributes\":{\"fill_alpha\":{\"value\":0.1},\"fill_color\":{\"value\":\"#30a2da\"},\"hatch_alpha\":{\"value\":0.1},\"hatch_color\":{\"value\":\"#30a2da\"},\"line_alpha\":{\"value\":0.1},\"top\":{\"field\":\"Rec_2021\"},\"width\":{\"value\":0.8},\"x\":{\"field\":\"Player\"}},\"id\":\"10074\",\"type\":\"VBar\"},{\"attributes\":{\"axis\":{\"id\":\"10100\"},\"coordinates\":null,\"dimension\":1,\"grid_line_color\":null,\"group\":null,\"ticker\":null},\"id\":\"10103\",\"type\":\"Grid\"},{\"attributes\":{\"tools\":[{\"id\":\"10040\"},{\"id\":\"10057\"},{\"id\":\"10058\"},{\"id\":\"10059\"},{\"id\":\"10060\"},{\"id\":\"10061\"}]},\"id\":\"10063\",\"type\":\"Toolbar\"},{\"attributes\":{\"coordinates\":null,\"group\":null,\"text_color\":\"black\",\"text_font_size\":\"12pt\"},\"id\":\"10089\",\"type\":\"Title\"},{\"attributes\":{},\"id\":\"10033\",\"type\":\"CategoricalTickFormatter\"},{\"attributes\":{},\"id\":\"10048\",\"type\":\"LinearScale\"},{\"attributes\":{\"axis_label\":\"Player\",\"coordinates\":null,\"formatter\":{\"id\":\"10080\"},\"group\":null,\"major_label_orientation\":0.8726646259971648,\"major_label_policy\":{\"id\":\"10081\"},\"ticker\":{\"id\":\"10051\"}},\"id\":\"10050\",\"type\":\"CategoricalAxis\"},{\"attributes\":{\"data\":{\"Player\":[\"Jonathan Taylor*+\",\"Austin Ekeler\",\"Joe Mixon*\",\"Najee Harris*\",\"James Conner*\",\"Ezekiel Elliott\",\"Nick Chubb*\",\"Damien Harris\",\"Alvin Kamara*\",\"Antonio Gibson\",\"Leonard Fournette\",\"Cordarrelle Patterson\",\"Aaron Jones\",\"Derrick Henry\",\"Dalvin Cook*\",\"Josh Jacobs\",\"Melvin Gordon\",\"Javonte Williams\",\"Devin Singletary\",\"David Montgomery\",\"AJ Dillon\",\"Darrel Williams\",\"D'Andre Swift\",\"Elijah Mitchell\",\"James Robinson\",\"Darrell Henderson\",\"Myles Gaskin\",\"Sony Michel\",\"Tony Pollard\",\"Michael Carter\"],\"RushingTD_2021\":{\"__ndarray__\":\"AAAAAAAAMkAAAAAAAAAoQAAAAAAAACpAAAAAAAAAHEAAAAAAAAAuQAAAAAAAACRAAAAAAAAAIEAAAAAAAAAuQAAAAAAAABBAAAAAAAAAHEAAAAAAAAAgQAAAAAAAABhAAAAAAAAAEEAAAAAAAAAkQAAAAAAAABhAAAAAAAAAIkAAAAAAAAAgQAAAAAAAABBAAAAAAAAAHEAAAAAAAAAcQAAAAAAAABRAAAAAAAAAGEAAAAAAAAAUQAAAAAAAABRAAAAAAAAAIEAAAAAAAAAUQAAAAAAAAAhAAAAAAAAAEEAAAAAAAAAAQAAAAAAAABBA\",\"dtype\":\"float64\",\"order\":\"little\",\"shape\":[30]}},\"selected\":{\"id\":\"10165\"},\"selection_policy\":{\"id\":\"10313\"}},\"id\":\"10164\",\"type\":\"ColumnDataSource\"},{\"attributes\":{\"axis\":{\"id\":\"10097\"},\"coordinates\":null,\"grid_line_color\":null,\"group\":null,\"ticker\":null},\"id\":\"10099\",\"type\":\"Grid\"},{\"attributes\":{\"axis_label\":\"Player\",\"coordinates\":null,\"formatter\":{\"id\":\"10127\"},\"group\":null,\"major_label_orientation\":0.8726646259971648,\"major_label_policy\":{\"id\":\"10128\"},\"ticker\":{\"id\":\"10098\"}},\"id\":\"10097\",\"type\":\"CategoricalAxis\"},{\"attributes\":{\"source\":{\"id\":\"10023\"}},\"id\":\"10030\",\"type\":\"CDSView\"},{\"attributes\":{},\"id\":\"10093\",\"type\":\"CategoricalScale\"},{\"attributes\":{\"end\":19.6,\"reset_end\":19.6,\"reset_start\":0.0,\"tags\":[[[\"RushingTD_2021\",\"RushingTD_2021\",null]]]},\"id\":\"10133\",\"type\":\"Range1d\"},{\"attributes\":{\"coordinates\":null,\"data_source\":{\"id\":\"10023\"},\"glyph\":{\"id\":\"10026\"},\"group\":null,\"hover_glyph\":null,\"muted_glyph\":{\"id\":\"10028\"},\"nonselection_glyph\":{\"id\":\"10027\"},\"selection_glyph\":{\"id\":\"10031\"},\"view\":{\"id\":\"10030\"}},\"id\":\"10029\",\"type\":\"GlyphRenderer\"},{\"attributes\":{},\"id\":\"10071\",\"type\":\"Selection\"},{\"attributes\":{},\"id\":\"10105\",\"type\":\"PanTool\"},{\"attributes\":{\"bottom\":{\"value\":0},\"fill_alpha\":{\"value\":1.0},\"fill_color\":{\"value\":\"#30a2da\"},\"hatch_alpha\":{\"value\":1.0},\"hatch_color\":{\"value\":\"#30a2da\"},\"hatch_scale\":{\"value\":12.0},\"hatch_weight\":{\"value\":1.0},\"line_alpha\":{\"value\":1.0},\"line_cap\":{\"value\":\"butt\"},\"line_color\":{\"value\":\"black\"},\"line_dash\":{\"value\":[]},\"line_dash_offset\":{\"value\":0},\"line_join\":{\"value\":\"bevel\"},\"line_width\":{\"value\":1},\"top\":{\"field\":\"FantasyPoints_2021\"},\"width\":{\"value\":0.8},\"x\":{\"field\":\"Player\"}},\"id\":\"10031\",\"type\":\"VBar\"},{\"attributes\":{\"data\":{\"Player\":[\"Jonathan Taylor*+\",\"Austin Ekeler\",\"Joe Mixon*\",\"Najee Harris*\",\"James Conner*\",\"Ezekiel Elliott\",\"Nick Chubb*\",\"Damien Harris\",\"Alvin Kamara*\",\"Antonio Gibson\",\"Leonard Fournette\",\"Cordarrelle Patterson\",\"Aaron Jones\",\"Derrick Henry\",\"Dalvin Cook*\",\"Josh Jacobs\",\"Melvin Gordon\",\"Javonte Williams\",\"Devin Singletary\",\"David Montgomery\",\"AJ Dillon\",\"Darrel Williams\",\"D'Andre Swift\",\"Elijah Mitchell\",\"James Robinson\",\"Darrell Henderson\",\"Myles Gaskin\",\"Sony Michel\",\"Tony Pollard\",\"Michael Carter\"],\"ReceivingYds_2021\":{\"__ndarray__\":\"AAAAAACAdkAAAAAAADiEQAAAAAAAoHNAAAAAAAAwfUAAAAAAAHB3QAAAAAAA8HFAAAAAAADAZUAAAAAAAIBgQAAAAAAAcHtAAAAAAABgckAAAAAAAGB8QAAAAAAAIIFAAAAAAABweEAAAAAAAEBjQAAAAAAAAGxAAAAAAADAdUAAAAAAAKBqQAAAAAAAwHNAAAAAAACAbEAAAAAAANByQAAAAAAAkHNAAAAAAABAfEAAAAAAAEB8QAAAAAAAIGFAAAAAAADAa0AAAAAAAABmQAAAAAAAQG1AAAAAAAAAYEAAAAAAABB1QAAAAAAAUHRA\",\"dtype\":\"float64\",\"order\":\"little\",\"shape\":[30]}},\"selected\":{\"id\":\"10118\"},\"selection_policy\":{\"id\":\"10302\"}},\"id\":\"10117\",\"type\":\"ColumnDataSource\"},{\"attributes\":{},\"id\":\"10098\",\"type\":\"CategoricalTicker\"},{\"attributes\":{\"axis_label\":\"ReceivingYds_2021\",\"coordinates\":null,\"formatter\":{\"id\":\"10130\"},\"group\":null,\"major_label_policy\":{\"id\":\"10131\"},\"ticker\":{\"id\":\"10101\"}},\"id\":\"10100\",\"type\":\"LinearAxis\"},{\"attributes\":{},\"id\":\"10101\",\"type\":\"BasicTicker\"},{\"attributes\":{},\"id\":\"10106\",\"type\":\"WheelZoomTool\"},{\"attributes\":{},\"id\":\"10291\",\"type\":\"UnionRenderers\"},{\"attributes\":{\"tools\":[{\"id\":\"9993\"},{\"id\":\"10010\"},{\"id\":\"10011\"},{\"id\":\"10012\"},{\"id\":\"10013\"},{\"id\":\"10014\"}]},\"id\":\"10016\",\"type\":\"Toolbar\"},{\"attributes\":{},\"id\":\"10104\",\"type\":\"SaveTool\"},{\"attributes\":{\"fill_alpha\":{\"value\":0.2},\"fill_color\":{\"value\":\"#30a2da\"},\"hatch_alpha\":{\"value\":0.2},\"hatch_color\":{\"value\":\"#30a2da\"},\"line_alpha\":{\"value\":0.2},\"top\":{\"field\":\"Rec_2021\"},\"width\":{\"value\":0.8},\"x\":{\"field\":\"Player\"}},\"id\":\"10075\",\"type\":\"VBar\"},{\"attributes\":{\"tools\":[{\"id\":\"10087\"},{\"id\":\"10104\"},{\"id\":\"10105\"},{\"id\":\"10106\"},{\"id\":\"10107\"},{\"id\":\"10108\"}]},\"id\":\"10110\",\"type\":\"Toolbar\"},{\"attributes\":{\"callback\":null,\"renderers\":[{\"id\":\"10170\"}],\"tags\":[\"hv_created\"],\"tooltips\":[[\"Player\",\"@{Player}\"],[\"RushingTD_2021\",\"@{RushingTD_2021}\"]]},\"id\":\"10134\",\"type\":\"HoverTool\"},{\"attributes\":{\"overlay\":{\"id\":\"10109\"}},\"id\":\"10107\",\"type\":\"BoxZoomTool\"},{\"attributes\":{},\"id\":\"10108\",\"type\":\"ResetTool\"},{\"attributes\":{\"below\":[{\"id\":\"10144\"}],\"center\":[{\"id\":\"10146\"},{\"id\":\"10150\"}],\"height\":300,\"left\":[{\"id\":\"10147\"}],\"margin\":null,\"min_border_bottom\":10,\"min_border_left\":10,\"min_border_right\":10,\"min_border_top\":10,\"renderers\":[{\"id\":\"10170\"}],\"sizing_mode\":\"fixed\",\"title\":{\"id\":\"10136\"},\"toolbar\":{\"id\":\"10157\"},\"toolbar_location\":null,\"width\":700,\"x_range\":{\"id\":\"9991\"},\"x_scale\":{\"id\":\"10140\"},\"y_range\":{\"id\":\"10133\"},\"y_scale\":{\"id\":\"10142\"}},\"id\":\"10135\",\"subtype\":\"Figure\",\"type\":\"Plot\"},{\"attributes\":{\"coordinates\":null,\"group\":null,\"text_color\":\"black\",\"text_font_size\":\"12pt\"},\"id\":\"10042\",\"type\":\"Title\"},{\"attributes\":{},\"id\":\"10142\",\"type\":\"LinearScale\"},{\"attributes\":{},\"id\":\"10046\",\"type\":\"CategoricalScale\"},{\"attributes\":{\"axis_label\":\"Player\",\"coordinates\":null,\"formatter\":{\"id\":\"10174\"},\"group\":null,\"major_label_orientation\":0.8726646259971648,\"major_label_policy\":{\"id\":\"10175\"},\"ticker\":{\"id\":\"10145\"}},\"id\":\"10144\",\"type\":\"CategoricalAxis\"},{\"attributes\":{\"fill_alpha\":{\"value\":0.1},\"fill_color\":{\"value\":\"#30a2da\"},\"hatch_alpha\":{\"value\":0.1},\"hatch_color\":{\"value\":\"#30a2da\"},\"line_alpha\":{\"value\":0.1},\"top\":{\"field\":\"FantasyPoints_2021\"},\"width\":{\"value\":0.8},\"x\":{\"field\":\"Player\"}},\"id\":\"10027\",\"type\":\"VBar\"},{\"attributes\":{\"fill_alpha\":{\"value\":0.2},\"fill_color\":{\"value\":\"#30a2da\"},\"hatch_alpha\":{\"value\":0.2},\"hatch_color\":{\"value\":\"#30a2da\"},\"line_alpha\":{\"value\":0.2},\"top\":{\"field\":\"FantasyPoints_2021\"},\"width\":{\"value\":0.8},\"x\":{\"field\":\"Player\"}},\"id\":\"10028\",\"type\":\"VBar\"},{\"attributes\":{},\"id\":\"10145\",\"type\":\"CategoricalTicker\"},{\"attributes\":{},\"id\":\"10034\",\"type\":\"AllLabels\"},{\"attributes\":{\"axis\":{\"id\":\"10144\"},\"coordinates\":null,\"grid_line_color\":null,\"group\":null,\"ticker\":null},\"id\":\"10146\",\"type\":\"Grid\"},{\"attributes\":{\"end\":1936.3,\"reset_end\":1936.3,\"reset_start\":0.0,\"tags\":[[[\"RushingYds_2021\",\"RushingYds_2021\",null]]]},\"id\":\"10180\",\"type\":\"Range1d\"},{\"attributes\":{},\"id\":\"10152\",\"type\":\"PanTool\"},{\"attributes\":{},\"id\":\"10259\",\"type\":\"Selection\"},{\"attributes\":{\"fill_color\":{\"value\":\"#30a2da\"},\"hatch_color\":{\"value\":\"#30a2da\"},\"top\":{\"field\":\"RushingTD_2021\"},\"width\":{\"value\":0.8},\"x\":{\"field\":\"Player\"}},\"id\":\"10167\",\"type\":\"VBar\"},{\"attributes\":{\"fill_alpha\":{\"value\":0.1},\"fill_color\":{\"value\":\"#30a2da\"},\"hatch_alpha\":{\"value\":0.1},\"hatch_color\":{\"value\":\"#30a2da\"},\"line_alpha\":{\"value\":0.1},\"top\":{\"field\":\"Tgt_2021\"},\"width\":{\"value\":0.8},\"x\":{\"field\":\"Player\"}},\"id\":\"10262\",\"type\":\"VBar\"},{\"attributes\":{\"axis_label\":\"RushingTD_2021\",\"coordinates\":null,\"formatter\":{\"id\":\"10177\"},\"group\":null,\"major_label_policy\":{\"id\":\"10178\"},\"ticker\":{\"id\":\"10148\"}},\"id\":\"10147\",\"type\":\"LinearAxis\"},{\"attributes\":{\"axis\":{\"id\":\"10147\"},\"coordinates\":null,\"dimension\":1,\"grid_line_color\":null,\"group\":null,\"ticker\":null},\"id\":\"10150\",\"type\":\"Grid\"},{\"attributes\":{},\"id\":\"10187\",\"type\":\"CategoricalScale\"},{\"attributes\":{},\"id\":\"10148\",\"type\":\"BasicTicker\"},{\"attributes\":{},\"id\":\"10269\",\"type\":\"AllLabels\"},{\"attributes\":{},\"id\":\"10153\",\"type\":\"WheelZoomTool\"},{\"attributes\":{\"callback\":null,\"renderers\":[{\"id\":\"10217\"}],\"tags\":[\"hv_created\"],\"tooltips\":[[\"Player\",\"@{Player}\"],[\"RushingYds_2021\",\"@{RushingYds_2021}\"]]},\"id\":\"10181\",\"type\":\"HoverTool\"},{\"attributes\":{\"fill_color\":{\"value\":\"#30a2da\"},\"hatch_color\":{\"value\":\"#30a2da\"},\"top\":{\"field\":\"Tgt_2021\"},\"width\":{\"value\":0.8},\"x\":{\"field\":\"Player\"}},\"id\":\"10261\",\"type\":\"VBar\"},{\"attributes\":{},\"id\":\"10189\",\"type\":\"LinearScale\"},{\"attributes\":{\"fill_alpha\":{\"value\":0.2},\"fill_color\":{\"value\":\"#30a2da\"},\"hatch_alpha\":{\"value\":0.2},\"hatch_color\":{\"value\":\"#30a2da\"},\"line_alpha\":{\"value\":0.2},\"top\":{\"field\":\"Tgt_2021\"},\"width\":{\"value\":0.8},\"x\":{\"field\":\"Player\"}},\"id\":\"10263\",\"type\":\"VBar\"},{\"attributes\":{},\"id\":\"10151\",\"type\":\"SaveTool\"},{\"attributes\":{\"coordinates\":null,\"group\":null,\"text_color\":\"black\",\"text_font_size\":\"12pt\"},\"id\":\"10183\",\"type\":\"Title\"},{\"attributes\":{\"bottom\":{\"value\":0},\"fill_alpha\":{\"value\":1.0},\"fill_color\":{\"value\":\"#30a2da\"},\"hatch_alpha\":{\"value\":1.0},\"hatch_color\":{\"value\":\"#30a2da\"},\"hatch_scale\":{\"value\":12.0},\"hatch_weight\":{\"value\":1.0},\"line_alpha\":{\"value\":1.0},\"line_cap\":{\"value\":\"butt\"},\"line_color\":{\"value\":\"black\"},\"line_dash\":{\"value\":[]},\"line_dash_offset\":{\"value\":0},\"line_join\":{\"value\":\"bevel\"},\"line_width\":{\"value\":1},\"top\":{\"field\":\"Tgt_2021\"},\"width\":{\"value\":0.8},\"x\":{\"field\":\"Player\"}},\"id\":\"10266\",\"type\":\"VBar\"},{\"attributes\":{\"below\":[{\"id\":\"10191\"}],\"center\":[{\"id\":\"10193\"},{\"id\":\"10197\"}],\"height\":300,\"left\":[{\"id\":\"10194\"}],\"margin\":null,\"min_border_bottom\":10,\"min_border_left\":10,\"min_border_right\":10,\"min_border_top\":10,\"renderers\":[{\"id\":\"10217\"}],\"sizing_mode\":\"fixed\",\"title\":{\"id\":\"10183\"},\"toolbar\":{\"id\":\"10204\"},\"toolbar_location\":null,\"width\":700,\"x_range\":{\"id\":\"9991\"},\"x_scale\":{\"id\":\"10187\"},\"y_range\":{\"id\":\"10180\"},\"y_scale\":{\"id\":\"10189\"}},\"id\":\"10182\",\"subtype\":\"Figure\",\"type\":\"Plot\"},{\"attributes\":{\"overlay\":{\"id\":\"10156\"}},\"id\":\"10154\",\"type\":\"BoxZoomTool\"},{\"attributes\":{\"coordinates\":null,\"data_source\":{\"id\":\"10258\"},\"glyph\":{\"id\":\"10261\"},\"group\":null,\"hover_glyph\":null,\"muted_glyph\":{\"id\":\"10263\"},\"nonselection_glyph\":{\"id\":\"10262\"},\"selection_glyph\":{\"id\":\"10266\"},\"view\":{\"id\":\"10265\"}},\"id\":\"10264\",\"type\":\"GlyphRenderer\"},{\"attributes\":{\"children\":[{\"id\":\"10341\"},{\"id\":\"10339\"}]},\"id\":\"10342\",\"type\":\"Column\"},{\"attributes\":{},\"id\":\"10155\",\"type\":\"ResetTool\"},{\"attributes\":{\"axis\":{\"id\":\"10191\"},\"coordinates\":null,\"grid_line_color\":null,\"group\":null,\"ticker\":null},\"id\":\"10193\",\"type\":\"Grid\"},{\"attributes\":{\"source\":{\"id\":\"10258\"}},\"id\":\"10265\",\"type\":\"CDSView\"},{\"attributes\":{\"bottom_units\":\"screen\",\"coordinates\":null,\"fill_alpha\":0.5,\"fill_color\":\"lightgrey\",\"group\":null,\"left_units\":\"screen\",\"level\":\"overlay\",\"line_alpha\":1.0,\"line_color\":\"black\",\"line_dash\":[4,4],\"line_width\":2,\"right_units\":\"screen\",\"syncable\":false,\"top_units\":\"screen\"},\"id\":\"10156\",\"type\":\"BoxAnnotation\"},{\"attributes\":{\"fill_color\":{\"value\":\"#30a2da\"},\"hatch_color\":{\"value\":\"#30a2da\"},\"top\":{\"field\":\"RushingYds_2021\"},\"width\":{\"value\":0.8},\"x\":{\"field\":\"Player\"}},\"id\":\"10214\",\"type\":\"VBar\"},{\"attributes\":{\"axis_label\":\"Player\",\"coordinates\":null,\"formatter\":{\"id\":\"10221\"},\"group\":null,\"major_label_orientation\":0.8726646259971648,\"major_label_policy\":{\"id\":\"10222\"},\"ticker\":{\"id\":\"10192\"}},\"id\":\"10191\",\"type\":\"CategoricalAxis\"},{\"attributes\":{\"axis\":{\"id\":\"10194\"},\"coordinates\":null,\"dimension\":1,\"grid_line_color\":null,\"group\":null,\"ticker\":null},\"id\":\"10197\",\"type\":\"Grid\"},{\"attributes\":{},\"id\":\"10222\",\"type\":\"AllLabels\"},{\"attributes\":{},\"id\":\"10268\",\"type\":\"CategoricalTickFormatter\"},{\"attributes\":{},\"id\":\"10199\",\"type\":\"PanTool\"},{\"attributes\":{},\"id\":\"10192\",\"type\":\"CategoricalTicker\"},{\"attributes\":{},\"id\":\"10165\",\"type\":\"Selection\"},{\"attributes\":{},\"id\":\"10225\",\"type\":\"AllLabels\"},{\"attributes\":{\"toolbar\":{\"id\":\"10340\"},\"toolbar_location\":\"above\"},\"id\":\"10341\",\"type\":\"ToolbarBox\"},{\"attributes\":{\"axis_label\":\"RushingYds_2021\",\"coordinates\":null,\"formatter\":{\"id\":\"10224\"},\"group\":null,\"major_label_policy\":{\"id\":\"10225\"},\"ticker\":{\"id\":\"10195\"}},\"id\":\"10194\",\"type\":\"LinearAxis\"},{\"attributes\":{},\"id\":\"10195\",\"type\":\"BasicTicker\"},{\"attributes\":{},\"id\":\"10224\",\"type\":\"BasicTickFormatter\"},{\"attributes\":{},\"id\":\"10200\",\"type\":\"WheelZoomTool\"},{\"attributes\":{},\"id\":\"10198\",\"type\":\"SaveTool\"},{\"attributes\":{\"overlay\":{\"id\":\"10203\"}},\"id\":\"10201\",\"type\":\"BoxZoomTool\"},{\"attributes\":{},\"id\":\"10202\",\"type\":\"ResetTool\"},{\"attributes\":{\"end\":101.4,\"reset_end\":101.4,\"reset_start\":0.0,\"tags\":[[[\"Tgt_2021\",\"Tgt_2021\",null]]]},\"id\":\"10227\",\"type\":\"Range1d\"},{\"attributes\":{\"tools\":[{\"id\":\"10134\"},{\"id\":\"10151\"},{\"id\":\"10152\"},{\"id\":\"10153\"},{\"id\":\"10154\"},{\"id\":\"10155\"}]},\"id\":\"10157\",\"type\":\"Toolbar\"},{\"attributes\":{\"bottom_units\":\"screen\",\"coordinates\":null,\"fill_alpha\":0.5,\"fill_color\":\"lightgrey\",\"group\":null,\"left_units\":\"screen\",\"level\":\"overlay\",\"line_alpha\":1.0,\"line_color\":\"black\",\"line_dash\":[4,4],\"line_width\":2,\"right_units\":\"screen\",\"syncable\":false,\"top_units\":\"screen\"},\"id\":\"10203\",\"type\":\"BoxAnnotation\"},{\"attributes\":{\"overlay\":{\"id\":\"10250\"}},\"id\":\"10248\",\"type\":\"BoxZoomTool\"},{\"attributes\":{\"below\":[{\"id\":\"10238\"}],\"center\":[{\"id\":\"10240\"},{\"id\":\"10244\"}],\"height\":300,\"left\":[{\"id\":\"10241\"}],\"margin\":null,\"min_border_bottom\":10,\"min_border_left\":10,\"min_border_right\":10,\"min_border_top\":10,\"renderers\":[{\"id\":\"10264\"}],\"sizing_mode\":\"fixed\",\"title\":{\"id\":\"10230\"},\"toolbar\":{\"id\":\"10251\"},\"toolbar_location\":null,\"width\":700,\"x_range\":{\"id\":\"9991\"},\"x_scale\":{\"id\":\"10234\"},\"y_range\":{\"id\":\"10227\"},\"y_scale\":{\"id\":\"10236\"}},\"id\":\"10229\",\"subtype\":\"Figure\",\"type\":\"Plot\"},{\"attributes\":{\"axis\":{\"id\":\"10238\"},\"coordinates\":null,\"grid_line_color\":null,\"group\":null,\"ticker\":null},\"id\":\"10240\",\"type\":\"Grid\"},{\"attributes\":{\"callback\":null,\"renderers\":[{\"id\":\"10264\"}],\"tags\":[\"hv_created\"],\"tooltips\":[[\"Player\",\"@{Player}\"],[\"Tgt_2021\",\"@{Tgt_2021}\"]]},\"id\":\"10228\",\"type\":\"HoverTool\"},{\"attributes\":{\"data\":{\"Player\":[\"Jonathan Taylor*+\",\"Austin Ekeler\",\"Joe Mixon*\",\"Najee Harris*\",\"James Conner*\",\"Ezekiel Elliott\",\"Nick Chubb*\",\"Damien Harris\",\"Alvin Kamara*\",\"Antonio Gibson\",\"Leonard Fournette\",\"Cordarrelle Patterson\",\"Aaron Jones\",\"Derrick Henry\",\"Dalvin Cook*\",\"Josh Jacobs\",\"Melvin Gordon\",\"Javonte Williams\",\"Devin Singletary\",\"David Montgomery\",\"AJ Dillon\",\"Darrel Williams\",\"D'Andre Swift\",\"Elijah Mitchell\",\"James Robinson\",\"Darrell Henderson\",\"Myles Gaskin\",\"Sony Michel\",\"Tony Pollard\",\"Michael Carter\"],\"Tgt_2021\":{\"__ndarray__\":\"AAAAAACASUAAAAAAAIBXQAAAAAAAAEhAAAAAAACAV0AAAAAAAIBDQAAAAAAAQFBAAAAAAAAAOUAAAAAAAAA1QAAAAAAAwFBAAAAAAAAASkAAAAAAAABVQAAAAAAAQFFAAAAAAABAUEAAAAAAAAA0QAAAAAAAgEhAAAAAAAAAUEAAAAAAAABDQAAAAAAAgEpAAAAAAAAASUAAAAAAAIBJQAAAAAAAgEJAAAAAAACATEAAAAAAAIBTQAAAAAAAADRAAAAAAAAAR0AAAAAAAABEQAAAAAAAgE9AAAAAAACAQEAAAAAAAABHQAAAAAAAgEtA\",\"dtype\":\"float64\",\"order\":\"little\",\"shape\":[30]}},\"selected\":{\"id\":\"10259\"},\"selection_policy\":{\"id\":\"10335\"}},\"id\":\"10258\",\"type\":\"ColumnDataSource\"},{\"attributes\":{\"axis_label\":\"Tgt_2021\",\"coordinates\":null,\"formatter\":{\"id\":\"10271\"},\"group\":null,\"major_label_policy\":{\"id\":\"10272\"},\"ticker\":{\"id\":\"10242\"}},\"id\":\"10241\",\"type\":\"LinearAxis\"},{\"attributes\":{\"source\":{\"id\":\"10211\"}},\"id\":\"10218\",\"type\":\"CDSView\"},{\"attributes\":{},\"id\":\"10245\",\"type\":\"SaveTool\"},{\"attributes\":{},\"id\":\"10221\",\"type\":\"CategoricalTickFormatter\"},{\"attributes\":{},\"id\":\"10242\",\"type\":\"BasicTicker\"},{\"attributes\":{},\"id\":\"10247\",\"type\":\"WheelZoomTool\"},{\"attributes\":{},\"id\":\"10272\",\"type\":\"AllLabels\"},{\"attributes\":{},\"id\":\"10246\",\"type\":\"PanTool\"},{\"attributes\":{\"end\":354.5,\"reset_end\":354.5,\"reset_start\":0.0,\"tags\":[[[\"FantasyPoints_2021\",\"FantasyPoints_2021\",null]]]},\"id\":\"9992\",\"type\":\"Range1d\"},{\"attributes\":{\"bottom\":{\"value\":0},\"fill_alpha\":{\"value\":1.0},\"fill_color\":{\"value\":\"#30a2da\"},\"hatch_alpha\":{\"value\":1.0},\"hatch_color\":{\"value\":\"#30a2da\"},\"hatch_scale\":{\"value\":12.0},\"hatch_weight\":{\"value\":1.0},\"line_alpha\":{\"value\":1.0},\"line_cap\":{\"value\":\"butt\"},\"line_color\":{\"value\":\"black\"},\"line_dash\":{\"value\":[]},\"line_dash_offset\":{\"value\":0},\"line_join\":{\"value\":\"bevel\"},\"line_width\":{\"value\":1},\"top\":{\"field\":\"RushingYds_2021\"},\"width\":{\"value\":0.8},\"x\":{\"field\":\"Player\"}},\"id\":\"10219\",\"type\":\"VBar\"},{\"attributes\":{},\"id\":\"10271\",\"type\":\"BasicTickFormatter\"},{\"attributes\":{},\"id\":\"10239\",\"type\":\"CategoricalTicker\"},{\"attributes\":{},\"id\":\"10234\",\"type\":\"CategoricalScale\"},{\"attributes\":{\"coordinates\":null,\"data_source\":{\"id\":\"10211\"},\"glyph\":{\"id\":\"10214\"},\"group\":null,\"hover_glyph\":null,\"muted_glyph\":{\"id\":\"10216\"},\"nonselection_glyph\":{\"id\":\"10215\"},\"selection_glyph\":{\"id\":\"10219\"},\"view\":{\"id\":\"10218\"}},\"id\":\"10217\",\"type\":\"GlyphRenderer\"},{\"attributes\":{\"axis\":{\"id\":\"10241\"},\"coordinates\":null,\"dimension\":1,\"grid_line_color\":null,\"group\":null,\"ticker\":null},\"id\":\"10244\",\"type\":\"Grid\"},{\"attributes\":{},\"id\":\"10324\",\"type\":\"UnionRenderers\"},{\"attributes\":{},\"id\":\"10236\",\"type\":\"LinearScale\"},{\"attributes\":{\"bottom_units\":\"screen\",\"coordinates\":null,\"fill_alpha\":0.5,\"fill_color\":\"lightgrey\",\"group\":null,\"left_units\":\"screen\",\"level\":\"overlay\",\"line_alpha\":1.0,\"line_color\":\"black\",\"line_dash\":[4,4],\"line_width\":2,\"right_units\":\"screen\",\"syncable\":false,\"top_units\":\"screen\"},\"id\":\"10250\",\"type\":\"BoxAnnotation\"},{\"attributes\":{\"coordinates\":null,\"group\":null,\"text_color\":\"black\",\"text_font_size\":\"12pt\"},\"id\":\"10230\",\"type\":\"Title\"},{\"attributes\":{\"data\":{\"Player\":[\"Jonathan Taylor*+\",\"Austin Ekeler\",\"Joe Mixon*\",\"Najee Harris*\",\"James Conner*\",\"Ezekiel Elliott\",\"Nick Chubb*\",\"Damien Harris\",\"Alvin Kamara*\",\"Antonio Gibson\",\"Leonard Fournette\",\"Cordarrelle Patterson\",\"Aaron Jones\",\"Derrick Henry\",\"Dalvin Cook*\",\"Josh Jacobs\",\"Melvin Gordon\",\"Javonte Williams\",\"Devin Singletary\",\"David Montgomery\",\"AJ Dillon\",\"Darrel Williams\",\"D'Andre Swift\",\"Elijah Mitchell\",\"James Robinson\",\"Darrell Henderson\",\"Myles Gaskin\",\"Sony Michel\",\"Tony Pollard\",\"Michael Carter\"],\"RushingYds_2021\":{\"__ndarray__\":\"AAAAAABMnEAAAAAAAHiMQAAAAAAA1JJAAAAAAADAkkAAAAAAAICHQAAAAAAAUI9AAAAAAACsk0AAAAAAAAiNQAAAAAAAEIxAAAAAAAA0kEAAAAAAAGCJQAAAAAAAUINAAAAAAAD4iEAAAAAAAEiNQAAAAAAAHJJAAAAAAABAi0AAAAAAALCMQAAAAAAAOIxAAAAAAAAwi0AAAAAAAIiKQAAAAAAAGIlAAAAAAABwgUAAAAAAAEiDQAAAAAAAGI5AAAAAAAD4h0AAAAAAAICFQAAAAAAAIINAAAAAAABoikAAAAAAAHiGQAAAAAAA+INA\",\"dtype\":\"float64\",\"order\":\"little\",\"shape\":[30]}},\"selected\":{\"id\":\"10212\"},\"selection_policy\":{\"id\":\"10324\"}},\"id\":\"10211\",\"type\":\"ColumnDataSource\"},{\"attributes\":{},\"id\":\"10249\",\"type\":\"ResetTool\"},{\"attributes\":{},\"id\":\"10175\",\"type\":\"AllLabels\"},{\"attributes\":{\"children\":[[{\"id\":\"9994\"},0,0],[{\"id\":\"10041\"},0,1],[{\"id\":\"10088\"},0,2],[{\"id\":\"10135\"},0,3],[{\"id\":\"10182\"},1,0],[{\"id\":\"10229\"},1,1]]},\"id\":\"10339\",\"type\":\"GridBox\"},{\"attributes\":{\"factors\":[\"Jonathan Taylor*+\",\"Austin Ekeler\",\"Joe Mixon*\",\"Najee Harris*\",\"James Conner*\",\"Ezekiel Elliott\",\"Nick Chubb*\",\"Damien Harris\",\"Alvin Kamara*\",\"Antonio Gibson\",\"Leonard Fournette\",\"Cordarrelle Patterson\",\"Aaron Jones\",\"Derrick Henry\",\"Dalvin Cook*\",\"Josh Jacobs\",\"Melvin Gordon\",\"Javonte Williams\",\"Devin Singletary\",\"David Montgomery\",\"AJ Dillon\",\"Darrel Williams\",\"D'Andre Swift\",\"Elijah Mitchell\",\"James Robinson\",\"Darrell Henderson\",\"Myles Gaskin\",\"Sony Michel\",\"Tony Pollard\",\"Michael Carter\"],\"tags\":[[[\"Player\",\"Player\",null]]]},\"id\":\"9991\",\"type\":\"FactorRange\"},{\"attributes\":{\"fill_alpha\":{\"value\":0.2},\"fill_color\":{\"value\":\"#30a2da\"},\"hatch_alpha\":{\"value\":0.2},\"hatch_color\":{\"value\":\"#30a2da\"},\"line_alpha\":{\"value\":0.2},\"top\":{\"field\":\"RushingYds_2021\"},\"width\":{\"value\":0.8},\"x\":{\"field\":\"Player\"}},\"id\":\"10216\",\"type\":\"VBar\"},{\"attributes\":{},\"id\":\"10313\",\"type\":\"UnionRenderers\"},{\"attributes\":{\"fill_alpha\":{\"value\":0.2},\"fill_color\":{\"value\":\"#30a2da\"},\"hatch_alpha\":{\"value\":0.2},\"hatch_color\":{\"value\":\"#30a2da\"},\"line_alpha\":{\"value\":0.2},\"top\":{\"field\":\"RushingTD_2021\"},\"width\":{\"value\":0.8},\"x\":{\"field\":\"Player\"}},\"id\":\"10169\",\"type\":\"VBar\"},{\"attributes\":{\"tools\":[{\"id\":\"10228\"},{\"id\":\"10245\"},{\"id\":\"10246\"},{\"id\":\"10247\"},{\"id\":\"10248\"},{\"id\":\"10249\"}]},\"id\":\"10251\",\"type\":\"Toolbar\"},{\"attributes\":{\"margin\":[5,5,5,5],\"name\":\"HSpacer10312\",\"sizing_mode\":\"stretch_width\"},\"id\":\"9990\",\"type\":\"Spacer\"},{\"attributes\":{\"bottom\":{\"value\":0},\"fill_alpha\":{\"value\":1.0},\"fill_color\":{\"value\":\"#30a2da\"},\"hatch_alpha\":{\"value\":1.0},\"hatch_color\":{\"value\":\"#30a2da\"},\"hatch_scale\":{\"value\":12.0},\"hatch_weight\":{\"value\":1.0},\"line_alpha\":{\"value\":1.0},\"line_cap\":{\"value\":\"butt\"},\"line_color\":{\"value\":\"black\"},\"line_dash\":{\"value\":[]},\"line_dash_offset\":{\"value\":0},\"line_join\":{\"value\":\"bevel\"},\"line_width\":{\"value\":1},\"top\":{\"field\":\"RushingTD_2021\"},\"width\":{\"value\":0.8},\"x\":{\"field\":\"Player\"}},\"id\":\"10172\",\"type\":\"VBar\"},{\"attributes\":{\"coordinates\":null,\"data_source\":{\"id\":\"10164\"},\"glyph\":{\"id\":\"10167\"},\"group\":null,\"hover_glyph\":null,\"muted_glyph\":{\"id\":\"10169\"},\"nonselection_glyph\":{\"id\":\"10168\"},\"selection_glyph\":{\"id\":\"10172\"},\"view\":{\"id\":\"10171\"}},\"id\":\"10170\",\"type\":\"GlyphRenderer\"},{\"attributes\":{},\"id\":\"10302\",\"type\":\"UnionRenderers\"},{\"attributes\":{\"children\":[{\"id\":\"9990\"},{\"id\":\"10342\"},{\"id\":\"10883\"}],\"margin\":[0,0,0,0],\"name\":\"Row10308\",\"tags\":[\"embedded\"]},\"id\":\"9989\",\"type\":\"Row\"},{\"attributes\":{\"toolbars\":[{\"id\":\"10016\"},{\"id\":\"10063\"},{\"id\":\"10110\"},{\"id\":\"10157\"},{\"id\":\"10204\"},{\"id\":\"10251\"}],\"tools\":[{\"id\":\"9993\"},{\"id\":\"10010\"},{\"id\":\"10011\"},{\"id\":\"10012\"},{\"id\":\"10013\"},{\"id\":\"10014\"},{\"id\":\"10040\"},{\"id\":\"10057\"},{\"id\":\"10058\"},{\"id\":\"10059\"},{\"id\":\"10060\"},{\"id\":\"10061\"},{\"id\":\"10087\"},{\"id\":\"10104\"},{\"id\":\"10105\"},{\"id\":\"10106\"},{\"id\":\"10107\"},{\"id\":\"10108\"},{\"id\":\"10134\"},{\"id\":\"10151\"},{\"id\":\"10152\"},{\"id\":\"10153\"},{\"id\":\"10154\"},{\"id\":\"10155\"},{\"id\":\"10181\"},{\"id\":\"10198\"},{\"id\":\"10199\"},{\"id\":\"10200\"},{\"id\":\"10201\"},{\"id\":\"10202\"},{\"id\":\"10228\"},{\"id\":\"10245\"},{\"id\":\"10246\"},{\"id\":\"10247\"},{\"id\":\"10248\"},{\"id\":\"10249\"}]},\"id\":\"10340\",\"type\":\"ProxyToolbar\"},{\"attributes\":{},\"id\":\"10174\",\"type\":\"CategoricalTickFormatter\"},{\"attributes\":{\"axis_label\":\"Player\",\"coordinates\":null,\"formatter\":{\"id\":\"10268\"},\"group\":null,\"major_label_orientation\":0.8726646259971648,\"major_label_policy\":{\"id\":\"10269\"},\"ticker\":{\"id\":\"10239\"}},\"id\":\"10238\",\"type\":\"CategoricalAxis\"},{\"attributes\":{\"tools\":[{\"id\":\"10181\"},{\"id\":\"10198\"},{\"id\":\"10199\"},{\"id\":\"10200\"},{\"id\":\"10201\"},{\"id\":\"10202\"}]},\"id\":\"10204\",\"type\":\"Toolbar\"},{\"attributes\":{\"margin\":[5,5,5,5],\"name\":\"HSpacer10313\",\"sizing_mode\":\"stretch_width\"},\"id\":\"10883\",\"type\":\"Spacer\"},{\"attributes\":{\"data\":{\"FantasyPoints_2021\":{\"__ndarray__\":\"AAAAAADQdEAAAAAAACBxQAAAAAAAwG5AAAAAAABgbEAAAAAAAKBrQAAAAAAAoGlAAAAAAABgaEAAAAAAAABoQAAAAAAAgGdAAAAAAABgZ0AAAAAAAGBnQAAAAAAA4GZAAAAAAAAgZkAAAAAAAOBlQAAAAAAAgGVAAAAAAACAZUAAAAAAAOBkQAAAAAAAQGRAAAAAAADAY0AAAAAAACBjQAAAAAAAAGNAAAAAAACgYkAAAAAAAGBiQAAAAAAAQGJAAAAAAADgYUAAAAAAAMBgQAAAAAAAQF9AAAAAAABAX0AAAAAAAABfQAAAAAAAgF1A\",\"dtype\":\"float64\",\"order\":\"little\",\"shape\":[30]},\"Player\":[\"Jonathan Taylor*+\",\"Austin Ekeler\",\"Joe Mixon*\",\"Najee Harris*\",\"James Conner*\",\"Ezekiel Elliott\",\"Nick Chubb*\",\"Damien Harris\",\"Alvin Kamara*\",\"Antonio Gibson\",\"Leonard Fournette\",\"Cordarrelle Patterson\",\"Aaron Jones\",\"Derrick Henry\",\"Dalvin Cook*\",\"Josh Jacobs\",\"Melvin Gordon\",\"Javonte Williams\",\"Devin Singletary\",\"David Montgomery\",\"AJ Dillon\",\"Darrel Williams\",\"D'Andre Swift\",\"Elijah Mitchell\",\"James Robinson\",\"Darrell Henderson\",\"Myles Gaskin\",\"Sony Michel\",\"Tony Pollard\",\"Michael Carter\"]},\"selected\":{\"id\":\"10024\"},\"selection_policy\":{\"id\":\"10280\"}},\"id\":\"10023\",\"type\":\"ColumnDataSource\"},{\"attributes\":{},\"id\":\"10212\",\"type\":\"Selection\"},{\"attributes\":{\"callback\":null,\"renderers\":[{\"id\":\"10029\"}],\"tags\":[\"hv_created\"],\"tooltips\":[[\"Player\",\"@{Player}\"],[\"FantasyPoints_2021\",\"@{FantasyPoints_2021}\"]]},\"id\":\"9993\",\"type\":\"HoverTool\"},{\"attributes\":{},\"id\":\"10177\",\"type\":\"BasicTickFormatter\"},{\"attributes\":{\"below\":[{\"id\":\"10003\"}],\"center\":[{\"id\":\"10005\"},{\"id\":\"10009\"}],\"height\":300,\"left\":[{\"id\":\"10006\"}],\"margin\":null,\"min_border_bottom\":10,\"min_border_left\":10,\"min_border_right\":10,\"min_border_top\":10,\"renderers\":[{\"id\":\"10029\"}],\"sizing_mode\":\"fixed\",\"title\":{\"id\":\"9995\"},\"toolbar\":{\"id\":\"10016\"},\"toolbar_location\":null,\"width\":700,\"x_range\":{\"id\":\"9991\"},\"x_scale\":{\"id\":\"9999\"},\"y_range\":{\"id\":\"9992\"},\"y_scale\":{\"id\":\"10001\"}},\"id\":\"9994\",\"subtype\":\"Figure\",\"type\":\"Plot\"},{\"attributes\":{},\"id\":\"10178\",\"type\":\"AllLabels\"},{\"attributes\":{\"fill_alpha\":{\"value\":0.1},\"fill_color\":{\"value\":\"#30a2da\"},\"hatch_alpha\":{\"value\":0.1},\"hatch_color\":{\"value\":\"#30a2da\"},\"line_alpha\":{\"value\":0.1},\"top\":{\"field\":\"RushingYds_2021\"},\"width\":{\"value\":0.8},\"x\":{\"field\":\"Player\"}},\"id\":\"10215\",\"type\":\"VBar\"},{\"attributes\":{\"fill_alpha\":{\"value\":0.1},\"fill_color\":{\"value\":\"#30a2da\"},\"hatch_alpha\":{\"value\":0.1},\"hatch_color\":{\"value\":\"#30a2da\"},\"line_alpha\":{\"value\":0.1},\"top\":{\"field\":\"RushingTD_2021\"},\"width\":{\"value\":0.8},\"x\":{\"field\":\"Player\"}},\"id\":\"10168\",\"type\":\"VBar\"},{\"attributes\":{\"source\":{\"id\":\"10164\"}},\"id\":\"10171\",\"type\":\"CDSView\"}],\"root_ids\":[\"9989\"]},\"title\":\"Bokeh Application\",\"version\":\"2.4.2\"}};\n",
       "    var render_items = [{\"docid\":\"fc9ac827-a250-45fe-81e6-cbf3bef13579\",\"root_ids\":[\"9989\"],\"roots\":{\"9989\":\"53375a8a-64ac-431a-b5d0-d532be331f14\"}}];\n",
       "    root.Bokeh.embed.embed_items_notebook(docs_json, render_items);\n",
       "  }\n",
       "  if (root.Bokeh !== undefined && root.Bokeh.Panel !== undefined) {\n",
       "    embed_document(root);\n",
       "  } else {\n",
       "    var attempts = 0;\n",
       "    var timer = setInterval(function(root) {\n",
       "      if (root.Bokeh !== undefined && root.Bokeh.Panel !== undefined) {\n",
       "        clearInterval(timer);\n",
       "        embed_document(root);\n",
       "      } else if (document.readyState == \"complete\") {\n",
       "        attempts++;\n",
       "        if (attempts > 200) {\n",
       "          clearInterval(timer);\n",
       "          console.log(\"Bokeh: ERROR: Unable to run BokehJS code because BokehJS library is missing\");\n",
       "        }\n",
       "      }\n",
       "    }, 25, root)\n",
       "  }\n",
       "})(window);</script>"
      ],
      "text/plain": [
       ":Layout\n",
       "   .Bars.I   :Bars   [Player]   (FantasyPoints_2021)\n",
       "   .Bars.II  :Bars   [Player]   (Rec_2021)\n",
       "   .Bars.III :Bars   [Player]   (ReceivingYds_2021)\n",
       "   .Bars.IV  :Bars   [Player]   (RushingTD_2021)\n",
       "   .Bars.V   :Bars   [Player]   (RushingYds_2021)\n",
       "   .Bars.VI  :Bars   [Player]   (Tgt_2021)"
      ]
     },
     "execution_count": 169,
     "metadata": {
      "application/vnd.holoviews_exec.v0+json": {
       "id": "9989"
      }
     },
     "output_type": "execute_result"
    }
   ],
   "source": [
    "# RB Histograms - Create a function that displays all historgrams when called \n",
    "\n",
    "    \n",
    "RB_hist_FantasyPoints = histogram_creator(df = RB_stats_2021,range= 30, column='FantasyPoints_2021')\n",
    "RB_hist_Rec = histogram_creator(df = RB_stats_2021, range=30, column='Rec_2021')\n",
    "RB_hist_ReceivingYds = histogram_creator(df = RB_stats_2021, range=30, column='ReceivingYds_2021')\n",
    "RB_hist_RushingTD = histogram_creator(df = RB_stats_2021, range=30, column='RushingTD_2021')\n",
    "RB_hist_RushingYds = histogram_creator(df = RB_stats_2021, range=30, column='RushingYds_2021')\n",
    "RB_hist_Tgt = histogram_creator(df = RB_stats_2021, range=30, column='Tgt_2021')\n",
    "\n",
    "RB_hist_2021 = RB_hist_FantasyPoints + RB_hist_Rec +  RB_hist_ReceivingYds + RB_hist_RushingTD + RB_hist_RushingYds + RB_hist_Tgt\n",
    "    \n",
    "RB_hist_2021"
   ]
  },
  {
   "cell_type": "code",
   "execution_count": 182,
   "metadata": {},
   "outputs": [],
   "source": [
    "# Concatenating graphs per position \n",
    "RB_df = pd.concat([RB_stats_2021, RB_stats_2020, RB_stats_2019, RB_stats_2018, RB_stats_2017, RB_stats_2016], axis=1)\n",
    "WR_df = pd.concat([WR_stats_2021, WR_stats_2020, WR_stats_2019, WR_stats_2018, WR_stats_2017, WR_stats_2016], axis=1)\n",
    "QB_df = pd.concat([QB_stats_2021, QB_stats_2020, QB_stats_2019, QB_stats_2018, QB_stats_2017, QB_stats_2016], axis=1)\n",
    "TE_df = pd.concat([TE_stats_2021, TE_stats_2020, TE_stats_2019, TE_stats_2018, TE_stats_2017, TE_stats_2016], axis=1)\n",
    "\n",
    "# Changing NAN values to 0 \n",
    "RB_df = RB_df.fillna(0)\n",
    "WR_df = WR_df.fillna(0)\n",
    "QB_df = QB_df.fillna(0)\n",
    "TE_df = TE_df.fillna(0)"
   ]
  },
  {
   "cell_type": "code",
   "execution_count": 192,
   "metadata": {},
   "outputs": [
    {
     "data": {},
     "metadata": {},
     "output_type": "display_data"
    },
    {
     "data": {
      "application/vnd.holoviews_exec.v0+json": "",
      "text/html": [
       "<div id='11185'>\n",
       "\n",
       "\n",
       "\n",
       "\n",
       "\n",
       "  <div class=\"bk-root\" id=\"83d5cf13-6ab5-426b-8c9b-2354caa100c5\" data-root-id=\"11185\"></div>\n",
       "</div>\n",
       "<script type=\"application/javascript\">(function(root) {\n",
       "  function embed_document(root) {\n",
       "    var docs_json = {\"7e96c4ef-703b-444d-a3c9-8b6372fcac5e\":{\"defs\":[{\"extends\":null,\"module\":null,\"name\":\"ReactiveHTML1\",\"overrides\":[],\"properties\":[]},{\"extends\":null,\"module\":null,\"name\":\"FlexBox1\",\"overrides\":[],\"properties\":[{\"default\":\"flex-start\",\"kind\":null,\"name\":\"align_content\"},{\"default\":\"flex-start\",\"kind\":null,\"name\":\"align_items\"},{\"default\":\"row\",\"kind\":null,\"name\":\"flex_direction\"},{\"default\":\"wrap\",\"kind\":null,\"name\":\"flex_wrap\"},{\"default\":\"flex-start\",\"kind\":null,\"name\":\"justify_content\"}]},{\"extends\":null,\"module\":null,\"name\":\"GridStack1\",\"overrides\":[],\"properties\":[{\"default\":\"warn\",\"kind\":null,\"name\":\"mode\"},{\"default\":null,\"kind\":null,\"name\":\"ncols\"},{\"default\":null,\"kind\":null,\"name\":\"nrows\"},{\"default\":true,\"kind\":null,\"name\":\"allow_resize\"},{\"default\":true,\"kind\":null,\"name\":\"allow_drag\"},{\"default\":[],\"kind\":null,\"name\":\"state\"}]},{\"extends\":null,\"module\":null,\"name\":\"click1\",\"overrides\":[],\"properties\":[{\"default\":\"\",\"kind\":null,\"name\":\"terminal_output\"},{\"default\":\"\",\"kind\":null,\"name\":\"debug_name\"},{\"default\":0,\"kind\":null,\"name\":\"clears\"}]},{\"extends\":null,\"module\":null,\"name\":\"TemplateActions1\",\"overrides\":[],\"properties\":[{\"default\":0,\"kind\":null,\"name\":\"open_modal\"},{\"default\":0,\"kind\":null,\"name\":\"close_modal\"}]},{\"extends\":null,\"module\":null,\"name\":\"MaterialTemplateActions1\",\"overrides\":[],\"properties\":[{\"default\":0,\"kind\":null,\"name\":\"open_modal\"},{\"default\":0,\"kind\":null,\"name\":\"close_modal\"}]}],\"roots\":{\"references\":[{\"attributes\":{\"below\":[{\"id\":\"11199\"}],\"center\":[{\"id\":\"11201\"},{\"id\":\"11205\"}],\"height\":300,\"left\":[{\"id\":\"11202\"}],\"margin\":[5,5,5,5],\"min_border_bottom\":10,\"min_border_left\":10,\"min_border_right\":10,\"min_border_top\":10,\"renderers\":[{\"id\":\"11225\"}],\"sizing_mode\":\"fixed\",\"title\":{\"id\":\"11191\"},\"toolbar\":{\"id\":\"11212\"},\"width\":700,\"x_range\":{\"id\":\"11187\"},\"x_scale\":{\"id\":\"11195\"},\"y_range\":{\"id\":\"11188\"},\"y_scale\":{\"id\":\"11197\"}},\"id\":\"11190\",\"subtype\":\"Figure\",\"type\":\"Plot\"},{\"attributes\":{},\"id\":\"11232\",\"type\":\"BasicTickFormatter\"},{\"attributes\":{\"coordinates\":null,\"group\":null,\"text_color\":\"black\",\"text_font_size\":\"12pt\"},\"id\":\"11191\",\"type\":\"Title\"},{\"attributes\":{},\"id\":\"11229\",\"type\":\"CategoricalTickFormatter\"},{\"attributes\":{},\"id\":\"11200\",\"type\":\"CategoricalTicker\"},{\"attributes\":{\"bottom_units\":\"screen\",\"coordinates\":null,\"fill_alpha\":0.5,\"fill_color\":\"lightgrey\",\"group\":null,\"left_units\":\"screen\",\"level\":\"overlay\",\"line_alpha\":1.0,\"line_color\":\"black\",\"line_dash\":[4,4],\"line_width\":2,\"right_units\":\"screen\",\"syncable\":false,\"top_units\":\"screen\"},\"id\":\"11211\",\"type\":\"BoxAnnotation\"},{\"attributes\":{\"axis\":{\"id\":\"11199\"},\"coordinates\":null,\"grid_line_color\":null,\"group\":null,\"ticker\":null},\"id\":\"11201\",\"type\":\"Grid\"},{\"attributes\":{},\"id\":\"11195\",\"type\":\"CategoricalScale\"},{\"attributes\":{\"source\":{\"id\":\"11219\"}},\"id\":\"11226\",\"type\":\"CDSView\"},{\"attributes\":{\"margin\":[5,5,5,5],\"name\":\"HSpacer11030\",\"sizing_mode\":\"stretch_width\"},\"id\":\"11254\",\"type\":\"Spacer\"},{\"attributes\":{\"factors\":[\"Jonathan Taylor*+\",\"Austin Ekeler\",\"Joe Mixon*\",\"Najee Harris*\",\"James Conner*\",\"Ezekiel Elliott\",\"Nick Chubb*\",\"Damien Harris\",\"Alvin Kamara*\",\"Antonio Gibson\",\"Leonard Fournette\",\"Cordarrelle Patterson\",\"Aaron Jones\",\"Derrick Henry\",\"Dalvin Cook*\",\"Josh Jacobs\",\"Melvin Gordon\",\"Javonte Williams\",\"Devin Singletary\",\"David Montgomery\",\"AJ Dillon\",\"Darrel Williams\",\"D'Andre Swift\",\"Elijah Mitchell\",\"James Robinson\",\"Darrell Henderson\",\"Myles Gaskin\",\"Sony Michel\",\"Tony Pollard\",\"Michael Carter\"],\"tags\":[[[\"Player\",\"Player\",null]]]},\"id\":\"11187\",\"type\":\"FactorRange\"},{\"attributes\":{},\"id\":\"11230\",\"type\":\"AllLabels\"},{\"attributes\":{},\"id\":\"11197\",\"type\":\"LinearScale\"},{\"attributes\":{\"children\":[{\"id\":\"11186\"},{\"id\":\"11190\"},{\"id\":\"11254\"}],\"margin\":[0,0,0,0],\"name\":\"Row11025\",\"tags\":[\"embedded\"]},\"id\":\"11185\",\"type\":\"Row\"},{\"attributes\":{\"bottom\":{\"value\":0},\"fill_alpha\":{\"value\":1.0},\"fill_color\":{\"value\":\"#30a2da\"},\"hatch_alpha\":{\"value\":1.0},\"hatch_color\":{\"value\":\"#30a2da\"},\"hatch_scale\":{\"value\":12.0},\"hatch_weight\":{\"value\":1.0},\"line_alpha\":{\"value\":1.0},\"line_cap\":{\"value\":\"butt\"},\"line_color\":{\"value\":\"black\"},\"line_dash\":{\"value\":[]},\"line_dash_offset\":{\"value\":0},\"line_join\":{\"value\":\"bevel\"},\"line_width\":{\"value\":1},\"top\":{\"field\":\"Avg_fantasy_points\"},\"width\":{\"value\":0.8},\"x\":{\"field\":\"Player\"}},\"id\":\"11227\",\"type\":\"VBar\"},{\"attributes\":{\"axis_label\":\"Player\",\"coordinates\":null,\"formatter\":{\"id\":\"11229\"},\"group\":null,\"major_label_orientation\":0.8726646259971648,\"major_label_policy\":{\"id\":\"11230\"},\"ticker\":{\"id\":\"11200\"}},\"id\":\"11199\",\"type\":\"CategoricalAxis\"},{\"attributes\":{\"coordinates\":null,\"data_source\":{\"id\":\"11219\"},\"glyph\":{\"id\":\"11222\"},\"group\":null,\"hover_glyph\":null,\"muted_glyph\":{\"id\":\"11224\"},\"nonselection_glyph\":{\"id\":\"11223\"},\"selection_glyph\":{\"id\":\"11227\"},\"view\":{\"id\":\"11226\"}},\"id\":\"11225\",\"type\":\"GlyphRenderer\"},{\"attributes\":{\"margin\":[5,5,5,5],\"name\":\"HSpacer11029\",\"sizing_mode\":\"stretch_width\"},\"id\":\"11186\",\"type\":\"Spacer\"},{\"attributes\":{\"fill_alpha\":{\"value\":0.1},\"fill_color\":{\"value\":\"#30a2da\"},\"hatch_alpha\":{\"value\":0.1},\"hatch_color\":{\"value\":\"#30a2da\"},\"line_alpha\":{\"value\":0.1},\"top\":{\"field\":\"Avg_fantasy_points\"},\"width\":{\"value\":0.8},\"x\":{\"field\":\"Player\"}},\"id\":\"11223\",\"type\":\"VBar\"},{\"attributes\":{\"fill_alpha\":{\"value\":0.2},\"fill_color\":{\"value\":\"#30a2da\"},\"hatch_alpha\":{\"value\":0.2},\"hatch_color\":{\"value\":\"#30a2da\"},\"line_alpha\":{\"value\":0.2},\"top\":{\"field\":\"Avg_fantasy_points\"},\"width\":{\"value\":0.8},\"x\":{\"field\":\"Player\"}},\"id\":\"11224\",\"type\":\"VBar\"},{\"attributes\":{\"overlay\":{\"id\":\"11211\"}},\"id\":\"11209\",\"type\":\"BoxZoomTool\"},{\"attributes\":{\"fill_color\":{\"value\":\"#30a2da\"},\"hatch_color\":{\"value\":\"#30a2da\"},\"top\":{\"field\":\"Avg_fantasy_points\"},\"width\":{\"value\":0.8},\"x\":{\"field\":\"Player\"}},\"id\":\"11222\",\"type\":\"VBar\"},{\"attributes\":{},\"id\":\"11210\",\"type\":\"ResetTool\"},{\"attributes\":{},\"id\":\"11233\",\"type\":\"AllLabels\"},{\"attributes\":{},\"id\":\"11220\",\"type\":\"Selection\"},{\"attributes\":{\"axis\":{\"id\":\"11202\"},\"coordinates\":null,\"dimension\":1,\"grid_line_color\":null,\"group\":null,\"ticker\":null},\"id\":\"11205\",\"type\":\"Grid\"},{\"attributes\":{\"callback\":null,\"renderers\":[{\"id\":\"11225\"}],\"tags\":[\"hv_created\"],\"tooltips\":[[\"Player\",\"@{Player}\"],[\"Avg_fantasy_points\",\"@{Avg_fantasy_points}\"]]},\"id\":\"11189\",\"type\":\"HoverTool\"},{\"attributes\":{},\"id\":\"11241\",\"type\":\"UnionRenderers\"},{\"attributes\":{},\"id\":\"11207\",\"type\":\"PanTool\"},{\"attributes\":{\"end\":331.5166666666667,\"reset_end\":331.5166666666667,\"reset_start\":0.0,\"tags\":[[[\"Avg_fantasy_points\",\"Avg_fantasy_points\",null]]]},\"id\":\"11188\",\"type\":\"Range1d\"},{\"attributes\":{\"data\":{\"Avg_fantasy_points\":{\"__ndarray__\":\"AAAAAADAS0CrqqqqqvJyQAAAAAAAgERAq6qqqqrqQkCrqqqqqmpCQKuqqqqqXnJAAAAAAABAQED//////39AQFVVVVVVVT9Aq6qqqqoqP0CrqqqqqupuQAAAAAAAgD5AVVVVVVU9ckCrqqqqqipxQKuqqqqqqjxAq6qqqqqKZ0AAAAAAAFBmQAAAAAAAADtAqqqqqqqyYkD//////+9kQFVVVVVVVTlAVlVVVVVVVEAAAAAAAIA4QFVVVVVVVThAVVVVVVXVN0ABAAAAAIBEQAAAAAAAgEdAAQAAAACAYkBVVVVVVVVXQKuqqqqqqjNA\",\"dtype\":\"float64\",\"order\":\"little\",\"shape\":[30]},\"Player\":[\"Jonathan Taylor*+\",\"Austin Ekeler\",\"Joe Mixon*\",\"Najee Harris*\",\"James Conner*\",\"Ezekiel Elliott\",\"Nick Chubb*\",\"Damien Harris\",\"Alvin Kamara*\",\"Antonio Gibson\",\"Leonard Fournette\",\"Cordarrelle Patterson\",\"Aaron Jones\",\"Derrick Henry\",\"Dalvin Cook*\",\"Josh Jacobs\",\"Melvin Gordon\",\"Javonte Williams\",\"Devin Singletary\",\"David Montgomery\",\"AJ Dillon\",\"Darrel Williams\",\"D'Andre Swift\",\"Elijah Mitchell\",\"James Robinson\",\"Darrell Henderson\",\"Myles Gaskin\",\"Sony Michel\",\"Tony Pollard\",\"Michael Carter\"]},\"selected\":{\"id\":\"11220\"},\"selection_policy\":{\"id\":\"11241\"}},\"id\":\"11219\",\"type\":\"ColumnDataSource\"},{\"attributes\":{\"tools\":[{\"id\":\"11189\"},{\"id\":\"11206\"},{\"id\":\"11207\"},{\"id\":\"11208\"},{\"id\":\"11209\"},{\"id\":\"11210\"}]},\"id\":\"11212\",\"type\":\"Toolbar\"},{\"attributes\":{},\"id\":\"11208\",\"type\":\"WheelZoomTool\"},{\"attributes\":{},\"id\":\"11203\",\"type\":\"BasicTicker\"},{\"attributes\":{},\"id\":\"11206\",\"type\":\"SaveTool\"},{\"attributes\":{\"axis_label\":\"Avg_fantasy_points\",\"coordinates\":null,\"formatter\":{\"id\":\"11232\"},\"group\":null,\"major_label_policy\":{\"id\":\"11233\"},\"ticker\":{\"id\":\"11203\"}},\"id\":\"11202\",\"type\":\"LinearAxis\"}],\"root_ids\":[\"11185\"]},\"title\":\"Bokeh Application\",\"version\":\"2.4.2\"}};\n",
       "    var render_items = [{\"docid\":\"7e96c4ef-703b-444d-a3c9-8b6372fcac5e\",\"root_ids\":[\"11185\"],\"roots\":{\"11185\":\"83d5cf13-6ab5-426b-8c9b-2354caa100c5\"}}];\n",
       "    root.Bokeh.embed.embed_items_notebook(docs_json, render_items);\n",
       "  }\n",
       "  if (root.Bokeh !== undefined && root.Bokeh.Panel !== undefined) {\n",
       "    embed_document(root);\n",
       "  } else {\n",
       "    var attempts = 0;\n",
       "    var timer = setInterval(function(root) {\n",
       "      if (root.Bokeh !== undefined && root.Bokeh.Panel !== undefined) {\n",
       "        clearInterval(timer);\n",
       "        embed_document(root);\n",
       "      } else if (document.readyState == \"complete\") {\n",
       "        attempts++;\n",
       "        if (attempts > 200) {\n",
       "          clearInterval(timer);\n",
       "          console.log(\"Bokeh: ERROR: Unable to run BokehJS code because BokehJS library is missing\");\n",
       "        }\n",
       "      }\n",
       "    }, 25, root)\n",
       "  }\n",
       "})(window);</script>"
      ],
      "text/plain": [
       ":Bars   [Player]   (Avg_fantasy_points)"
      ]
     },
     "execution_count": 192,
     "metadata": {
      "application/vnd.holoviews_exec.v0+json": {
       "id": "11185"
      }
     },
     "output_type": "execute_result"
    }
   ],
   "source": [
    "# Creating averages \n",
    "\n",
    "# Running Backs \n",
    "RB_df['Avg_Tgt'] = (RB_df['Tgt_2021'] + RB_df['Tgt_2020'] + RB_df['Tgt_2019'] + RB_df['Tgt_2018'] + RB_df['Tgt_2017'] + RB_df['Tgt_2016'])/6\n",
    "RB_df['Avg_Rec'] = (RB_df['Rec_2021'] + RB_df['Rec_2020'] + RB_df['Rec_2019'] + RB_df['Rec_2018'] + RB_df['Rec_2017'] + RB_df['Rec_2016'])/6\n",
    "RB_df['Avg_Rushing'] = (RB_df['RushingYds_2021'] + RB_df['RushingYds_2020'] + RB_df['RushingYds_2019'] + RB_df['RushingYds_2018'] + RB_df['RushingYds_2017'] + RB_df['RushingYds_2016'])/6\n",
    "RB_df['Avg_Rush_TD'] = (RB_df['RushingTD_2021'] + RB_df['RushingTD_2020'] + RB_df['RushingTD_2019'] + RB_df['RushingTD_2018'] + RB_df['RushingTD_2017'] + RB_df['RushingTD_2016'])/6\n",
    "RB_df['Avg_Rush_attempt'] = (RB_df['RushingAtt_2021'] + RB_df['RushingAtt_2020'] + RB_df['RushingAtt_2019'] + RB_df['RushingAtt_2018'] + RB_df['RushingAtt_2017'] + RB_df['RushingAtt_2016'])/6\n",
    "RB_df['Avg_Rec_Yds'] = (RB_df['ReceivingYds_2021'] + RB_df['ReceivingYds_2020'] + RB_df['ReceivingYds_2019'] + RB_df['ReceivingYds_2018'] + RB_df['ReceivingYds_2017'] + RB_df['ReceivingYds_2016'])/6\n",
    "RB_df['Avg_Rec_TD'] = (RB_df['ReceivingTD_2021'] + RB_df['ReceivingTD_2020'] + RB_df['ReceivingTD_2019'] + RB_df['ReceivingTD_2018'] + RB_df['ReceivingTD_2017'] + RB_df['ReceivingTD_2016'])/6\n",
    "RB_df['Avg_fantasy_points'] = (RB_df['FantasyPoints_2021'] + RB_df['FantasyPoints_2020'] + RB_df['FantasyPoints_2019'] + RB_df['FantasyPoints_2018'] + RB_df['FantasyPoints_2017'] + RB_df['FantasyPoints_2016'])/6\n",
    "\n",
    "# Averages DF \n",
    "RB_average_stats = RB_df[['Avg_Tgt', 'Avg_Rec', 'Avg_Rushing', 'Avg_Rush_TD', 'Avg_Rush_attempt', 'Avg_Rec_Yds', 'Avg_Rec_TD', 'Avg_fantasy_points' ]]\n",
    "\n",
    "RB_average_stats\n",
    "\n",
    "\n",
    "histogram_creator(df = RB_average_stats, range=30, column= 'Avg_fantasy_points')\n",
    "\n",
    "\n",
    "\n",
    "# Create averages DF for QB's TE's, WR's \n",
    "\n",
    "\n",
    "\n",
    "\n",
    "\n"
   ]
  },
  {
   "cell_type": "code",
   "execution_count": null,
   "metadata": {},
   "outputs": [],
   "source": []
  }
 ],
 "metadata": {
  "kernelspec": {
   "display_name": "Python 3.9.12 ('base')",
   "language": "python",
   "name": "python3"
  },
  "language_info": {
   "codemirror_mode": {
    "name": "ipython",
    "version": 3
   },
   "file_extension": ".py",
   "mimetype": "text/x-python",
   "name": "python",
   "nbconvert_exporter": "python",
   "pygments_lexer": "ipython3",
   "version": "3.9.12"
  },
  "orig_nbformat": 4,
  "vscode": {
   "interpreter": {
    "hash": "3161287874ee3d3bfe19bc31235e4eed2eb54f98e4cc9a0a76f68004823bd9ff"
   }
  }
 },
 "nbformat": 4,
 "nbformat_minor": 2
}
