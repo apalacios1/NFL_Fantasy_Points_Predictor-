{
 "cells": [
  {
   "cell_type": "code",
   "execution_count": 64,
   "metadata": {},
   "outputs": [],
   "source": [
    "# Imports \n",
    "\n",
    "\n",
    "import pandas as pd \n",
    "import matplotlib.pyplot as plt\n",
    "%matplotlib inline\n",
    "import hvplot.pandas\n",
    "import requests\n",
    "import numpy as np \n"
   ]
  },
  {
   "cell_type": "code",
   "execution_count": 65,
   "metadata": {},
   "outputs": [],
   "source": [
    "# Tried connecting to API but was unsuccesfull \n",
    "# API \n",
    "# url =  \"0d82b7e788mshf89453c3067ab51p1c915fjsnb3247cb71a19\"\n",
    "#  # \"https://api.fantasynerds.com/v1/nfl/dfs?apikey=TEST&slateId=\"\n",
    "\n",
    "# # response = requests.get(url)\n",
    "#  # data = response.json()\n",
    "# # type(data)\n",
    "#  # data.keys()\n",
    "\n",
    "# # fantasy_points = pd.DataFrame(data['players'])\n",
    "# # fantasy_points.head()\n",
    "# # data[\"players\"]\n",
    "# # fantasy_points['ownership']\n"
   ]
  },
  {
   "cell_type": "code",
   "execution_count": 114,
   "metadata": {},
   "outputs": [
    {
     "data": {
      "text/plain": [
       "Index(['Tm', 'Pos', 'Age', 'Tgt_2021', 'Rec_2021', 'PassingYds_2021',\n",
       "       'PassingTD_2021', 'PassingAtt_2021', 'RushingYds_2021',\n",
       "       'RushingTD_2021', 'RushingAtt_2021', 'ReceivingYds_2021',\n",
       "       'ReceivingTD_2021', 'FantasyPoints_2021', 'Int_2021'],\n",
       "      dtype='object')"
      ]
     },
     "execution_count": 114,
     "metadata": {},
     "output_type": "execute_result"
    }
   ],
   "source": [
    "# Loading CSV's for Analysis \n",
    "\n",
    "stats_2021 = pd.read_csv(\"https://raw.githubusercontent.com/fantasydatapros/data/master/yearly/2021.csv\", index_col='Player')\n",
    "stats_2020 = pd.read_csv(\"https://raw.githubusercontent.com/fantasydatapros/data/master/yearly/2019.csv\", index_col='Player' )\n",
    "stats_2019 = pd.read_csv(\"https://raw.githubusercontent.com/fantasydatapros/data/master/yearly/2019.csv\", index_col='Player' )\n",
    "stats_2018 = pd.read_csv(\"https://raw.githubusercontent.com/fantasydatapros/data/master/yearly/2019.csv\", index_col='Player' )\n",
    "stats_2017 = pd.read_csv(\"https://raw.githubusercontent.com/fantasydatapros/data/master/yearly/2019.csv\", index_col='Player' )\n",
    "stats_2016 = pd.read_csv(\"https://raw.githubusercontent.com/fantasydatapros/data/master/yearly/2019.csv\", index_col='Player' )\n",
    "\n",
    "# Dropping Columns we don't need \n",
    "stats_2021 = stats_2021.drop(columns=['Unnamed: 0', 'G', 'GS', 'Fumbles', 'FumblesLost'], axis=1)\n",
    "stats_2020 = stats_2020.drop(columns=['Unnamed: 0', 'G', 'GS', 'Fumbles', 'FumblesLost'], axis=1)\n",
    "stats_2019 = stats_2019.drop(columns=['Unnamed: 0', 'G', 'GS', 'Fumbles', 'FumblesLost'], axis=1)\n",
    "stats_2018 = stats_2018.drop(columns=['Unnamed: 0', 'G', 'GS', 'Fumbles', 'FumblesLost'], axis=1)\n",
    "stats_2017 = stats_2017.drop(columns=['Unnamed: 0', 'G', 'GS', 'Fumbles', 'FumblesLost'], axis=1)\n",
    "stats_2016 = stats_2016.drop(columns=['Unnamed: 0', 'G', 'GS', 'Fumbles', 'FumblesLost'], axis=1)\n",
    "\n",
    "# Renaming Columns\n",
    "stats_2021 = stats_2021.rename(columns={'Tgt': 'Tgt_2021', 'Rec': 'Rec_2021', 'PassingYds' : 'PassingYds_2021', 'PassingTD' : 'PassingTD_2021', 'PassingAtt'  : 'PassingAtt_2021', 'RushingYds': 'RushingYds_2021', 'RushingTD' : 'RushingTD_2021', 'RushingAtt': 'RushingAtt_2021', 'ReceivingYds' : 'ReceivingYds_2021', 'ReceivingTD': 'ReceivingTD_2021', 'FantasyPoints': 'FantasyPoints_2021', 'Int': 'Int_2021'})\n",
    "stats_2020 = stats_2020.rename(columns={'Tgt': 'Tgt_2020', 'Rec': 'Rec_2020', 'PassingYds' : 'PassingYds_2020', 'PassingTD' : 'PassingTD_2020', 'PassingAtt'  : 'PassingAtt_2020', 'RushingYds': 'RushingYds_2020', 'RushingTD' : 'RushingTD_2020', 'RushingAtt': 'RushingAtt_2020', 'ReceivingYds' : 'ReceivingYds_2020', 'ReceivingTD': 'ReceivingTD_2020', 'FantasyPoints': 'FantasyPoints_2020', 'Int': 'Int_2020'})\n",
    "stats_2019 = stats_2019.rename(columns={'Tgt': 'Tgt_2019', 'Rec': 'Rec_2019', 'PassingYds' : 'PassingYds_2019', 'PassingTD' : 'PassingTD_2019', 'PassingAtt'  : 'PassingAtt_2019', 'RushingYds': 'RushingYds_2019', 'RushingTD' : 'RushingTD_2019', 'RushingAtt': 'RushingAtt_2019', 'ReceivingYds' : 'ReceivingYds_2019', 'ReceivingTD': 'ReceivingTD_2019', 'FantasyPoints': 'FantasyPoints_2019', 'Int': 'Int_2019'})\n",
    "stats_2018 = stats_2018.rename(columns={'Tgt': 'Tgt_2018', 'Rec': 'Rec_2018', 'PassingYds' : 'PassingYds_2018', 'PassingTD' : 'PassingTD_2018', 'PassingAtt'  : 'PassingAtt_2018', 'RushingYds': 'RushingYds_2018', 'RushingTD' : 'RushingTD_2018', 'RushingAtt': 'RushingAtt_2018', 'ReceivingYds' : 'ReceivingYds_2018', 'ReceivingTD': 'ReceivingTD_2018', 'FantasyPoints': 'FantasyPoints_2018', 'Int': 'Int_2018'})\n",
    "stats_2017 = stats_2017.rename(columns={'Tgt': 'Tgt_2017', 'Rec': 'Rec_2017', 'PassingYds' : 'PassingYds_2017', 'PassingTD' : 'PassingTD_2017', 'PassingAtt'  : 'PassingAtt_2017', 'RushingYds': 'RushingYds_2017', 'RushingTD' : 'RushingTD_2017', 'RushingAtt': 'RushingAtt_2017', 'ReceivingYds' : 'ReceivingYds_2017', 'ReceivingTD': 'ReceivingTD_2017', 'FantasyPoints': 'FantasyPoints_2017', 'Int': 'Int_2017'})\n",
    "stats_2016 = stats_2016.rename(columns={'Tgt': 'Tgt_2016', 'Rec': 'Rec_2016', 'PassingYds' : 'PassingYds_2016', 'PassingTD' : 'PassingTD_2016', 'PassingAtt'  : 'PassingAtt_2016', 'RushingYds': 'RushingYds_2016', 'RushingTD' : 'RushingTD_2016', 'RushingAtt': 'RushingAtt_2016', 'ReceivingYds' : 'ReceivingYds_2016', 'ReceivingTD': 'ReceivingTD_2016', 'FantasyPoints': 'FantasyPoints_2016', 'Int': 'Int_2016'})\n",
    "\n",
    "# Dropping null values \n",
    "stats_2021.dropna(inplace=True)\n",
    "stats_2020.dropna(inplace=True)\n",
    "stats_2019.dropna(inplace=True)\n",
    "stats_2018.dropna(inplace=True)\n",
    "stats_2017.dropna(inplace=True)\n",
    "stats_2016.dropna(inplace=True)\n",
    "\n",
    "# Checking keys in database\n",
    "stats_2021.keys()"
   ]
  },
  {
   "cell_type": "code",
   "execution_count": 113,
   "metadata": {},
   "outputs": [],
   "source": [
    "# Function: Creating DF's by position - Called by {position}_position(df), could create one function \n",
    "\n",
    "def RB_position(df):\n",
    "\n",
    "    new_df = df.loc[df['Pos'] == 'RB']\n",
    "\n",
    "    return new_df\n",
    "\n",
    "def WR_position(df):\n",
    "\n",
    "    new_df = df.loc[df['Pos'] == 'WR']\n",
    "\n",
    "    return new_df\n",
    "\n",
    "def QB_position(df):\n",
    "\n",
    "    new_df = df.loc[df['Pos'] == 'QB']\n",
    "\n",
    "    return new_df\n",
    "\n",
    "def TE_position(df):\n",
    "\n",
    "    new_df = df.loc[df['Pos'] == 'TE']\n",
    "\n",
    "    return new_df\n",
    "\n",
    "def zero_position(df):\n",
    "\n",
    "    new_df = df.loc[df['Pos'] == '0']\n",
    "\n",
    "    return new_df\n",
    "\n",
    "# Applying by position function to DF\n",
    "\n",
    "RB_stats_2021= RB_position(stats_2021)\n",
    "RB_stats_2020 = RB_position(stats_2020)\n",
    "RB_stats_2019 =RB_position(stats_2019)\n",
    "RB_stats_2018 = RB_position(stats_2018)\n",
    "RB_stats_2017 = RB_position(stats_2017)\n",
    "RB_stats_2016 = RB_position(stats_2016)\n",
    "\n",
    "WR_stats_2021 = WR_position(stats_2021)\n",
    "WR_stats_2020 = WR_position(stats_2020)\n",
    "WR_stats_2019 =WR_position(stats_2019)\n",
    "WR_stats_2018 = WR_position(stats_2018)\n",
    "WR_stats_2017 = WR_position(stats_2017)\n",
    "WR_stats_2016 = WR_position(stats_2016)\n",
    "\n",
    "QB_stats_2021 = QB_position(stats_2021)\n",
    "QB_stats_2020 = QB_position(stats_2020)\n",
    "QB_stats_2019 =QB_position(stats_2019)\n",
    "QB_stats_2018 = QB_position(stats_2018)\n",
    "QB_stats_2017 = QB_position(stats_2017)\n",
    "QB_stats_2016 = QB_position(stats_2016)\n",
    "\n",
    "TE_stats_2021 = TE_position(stats_2021)\n",
    "TE_stats_2020 = TE_position(stats_2020)\n",
    "TE_stats_2019 =TE_position(stats_2019)\n",
    "TE_stats_2018 = TE_position(stats_2018)\n",
    "TE_stats_2017 = TE_position(stats_2017)\n",
    "TE_stats_2016 = TE_position(stats_2016)\n",
    "\n",
    "# Concatenating graphs per position \n",
    "RB_df = pd.concat([RB_stats_2021, RB_stats_2020, RB_stats_2019, RB_stats_2018, RB_stats_2017, RB_stats_2016], axis=1)\n",
    "WR_df = pd.concat([WR_stats_2021, WR_stats_2020, WR_stats_2019, WR_stats_2018, WR_stats_2017, WR_stats_2016], axis=1)\n",
    "QB_df = pd.concat([QB_stats_2021, QB_stats_2020, QB_stats_2019, QB_stats_2018, QB_stats_2017, QB_stats_2016], axis=1)\n",
    "TE_df = pd.concat([TE_stats_2021, TE_stats_2020, TE_stats_2019, TE_stats_2018, TE_stats_2017, TE_stats_2016], axis=1)\n",
    "\n",
    "# Changing NAN values to 0 \n",
    "RB_df = RB_df.fillna(0)\n",
    "WR_df = WR_df.fillna(0)\n",
    "QB_df = QB_df.fillna(0)\n",
    "TE_df = TE_df.fillna(0)\n",
    "\n",
    "\n",
    "\n",
    "# Create averages DF for QB's TE's, WR's \n",
    "\n",
    "# Creating Initial Histogram Function \n",
    "\n",
    "def histogram_creator(df,range, column): #Called by: histogram_creator(df = RB_stats_2021,range= 30, column='FantasyPoints') \n",
    "    new_df = pd.DataFrame(df[column]).iloc[0:range]\n",
    "    \n",
    "    new_df = new_df.sort_values(by=column)\n",
    "    \n",
    "    new_hist = new_df.hvplot.bar(x = 'Player',\n",
    "                           y = column, \n",
    "                           rot = 50)\n",
    "    \n",
    "    return new_hist\n",
    "\n",
    "# Creating averages \n",
    "\n",
    "# Running Backs \n",
    "RB_df['Avg_Tgt'] = (RB_df['Tgt_2021'] + RB_df['Tgt_2020'] + RB_df['Tgt_2019'] + RB_df['Tgt_2018'] + RB_df['Tgt_2017'] + RB_df['Tgt_2016'])/6\n",
    "RB_df['Avg_Rec'] = (RB_df['Rec_2021'] + RB_df['Rec_2020'] + RB_df['Rec_2019'] + RB_df['Rec_2018'] + RB_df['Rec_2017'] + RB_df['Rec_2016'])/6\n",
    "RB_df['Avg_Rushing'] = (RB_df['RushingYds_2021'] + RB_df['RushingYds_2020'] + RB_df['RushingYds_2019'] + RB_df['RushingYds_2018'] + RB_df['RushingYds_2017'] + RB_df['RushingYds_2016'])/6\n",
    "RB_df['Avg_Rush_TD'] = (RB_df['RushingTD_2021'] + RB_df['RushingTD_2020'] + RB_df['RushingTD_2019'] + RB_df['RushingTD_2018'] + RB_df['RushingTD_2017'] + RB_df['RushingTD_2016'])/6\n",
    "RB_df['Avg_Rush_attempt'] = (RB_df['RushingAtt_2021'] + RB_df['RushingAtt_2020'] + RB_df['RushingAtt_2019'] + RB_df['RushingAtt_2018'] + RB_df['RushingAtt_2017'] + RB_df['RushingAtt_2016'])/6\n",
    "RB_df['Avg_Rec_Yds'] = (RB_df['ReceivingYds_2021'] + RB_df['ReceivingYds_2020'] + RB_df['ReceivingYds_2019'] + RB_df['ReceivingYds_2018'] + RB_df['ReceivingYds_2017'] + RB_df['ReceivingYds_2016'])/6\n",
    "RB_df['Avg_Rec_TD'] = (RB_df['ReceivingTD_2021'] + RB_df['ReceivingTD_2020'] + RB_df['ReceivingTD_2019'] + RB_df['ReceivingTD_2018'] + RB_df['ReceivingTD_2017'] + RB_df['ReceivingTD_2016'])/6\n",
    "RB_df['Avg_fantasy_points'] = (RB_df['FantasyPoints_2021'] + RB_df['FantasyPoints_2020'] + RB_df['FantasyPoints_2019'] + RB_df['FantasyPoints_2018'] + RB_df['FantasyPoints_2017'] + RB_df['FantasyPoints_2016'])/6\n",
    "\n",
    "# Averages RB DF \n",
    "RB_average_stats = RB_df[['Avg_Tgt', 'Avg_Rec', 'Avg_Rushing', 'Avg_Rush_TD', 'Avg_Rush_attempt', 'Avg_Rec_Yds', 'Avg_Rec_TD', 'Avg_fantasy_points' ]]\n",
    "\n",
    "RB_average_stats_his = histogram_creator(df = RB_average_stats, range=100, column= 'Avg_fantasy_points')\n",
    "\n",
    "\n",
    "\n"
   ]
  },
  {
   "cell_type": "code",
   "execution_count": 118,
   "metadata": {},
   "outputs": [],
   "source": [
    "# Create figures of rush yds per attempt etc... instead of averages \n",
    "\n",
    "# Rush per attempt function replace year with numeral and keep rest of format equal when calling function as string  \n",
    " \n",
    "def rush_attempt(df, RushingYds_year, RushingAtt_year, yds_per_rush_year):\n",
    "\n",
    "    df[yds_per_rush_year] = RB_df[RushingYds_year] / RB_df[RushingAtt_year]\n",
    "\n",
    "    # rush_per_yd_df = pd.DataFrame(rush_per_yd)\n",
    "\n",
    "    yds_per_att_his = histogram_creator(df= df, range=40, column=yds_per_rush_year)\n",
    "\n",
    "    return yds_per_att_his\n",
    "\n",
    "# rush_attempt(RushingYds_year='RushingYds_2020', RushingAtt_year='RushingAtt_2020', yds_per_rush_year='yds_per_rush_2020')\n",
    "# rush_attempt(df= RB_df, RushingYds_year='RushingYds_2021', RushingAtt_year='RushingAtt_2021', yds_per_rush_year='yds_per_rush_2021')\n",
    "\n",
    "\n",
    "\n",
    "# RB Histograms - Create a function that displays all historgrams when called - For simle and quick Graphs \n",
    "\n",
    "    # def \n",
    "RB_hist_FantasyPoints = histogram_creator(df = RB_df,range= 30, column='FantasyPoints_2021')\n",
    "RB_hist_Rec = histogram_creator(df = RB_df, range=30, column='Rec_2021')\n",
    "RB_hist_ReceivingYds = histogram_creator(df = RB_df, range=30, column='ReceivingYds_2021')\n",
    "RB_hist_RushingTD = histogram_creator(df = RB_df, range=30, column='RushingTD_2021')\n",
    "RB_hist_RushingYds = histogram_creator(df = RB_df, range=30, column='RushingYds_2021')\n",
    "RB_hist_Tgt = histogram_creator(df = RB_df, range=30, column='Tgt_2021')\n",
    "\n",
    "RB_hist_2021 = RB_hist_FantasyPoints + RB_hist_Rec +  RB_hist_ReceivingYds + RB_hist_RushingTD + RB_hist_RushingYds + RB_hist_Tgt\n",
    "\n",
    "# Average Fantasy Points per game function \n",
    "\n",
    "def point_per_game(df, FantasyPoints_year, new_column): \n",
    "    df[new_column] = df[FantasyPoints_year] / 17\n",
    "    \n",
    "    his_3 = histogram_creator(df,30, new_column)\n",
    "    \n",
    "    return his_3 \n",
    "\n",
    "# Points Per attempt (TE, WR, RB) - Call DF, \n",
    "\n",
    "def points_per_attempt(df,FantasyPoints_year,attempts, new_column): # call attempts by: 'Tgt_year, RushingAtt_year\n",
    "     df[new_column] = df[FantasyPoints_year] / df[attempts]\n",
    "     \n",
    "     his_4 = histogram_creator(df,30, new_column)\n",
    "     \n",
    "     return his_4"
   ]
  },
  {
   "cell_type": "code",
   "execution_count": 119,
   "metadata": {},
   "outputs": [
    {
     "data": {},
     "metadata": {},
     "output_type": "display_data"
    },
    {
     "data": {
      "application/vnd.holoviews_exec.v0+json": "",
      "text/html": [
       "<div id='13647'>\n",
       "\n",
       "\n",
       "\n",
       "\n",
       "\n",
       "  <div class=\"bk-root\" id=\"adb3084a-2d29-41e1-9734-261db00f5551\" data-root-id=\"13647\"></div>\n",
       "</div>\n",
       "<script type=\"application/javascript\">(function(root) {\n",
       "  function embed_document(root) {\n",
       "    var docs_json = {\"37bd052a-dff5-431a-ae18-53b47ef0f047\":{\"defs\":[{\"extends\":null,\"module\":null,\"name\":\"ReactiveHTML1\",\"overrides\":[],\"properties\":[]},{\"extends\":null,\"module\":null,\"name\":\"FlexBox1\",\"overrides\":[],\"properties\":[{\"default\":\"flex-start\",\"kind\":null,\"name\":\"align_content\"},{\"default\":\"flex-start\",\"kind\":null,\"name\":\"align_items\"},{\"default\":\"row\",\"kind\":null,\"name\":\"flex_direction\"},{\"default\":\"wrap\",\"kind\":null,\"name\":\"flex_wrap\"},{\"default\":\"flex-start\",\"kind\":null,\"name\":\"justify_content\"}]},{\"extends\":null,\"module\":null,\"name\":\"GridStack1\",\"overrides\":[],\"properties\":[{\"default\":\"warn\",\"kind\":null,\"name\":\"mode\"},{\"default\":null,\"kind\":null,\"name\":\"ncols\"},{\"default\":null,\"kind\":null,\"name\":\"nrows\"},{\"default\":true,\"kind\":null,\"name\":\"allow_resize\"},{\"default\":true,\"kind\":null,\"name\":\"allow_drag\"},{\"default\":[],\"kind\":null,\"name\":\"state\"}]},{\"extends\":null,\"module\":null,\"name\":\"click1\",\"overrides\":[],\"properties\":[{\"default\":\"\",\"kind\":null,\"name\":\"terminal_output\"},{\"default\":\"\",\"kind\":null,\"name\":\"debug_name\"},{\"default\":0,\"kind\":null,\"name\":\"clears\"}]},{\"extends\":null,\"module\":null,\"name\":\"TemplateActions1\",\"overrides\":[],\"properties\":[{\"default\":0,\"kind\":null,\"name\":\"open_modal\"},{\"default\":0,\"kind\":null,\"name\":\"close_modal\"}]},{\"extends\":null,\"module\":null,\"name\":\"MaterialTemplateActions1\",\"overrides\":[],\"properties\":[{\"default\":0,\"kind\":null,\"name\":\"open_modal\"},{\"default\":0,\"kind\":null,\"name\":\"close_modal\"}]}],\"roots\":{\"references\":[{\"attributes\":{},\"id\":\"13763\",\"type\":\"PanTool\"},{\"attributes\":{\"bottom_units\":\"screen\",\"coordinates\":null,\"fill_alpha\":0.5,\"fill_color\":\"lightgrey\",\"group\":null,\"left_units\":\"screen\",\"level\":\"overlay\",\"line_alpha\":1.0,\"line_color\":\"black\",\"line_dash\":[4,4],\"line_width\":2,\"right_units\":\"screen\",\"syncable\":false,\"top_units\":\"screen\"},\"id\":\"13908\",\"type\":\"BoxAnnotation\"},{\"attributes\":{\"axis\":{\"id\":\"13758\"},\"coordinates\":null,\"dimension\":1,\"grid_line_color\":null,\"group\":null,\"ticker\":null},\"id\":\"13761\",\"type\":\"Grid\"},{\"attributes\":{},\"id\":\"13800\",\"type\":\"LinearScale\"},{\"attributes\":{\"fill_color\":{\"value\":\"#30a2da\"},\"hatch_color\":{\"value\":\"#30a2da\"},\"top\":{\"field\":\"ReceivingYds_2021\"},\"width\":{\"value\":0.8},\"x\":{\"field\":\"Player\"}},\"id\":\"13778\",\"type\":\"VBar\"},{\"attributes\":{\"fill_alpha\":{\"value\":0.1},\"fill_color\":{\"value\":\"#30a2da\"},\"hatch_alpha\":{\"value\":0.1},\"hatch_color\":{\"value\":\"#30a2da\"},\"line_alpha\":{\"value\":0.1},\"top\":{\"field\":\"RushingYds_2021\"},\"width\":{\"value\":0.8},\"x\":{\"field\":\"Player\"}},\"id\":\"13873\",\"type\":\"VBar\"},{\"attributes\":{},\"id\":\"13960\",\"type\":\"UnionRenderers\"},{\"attributes\":{\"coordinates\":null,\"group\":null,\"text_color\":\"black\",\"text_font_size\":\"12pt\"},\"id\":\"13794\",\"type\":\"Title\"},{\"attributes\":{\"fill_color\":{\"value\":\"#30a2da\"},\"hatch_color\":{\"value\":\"#30a2da\"},\"top\":{\"field\":\"RushingYds_2021\"},\"width\":{\"value\":0.8},\"x\":{\"field\":\"Player\"}},\"id\":\"13872\",\"type\":\"VBar\"},{\"attributes\":{\"below\":[{\"id\":\"13802\"}],\"center\":[{\"id\":\"13804\"},{\"id\":\"13808\"}],\"height\":300,\"left\":[{\"id\":\"13805\"}],\"margin\":null,\"min_border_bottom\":10,\"min_border_left\":10,\"min_border_right\":10,\"min_border_top\":10,\"renderers\":[{\"id\":\"13828\"}],\"sizing_mode\":\"fixed\",\"title\":{\"id\":\"13794\"},\"toolbar\":{\"id\":\"13815\"},\"toolbar_location\":null,\"width\":700,\"x_range\":{\"id\":\"13649\"},\"x_scale\":{\"id\":\"13798\"},\"y_range\":{\"id\":\"13791\"},\"y_scale\":{\"id\":\"13800\"}},\"id\":\"13793\",\"subtype\":\"Figure\",\"type\":\"Plot\"},{\"attributes\":{\"bottom\":{\"value\":0},\"fill_alpha\":{\"value\":1.0},\"fill_color\":{\"value\":\"#30a2da\"},\"hatch_alpha\":{\"value\":1.0},\"hatch_color\":{\"value\":\"#30a2da\"},\"hatch_scale\":{\"value\":12.0},\"hatch_weight\":{\"value\":1.0},\"line_alpha\":{\"value\":1.0},\"line_cap\":{\"value\":\"butt\"},\"line_color\":{\"value\":\"black\"},\"line_dash\":{\"value\":[]},\"line_dash_offset\":{\"value\":0},\"line_join\":{\"value\":\"bevel\"},\"line_width\":{\"value\":1},\"top\":{\"field\":\"RushingYds_2021\"},\"width\":{\"value\":0.8},\"x\":{\"field\":\"Player\"}},\"id\":\"13877\",\"type\":\"VBar\"},{\"attributes\":{\"coordinates\":null,\"data_source\":{\"id\":\"13728\"},\"glyph\":{\"id\":\"13731\"},\"group\":null,\"hover_glyph\":null,\"muted_glyph\":{\"id\":\"13733\"},\"nonselection_glyph\":{\"id\":\"13732\"},\"selection_glyph\":{\"id\":\"13736\"},\"view\":{\"id\":\"13735\"}},\"id\":\"13734\",\"type\":\"GlyphRenderer\"},{\"attributes\":{\"axis_label\":\"ReceivingYds_2021\",\"coordinates\":null,\"formatter\":{\"id\":\"13788\"},\"group\":null,\"major_label_policy\":{\"id\":\"13789\"},\"ticker\":{\"id\":\"13759\"}},\"id\":\"13758\",\"type\":\"LinearAxis\"},{\"attributes\":{\"axis\":{\"id\":\"13805\"},\"coordinates\":null,\"dimension\":1,\"grid_line_color\":null,\"group\":null,\"ticker\":null},\"id\":\"13808\",\"type\":\"Grid\"},{\"attributes\":{\"margin\":[5,5,5,5],\"name\":\"HSpacer15286\",\"sizing_mode\":\"stretch_width\"},\"id\":\"14541\",\"type\":\"Spacer\"},{\"attributes\":{},\"id\":\"13759\",\"type\":\"BasicTicker\"},{\"attributes\":{},\"id\":\"13764\",\"type\":\"WheelZoomTool\"},{\"attributes\":{\"source\":{\"id\":\"13869\"}},\"id\":\"13876\",\"type\":\"CDSView\"},{\"attributes\":{\"callback\":null,\"renderers\":[{\"id\":\"13828\"}],\"tags\":[\"hv_created\"],\"tooltips\":[[\"Player\",\"@{Player}\"],[\"RushingTD_2021\",\"@{RushingTD_2021}\"]]},\"id\":\"13792\",\"type\":\"HoverTool\"},{\"attributes\":{\"bottom\":{\"value\":0},\"fill_alpha\":{\"value\":1.0},\"fill_color\":{\"value\":\"#30a2da\"},\"hatch_alpha\":{\"value\":1.0},\"hatch_color\":{\"value\":\"#30a2da\"},\"hatch_scale\":{\"value\":12.0},\"hatch_weight\":{\"value\":1.0},\"line_alpha\":{\"value\":1.0},\"line_cap\":{\"value\":\"butt\"},\"line_color\":{\"value\":\"black\"},\"line_dash\":{\"value\":[]},\"line_dash_offset\":{\"value\":0},\"line_join\":{\"value\":\"bevel\"},\"line_width\":{\"value\":1},\"top\":{\"field\":\"Rec_2021\"},\"width\":{\"value\":0.8},\"x\":{\"field\":\"Player\"}},\"id\":\"13736\",\"type\":\"VBar\"},{\"attributes\":{},\"id\":\"13762\",\"type\":\"SaveTool\"},{\"attributes\":{\"axis_label\":\"Player\",\"coordinates\":null,\"formatter\":{\"id\":\"13691\"},\"group\":null,\"major_label_orientation\":0.8726646259971648,\"major_label_policy\":{\"id\":\"13692\"},\"ticker\":{\"id\":\"13662\"}},\"id\":\"13661\",\"type\":\"CategoricalAxis\"},{\"attributes\":{\"fill_alpha\":{\"value\":0.2},\"fill_color\":{\"value\":\"#30a2da\"},\"hatch_alpha\":{\"value\":0.2},\"hatch_color\":{\"value\":\"#30a2da\"},\"line_alpha\":{\"value\":0.2},\"top\":{\"field\":\"RushingYds_2021\"},\"width\":{\"value\":0.8},\"x\":{\"field\":\"Player\"}},\"id\":\"13874\",\"type\":\"VBar\"},{\"attributes\":{\"overlay\":{\"id\":\"13767\"}},\"id\":\"13765\",\"type\":\"BoxZoomTool\"},{\"attributes\":{\"coordinates\":null,\"data_source\":{\"id\":\"13869\"},\"glyph\":{\"id\":\"13872\"},\"group\":null,\"hover_glyph\":null,\"muted_glyph\":{\"id\":\"13874\"},\"nonselection_glyph\":{\"id\":\"13873\"},\"selection_glyph\":{\"id\":\"13877\"},\"view\":{\"id\":\"13876\"}},\"id\":\"13875\",\"type\":\"GlyphRenderer\"},{\"attributes\":{},\"id\":\"13738\",\"type\":\"CategoricalTickFormatter\"},{\"attributes\":{},\"id\":\"13766\",\"type\":\"ResetTool\"},{\"attributes\":{\"axis\":{\"id\":\"13802\"},\"coordinates\":null,\"grid_line_color\":null,\"group\":null,\"ticker\":null},\"id\":\"13804\",\"type\":\"Grid\"},{\"attributes\":{\"fill_color\":{\"value\":\"#30a2da\"},\"hatch_color\":{\"value\":\"#30a2da\"},\"top\":{\"field\":\"RushingTD_2021\"},\"width\":{\"value\":0.8},\"x\":{\"field\":\"Player\"}},\"id\":\"13825\",\"type\":\"VBar\"},{\"attributes\":{\"axis_label\":\"Player\",\"coordinates\":null,\"formatter\":{\"id\":\"13832\"},\"group\":null,\"major_label_orientation\":0.8726646259971648,\"major_label_policy\":{\"id\":\"13833\"},\"ticker\":{\"id\":\"13803\"}},\"id\":\"13802\",\"type\":\"CategoricalAxis\"},{\"attributes\":{\"coordinates\":null,\"group\":null,\"text_color\":\"black\",\"text_font_size\":\"12pt\"},\"id\":\"13653\",\"type\":\"Title\"},{\"attributes\":{\"bottom_units\":\"screen\",\"coordinates\":null,\"fill_alpha\":0.5,\"fill_color\":\"lightgrey\",\"group\":null,\"left_units\":\"screen\",\"level\":\"overlay\",\"line_alpha\":1.0,\"line_color\":\"black\",\"line_dash\":[4,4],\"line_width\":2,\"right_units\":\"screen\",\"syncable\":false,\"top_units\":\"screen\"},\"id\":\"13767\",\"type\":\"BoxAnnotation\"},{\"attributes\":{},\"id\":\"13880\",\"type\":\"AllLabels\"},{\"attributes\":{},\"id\":\"13949\",\"type\":\"UnionRenderers\"},{\"attributes\":{},\"id\":\"13785\",\"type\":\"CategoricalTickFormatter\"},{\"attributes\":{},\"id\":\"13798\",\"type\":\"CategoricalScale\"},{\"attributes\":{},\"id\":\"13810\",\"type\":\"PanTool\"},{\"attributes\":{\"callback\":null,\"renderers\":[{\"id\":\"13781\"}],\"tags\":[\"hv_created\"],\"tooltips\":[[\"Player\",\"@{Player}\"],[\"ReceivingYds_2021\",\"@{ReceivingYds_2021}\"]]},\"id\":\"13745\",\"type\":\"HoverTool\"},{\"attributes\":{},\"id\":\"13803\",\"type\":\"CategoricalTicker\"},{\"attributes\":{},\"id\":\"13776\",\"type\":\"Selection\"},{\"attributes\":{},\"id\":\"13659\",\"type\":\"LinearScale\"},{\"attributes\":{\"callback\":null,\"renderers\":[{\"id\":\"13687\"}],\"tags\":[\"hv_created\"],\"tooltips\":[[\"Player\",\"@{Player}\"],[\"FantasyPoints_2021\",\"@{FantasyPoints_2021}\"]]},\"id\":\"13651\",\"type\":\"HoverTool\"},{\"attributes\":{\"axis_label\":\"RushingTD_2021\",\"coordinates\":null,\"formatter\":{\"id\":\"13835\"},\"group\":null,\"major_label_policy\":{\"id\":\"13836\"},\"ticker\":{\"id\":\"13806\"}},\"id\":\"13805\",\"type\":\"LinearAxis\"},{\"attributes\":{\"axis\":{\"id\":\"13664\"},\"coordinates\":null,\"dimension\":1,\"grid_line_color\":null,\"group\":null,\"ticker\":null},\"id\":\"13667\",\"type\":\"Grid\"},{\"attributes\":{},\"id\":\"13806\",\"type\":\"BasicTicker\"},{\"attributes\":{},\"id\":\"13811\",\"type\":\"WheelZoomTool\"},{\"attributes\":{\"axis\":{\"id\":\"13661\"},\"coordinates\":null,\"grid_line_color\":null,\"group\":null,\"ticker\":null},\"id\":\"13663\",\"type\":\"Grid\"},{\"attributes\":{\"below\":[{\"id\":\"13661\"}],\"center\":[{\"id\":\"13663\"},{\"id\":\"13667\"}],\"height\":300,\"left\":[{\"id\":\"13664\"}],\"margin\":null,\"min_border_bottom\":10,\"min_border_left\":10,\"min_border_right\":10,\"min_border_top\":10,\"renderers\":[{\"id\":\"13687\"}],\"sizing_mode\":\"fixed\",\"title\":{\"id\":\"13653\"},\"toolbar\":{\"id\":\"13674\"},\"toolbar_location\":null,\"width\":700,\"x_range\":{\"id\":\"13649\"},\"x_scale\":{\"id\":\"13657\"},\"y_range\":{\"id\":\"13650\"},\"y_scale\":{\"id\":\"13659\"}},\"id\":\"13652\",\"subtype\":\"Figure\",\"type\":\"Plot\"},{\"attributes\":{},\"id\":\"13809\",\"type\":\"SaveTool\"},{\"attributes\":{\"fill_color\":{\"value\":\"#30a2da\"},\"hatch_color\":{\"value\":\"#30a2da\"},\"top\":{\"field\":\"FantasyPoints_2021\"},\"width\":{\"value\":0.8},\"x\":{\"field\":\"Player\"}},\"id\":\"13684\",\"type\":\"VBar\"},{\"attributes\":{\"overlay\":{\"id\":\"13814\"}},\"id\":\"13812\",\"type\":\"BoxZoomTool\"},{\"attributes\":{},\"id\":\"13813\",\"type\":\"ResetTool\"},{\"attributes\":{\"end\":354.5,\"reset_end\":354.5,\"reset_start\":0.0,\"tags\":[[[\"FantasyPoints_2021\",\"FantasyPoints_2021\",null]]]},\"id\":\"13650\",\"type\":\"Range1d\"},{\"attributes\":{\"coordinates\":null,\"data_source\":{\"id\":\"13775\"},\"glyph\":{\"id\":\"13778\"},\"group\":null,\"hover_glyph\":null,\"muted_glyph\":{\"id\":\"13780\"},\"nonselection_glyph\":{\"id\":\"13779\"},\"selection_glyph\":{\"id\":\"13783\"},\"view\":{\"id\":\"13782\"}},\"id\":\"13781\",\"type\":\"GlyphRenderer\"},{\"attributes\":{\"factors\":[\"Michael Carter\",\"Tony Pollard\",\"Sony Michel\",\"Myles Gaskin\",\"Darrell Henderson\",\"James Robinson\",\"Elijah Mitchell\",\"D'Andre Swift\",\"Darrel Williams\",\"AJ Dillon\",\"David Montgomery\",\"Devin Singletary\",\"Javonte Williams\",\"Melvin Gordon\",\"Josh Jacobs\",\"Dalvin Cook*\",\"Derrick Henry\",\"Aaron Jones\",\"Cordarrelle Patterson\",\"Leonard Fournette\",\"Antonio Gibson\",\"Alvin Kamara*\",\"Damien Harris\",\"Nick Chubb*\",\"Ezekiel Elliott\",\"James Conner*\",\"Najee Harris*\",\"Joe Mixon*\",\"Austin Ekeler\",\"Jonathan Taylor*+\"],\"tags\":[[[\"Player\",\"Player\",null]]]},\"id\":\"13649\",\"type\":\"FactorRange\"},{\"attributes\":{\"tools\":[{\"id\":\"13745\"},{\"id\":\"13762\"},{\"id\":\"13763\"},{\"id\":\"13764\"},{\"id\":\"13765\"},{\"id\":\"13766\"}]},\"id\":\"13768\",\"type\":\"Toolbar\"},{\"attributes\":{\"bottom_units\":\"screen\",\"coordinates\":null,\"fill_alpha\":0.5,\"fill_color\":\"lightgrey\",\"group\":null,\"left_units\":\"screen\",\"level\":\"overlay\",\"line_alpha\":1.0,\"line_color\":\"black\",\"line_dash\":[4,4],\"line_width\":2,\"right_units\":\"screen\",\"syncable\":false,\"top_units\":\"screen\"},\"id\":\"13814\",\"type\":\"BoxAnnotation\"},{\"attributes\":{},\"id\":\"13657\",\"type\":\"CategoricalScale\"},{\"attributes\":{\"axis\":{\"id\":\"13755\"},\"coordinates\":null,\"grid_line_color\":null,\"group\":null,\"ticker\":null},\"id\":\"13757\",\"type\":\"Grid\"},{\"attributes\":{\"data\":{\"Player\":[\"Darrel Williams\",\"Myles Gaskin\",\"D'Andre Swift\",\"Cordarrelle Patterson\",\"Michael Carter\",\"Darrell Henderson\",\"Tony Pollard\",\"James Conner*\",\"James Robinson\",\"Aaron Jones\",\"AJ Dillon\",\"Leonard Fournette\",\"Sony Michel\",\"David Montgomery\",\"Devin Singletary\",\"Josh Jacobs\",\"Alvin Kamara*\",\"Javonte Williams\",\"Austin Ekeler\",\"Melvin Gordon\",\"Damien Harris\",\"Derrick Henry\",\"Elijah Mitchell\",\"Ezekiel Elliott\",\"Antonio Gibson\",\"Dalvin Cook*\",\"Najee Harris*\",\"Joe Mixon*\",\"Nick Chubb*\",\"Jonathan Taylor*+\"],\"RushingYds_2021\":{\"__ndarray__\":\"AAAAAABwgUAAAAAAACCDQAAAAAAASINAAAAAAABQg0AAAAAAAPiDQAAAAAAAgIVAAAAAAAB4hkAAAAAAAICHQAAAAAAA+IdAAAAAAAD4iEAAAAAAABiJQAAAAAAAYIlAAAAAAABoikAAAAAAAIiKQAAAAAAAMItAAAAAAABAi0AAAAAAABCMQAAAAAAAOIxAAAAAAAB4jEAAAAAAALCMQAAAAAAACI1AAAAAAABIjUAAAAAAABiOQAAAAAAAUI9AAAAAAAA0kEAAAAAAABySQAAAAAAAwJJAAAAAAADUkkAAAAAAAKyTQAAAAAAATJxA\",\"dtype\":\"float64\",\"order\":\"little\",\"shape\":[30]}},\"selected\":{\"id\":\"13870\"},\"selection_policy\":{\"id\":\"13982\"}},\"id\":\"13869\",\"type\":\"ColumnDataSource\"},{\"attributes\":{},\"id\":\"13669\",\"type\":\"PanTool\"},{\"attributes\":{\"children\":[{\"id\":\"13648\"},{\"id\":\"14000\"},{\"id\":\"14541\"}],\"margin\":[0,0,0,0],\"name\":\"Row15281\",\"tags\":[\"embedded\"]},\"id\":\"13647\",\"type\":\"Row\"},{\"attributes\":{},\"id\":\"13662\",\"type\":\"CategoricalTicker\"},{\"attributes\":{\"axis_label\":\"FantasyPoints_2021\",\"coordinates\":null,\"formatter\":{\"id\":\"13694\"},\"group\":null,\"major_label_policy\":{\"id\":\"13695\"},\"ticker\":{\"id\":\"13665\"}},\"id\":\"13664\",\"type\":\"LinearAxis\"},{\"attributes\":{},\"id\":\"13665\",\"type\":\"BasicTicker\"},{\"attributes\":{},\"id\":\"13789\",\"type\":\"AllLabels\"},{\"attributes\":{},\"id\":\"13670\",\"type\":\"WheelZoomTool\"},{\"attributes\":{\"fill_alpha\":{\"value\":0.1},\"fill_color\":{\"value\":\"#30a2da\"},\"hatch_alpha\":{\"value\":0.1},\"hatch_color\":{\"value\":\"#30a2da\"},\"line_alpha\":{\"value\":0.1},\"top\":{\"field\":\"RushingTD_2021\"},\"width\":{\"value\":0.8},\"x\":{\"field\":\"Player\"}},\"id\":\"13826\",\"type\":\"VBar\"},{\"attributes\":{},\"id\":\"13668\",\"type\":\"SaveTool\"},{\"attributes\":{},\"id\":\"13832\",\"type\":\"CategoricalTickFormatter\"},{\"attributes\":{\"overlay\":{\"id\":\"13673\"}},\"id\":\"13671\",\"type\":\"BoxZoomTool\"},{\"attributes\":{\"coordinates\":null,\"data_source\":{\"id\":\"13822\"},\"glyph\":{\"id\":\"13825\"},\"group\":null,\"hover_glyph\":null,\"muted_glyph\":{\"id\":\"13827\"},\"nonselection_glyph\":{\"id\":\"13826\"},\"selection_glyph\":{\"id\":\"13830\"},\"view\":{\"id\":\"13829\"}},\"id\":\"13828\",\"type\":\"GlyphRenderer\"},{\"attributes\":{},\"id\":\"13879\",\"type\":\"CategoricalTickFormatter\"},{\"attributes\":{},\"id\":\"13672\",\"type\":\"ResetTool\"},{\"attributes\":{},\"id\":\"13786\",\"type\":\"AllLabels\"},{\"attributes\":{},\"id\":\"13883\",\"type\":\"AllLabels\"},{\"attributes\":{},\"id\":\"13788\",\"type\":\"BasicTickFormatter\"},{\"attributes\":{},\"id\":\"13756\",\"type\":\"CategoricalTicker\"},{\"attributes\":{\"bottom_units\":\"screen\",\"coordinates\":null,\"fill_alpha\":0.5,\"fill_color\":\"lightgrey\",\"group\":null,\"left_units\":\"screen\",\"level\":\"overlay\",\"line_alpha\":1.0,\"line_color\":\"black\",\"line_dash\":[4,4],\"line_width\":2,\"right_units\":\"screen\",\"syncable\":false,\"top_units\":\"screen\"},\"id\":\"13673\",\"type\":\"BoxAnnotation\"},{\"attributes\":{},\"id\":\"13882\",\"type\":\"BasicTickFormatter\"},{\"attributes\":{\"children\":[[{\"id\":\"13652\"},0,0],[{\"id\":\"13699\"},0,1],[{\"id\":\"13746\"},0,2],[{\"id\":\"13793\"},0,3],[{\"id\":\"13840\"},1,0],[{\"id\":\"13887\"},1,1]]},\"id\":\"13997\",\"type\":\"GridBox\"},{\"attributes\":{\"end\":698.9,\"reset_end\":698.9,\"reset_start\":0.0,\"tags\":[[[\"ReceivingYds_2021\",\"ReceivingYds_2021\",null]]]},\"id\":\"13744\",\"type\":\"Range1d\"},{\"attributes\":{\"overlay\":{\"id\":\"13720\"}},\"id\":\"13718\",\"type\":\"BoxZoomTool\"},{\"attributes\":{\"end\":19.6,\"reset_end\":19.6,\"reset_start\":0.0,\"tags\":[[[\"RushingTD_2021\",\"RushingTD_2021\",null]]]},\"id\":\"13791\",\"type\":\"Range1d\"},{\"attributes\":{\"coordinates\":null,\"data_source\":{\"id\":\"13681\"},\"glyph\":{\"id\":\"13684\"},\"group\":null,\"hover_glyph\":null,\"muted_glyph\":{\"id\":\"13686\"},\"nonselection_glyph\":{\"id\":\"13685\"},\"selection_glyph\":{\"id\":\"13689\"},\"view\":{\"id\":\"13688\"}},\"id\":\"13687\",\"type\":\"GlyphRenderer\"},{\"attributes\":{\"coordinates\":null,\"group\":null,\"text_color\":\"black\",\"text_font_size\":\"12pt\"},\"id\":\"13747\",\"type\":\"Title\"},{\"attributes\":{},\"id\":\"13729\",\"type\":\"Selection\"},{\"attributes\":{\"source\":{\"id\":\"13822\"}},\"id\":\"13829\",\"type\":\"CDSView\"},{\"attributes\":{\"end\":101.4,\"reset_end\":101.4,\"reset_start\":0.0,\"tags\":[[[\"Tgt_2021\",\"Tgt_2021\",null]]]},\"id\":\"13885\",\"type\":\"Range1d\"},{\"attributes\":{},\"id\":\"13892\",\"type\":\"CategoricalScale\"},{\"attributes\":{\"fill_alpha\":{\"value\":0.2},\"fill_color\":{\"value\":\"#30a2da\"},\"hatch_alpha\":{\"value\":0.2},\"hatch_color\":{\"value\":\"#30a2da\"},\"line_alpha\":{\"value\":0.2},\"top\":{\"field\":\"RushingTD_2021\"},\"width\":{\"value\":0.8},\"x\":{\"field\":\"Player\"}},\"id\":\"13827\",\"type\":\"VBar\"},{\"attributes\":{\"axis\":{\"id\":\"13899\"},\"coordinates\":null,\"dimension\":1,\"grid_line_color\":null,\"group\":null,\"ticker\":null},\"id\":\"13902\",\"type\":\"Grid\"},{\"attributes\":{\"axis_label\":\"Player\",\"coordinates\":null,\"formatter\":{\"id\":\"13785\"},\"group\":null,\"major_label_orientation\":0.8726646259971648,\"major_label_policy\":{\"id\":\"13786\"},\"ticker\":{\"id\":\"13756\"}},\"id\":\"13755\",\"type\":\"CategoricalAxis\"},{\"attributes\":{\"coordinates\":null,\"group\":null,\"text_color\":\"black\",\"text_font_size\":\"12pt\"},\"id\":\"13888\",\"type\":\"Title\"},{\"attributes\":{\"below\":[{\"id\":\"13896\"}],\"center\":[{\"id\":\"13898\"},{\"id\":\"13902\"}],\"height\":300,\"left\":[{\"id\":\"13899\"}],\"margin\":null,\"min_border_bottom\":10,\"min_border_left\":10,\"min_border_right\":10,\"min_border_top\":10,\"renderers\":[{\"id\":\"13922\"}],\"sizing_mode\":\"fixed\",\"title\":{\"id\":\"13888\"},\"toolbar\":{\"id\":\"13909\"},\"toolbar_location\":null,\"width\":700,\"x_range\":{\"id\":\"13649\"},\"x_scale\":{\"id\":\"13892\"},\"y_range\":{\"id\":\"13885\"},\"y_scale\":{\"id\":\"13894\"}},\"id\":\"13887\",\"subtype\":\"Figure\",\"type\":\"Plot\"},{\"attributes\":{\"data\":{\"Player\":[\"Damien Harris\",\"Derrick Henry\",\"Elijah Mitchell\",\"Nick Chubb*\",\"Sony Michel\",\"Melvin Gordon\",\"Darrell Henderson\",\"James Robinson\",\"Dalvin Cook*\",\"AJ Dillon\",\"Michael Carter\",\"James Conner*\",\"Tony Pollard\",\"Jonathan Taylor*+\",\"Devin Singletary\",\"Joe Mixon*\",\"Antonio Gibson\",\"David Montgomery\",\"Javonte Williams\",\"Darrel Williams\",\"Ezekiel Elliott\",\"Alvin Kamara*\",\"Myles Gaskin\",\"Aaron Jones\",\"Cordarrelle Patterson\",\"Josh Jacobs\",\"D'Andre Swift\",\"Leonard Fournette\",\"Austin Ekeler\",\"Najee Harris*\"],\"Rec_2021\":{\"__ndarray__\":\"AAAAAAAAMkAAAAAAAAAyQAAAAAAAADNAAAAAAAAANEAAAAAAAAA1QAAAAAAAADxAAAAAAAAAPUAAAAAAAAA/QAAAAAAAAEFAAAAAAAAAQUAAAAAAAABCQAAAAAAAgEJAAAAAAACAQ0AAAAAAAABEQAAAAAAAAERAAAAAAAAARUAAAAAAAABFQAAAAAAAAEVAAAAAAACARUAAAAAAAIBHQAAAAAAAgEdAAAAAAACAR0AAAAAAAIBIQAAAAAAAAEpAAAAAAAAASkAAAAAAAABLQAAAAAAAAE9AAAAAAABAUUAAAAAAAIBRQAAAAAAAgFJA\",\"dtype\":\"float64\",\"order\":\"little\",\"shape\":[30]}},\"selected\":{\"id\":\"13729\"},\"selection_policy\":{\"id\":\"13949\"}},\"id\":\"13728\",\"type\":\"ColumnDataSource\"},{\"attributes\":{},\"id\":\"13719\",\"type\":\"ResetTool\"},{\"attributes\":{\"callback\":null,\"renderers\":[{\"id\":\"13922\"}],\"tags\":[\"hv_created\"],\"tooltips\":[[\"Player\",\"@{Player}\"],[\"Tgt_2021\",\"@{Tgt_2021}\"]]},\"id\":\"13886\",\"type\":\"HoverTool\"},{\"attributes\":{},\"id\":\"13753\",\"type\":\"LinearScale\"},{\"attributes\":{\"tools\":[{\"id\":\"13651\"},{\"id\":\"13668\"},{\"id\":\"13669\"},{\"id\":\"13670\"},{\"id\":\"13671\"},{\"id\":\"13672\"}]},\"id\":\"13674\",\"type\":\"Toolbar\"},{\"attributes\":{},\"id\":\"13894\",\"type\":\"LinearScale\"},{\"attributes\":{\"fill_alpha\":{\"value\":0.2},\"fill_color\":{\"value\":\"#30a2da\"},\"hatch_alpha\":{\"value\":0.2},\"hatch_color\":{\"value\":\"#30a2da\"},\"line_alpha\":{\"value\":0.2},\"top\":{\"field\":\"ReceivingYds_2021\"},\"width\":{\"value\":0.8},\"x\":{\"field\":\"Player\"}},\"id\":\"13780\",\"type\":\"VBar\"},{\"attributes\":{\"bottom\":{\"value\":0},\"fill_alpha\":{\"value\":1.0},\"fill_color\":{\"value\":\"#30a2da\"},\"hatch_alpha\":{\"value\":1.0},\"hatch_color\":{\"value\":\"#30a2da\"},\"hatch_scale\":{\"value\":12.0},\"hatch_weight\":{\"value\":1.0},\"line_alpha\":{\"value\":1.0},\"line_cap\":{\"value\":\"butt\"},\"line_color\":{\"value\":\"black\"},\"line_dash\":{\"value\":[]},\"line_dash_offset\":{\"value\":0},\"line_join\":{\"value\":\"bevel\"},\"line_width\":{\"value\":1},\"top\":{\"field\":\"ReceivingYds_2021\"},\"width\":{\"value\":0.8},\"x\":{\"field\":\"Player\"}},\"id\":\"13783\",\"type\":\"VBar\"},{\"attributes\":{},\"id\":\"13751\",\"type\":\"CategoricalScale\"},{\"attributes\":{\"below\":[{\"id\":\"13755\"}],\"center\":[{\"id\":\"13757\"},{\"id\":\"13761\"}],\"height\":300,\"left\":[{\"id\":\"13758\"}],\"margin\":null,\"min_border_bottom\":10,\"min_border_left\":10,\"min_border_right\":10,\"min_border_top\":10,\"renderers\":[{\"id\":\"13781\"}],\"sizing_mode\":\"fixed\",\"title\":{\"id\":\"13747\"},\"toolbar\":{\"id\":\"13768\"},\"toolbar_location\":null,\"width\":700,\"x_range\":{\"id\":\"13649\"},\"x_scale\":{\"id\":\"13751\"},\"y_range\":{\"id\":\"13744\"},\"y_scale\":{\"id\":\"13753\"}},\"id\":\"13746\",\"subtype\":\"Figure\",\"type\":\"Plot\"},{\"attributes\":{\"bottom\":{\"value\":0},\"fill_alpha\":{\"value\":1.0},\"fill_color\":{\"value\":\"#30a2da\"},\"hatch_alpha\":{\"value\":1.0},\"hatch_color\":{\"value\":\"#30a2da\"},\"hatch_scale\":{\"value\":12.0},\"hatch_weight\":{\"value\":1.0},\"line_alpha\":{\"value\":1.0},\"line_cap\":{\"value\":\"butt\"},\"line_color\":{\"value\":\"black\"},\"line_dash\":{\"value\":[]},\"line_dash_offset\":{\"value\":0},\"line_join\":{\"value\":\"bevel\"},\"line_width\":{\"value\":1},\"top\":{\"field\":\"RushingTD_2021\"},\"width\":{\"value\":0.8},\"x\":{\"field\":\"Player\"}},\"id\":\"13830\",\"type\":\"VBar\"},{\"attributes\":{},\"id\":\"13682\",\"type\":\"Selection\"},{\"attributes\":{\"fill_alpha\":{\"value\":0.2},\"fill_color\":{\"value\":\"#30a2da\"},\"hatch_alpha\":{\"value\":0.2},\"hatch_color\":{\"value\":\"#30a2da\"},\"line_alpha\":{\"value\":0.2},\"top\":{\"field\":\"FantasyPoints_2021\"},\"width\":{\"value\":0.8},\"x\":{\"field\":\"Player\"}},\"id\":\"13686\",\"type\":\"VBar\"},{\"attributes\":{},\"id\":\"13833\",\"type\":\"AllLabels\"},{\"attributes\":{\"source\":{\"id\":\"13681\"}},\"id\":\"13688\",\"type\":\"CDSView\"},{\"attributes\":{\"data\":{\"Player\":[\"Sony Michel\",\"Damien Harris\",\"Elijah Mitchell\",\"Derrick Henry\",\"Nick Chubb*\",\"Darrell Henderson\",\"Melvin Gordon\",\"James Robinson\",\"Dalvin Cook*\",\"Devin Singletary\",\"Myles Gaskin\",\"Ezekiel Elliott\",\"Antonio Gibson\",\"David Montgomery\",\"AJ Dillon\",\"Joe Mixon*\",\"Javonte Williams\",\"Michael Carter\",\"Tony Pollard\",\"Josh Jacobs\",\"Jonathan Taylor*+\",\"James Conner*\",\"Aaron Jones\",\"Alvin Kamara*\",\"Darrel Williams\",\"D'Andre Swift\",\"Leonard Fournette\",\"Najee Harris*\",\"Cordarrelle Patterson\",\"Austin Ekeler\"],\"ReceivingYds_2021\":{\"__ndarray__\":\"AAAAAAAAYEAAAAAAAIBgQAAAAAAAIGFAAAAAAABAY0AAAAAAAMBlQAAAAAAAAGZAAAAAAACgakAAAAAAAMBrQAAAAAAAAGxAAAAAAACAbEAAAAAAAEBtQAAAAAAA8HFAAAAAAABgckAAAAAAANByQAAAAAAAkHNAAAAAAACgc0AAAAAAAMBzQAAAAAAAUHRAAAAAAAAQdUAAAAAAAMB1QAAAAAAAgHZAAAAAAABwd0AAAAAAAHB4QAAAAAAAcHtAAAAAAABAfEAAAAAAAEB8QAAAAAAAYHxAAAAAAAAwfUAAAAAAACCBQAAAAAAAOIRA\",\"dtype\":\"float64\",\"order\":\"little\",\"shape\":[30]}},\"selected\":{\"id\":\"13776\"},\"selection_policy\":{\"id\":\"13960\"}},\"id\":\"13775\",\"type\":\"ColumnDataSource\"},{\"attributes\":{\"end\":1936.3,\"reset_end\":1936.3,\"reset_start\":0.0,\"tags\":[[[\"RushingYds_2021\",\"RushingYds_2021\",null]]]},\"id\":\"13838\",\"type\":\"Range1d\"},{\"attributes\":{\"axis\":{\"id\":\"13896\"},\"coordinates\":null,\"grid_line_color\":null,\"group\":null,\"ticker\":null},\"id\":\"13898\",\"type\":\"Grid\"},{\"attributes\":{},\"id\":\"13742\",\"type\":\"AllLabels\"},{\"attributes\":{\"axis_label\":\"Player\",\"coordinates\":null,\"formatter\":{\"id\":\"13926\"},\"group\":null,\"major_label_orientation\":0.8726646259971648,\"major_label_policy\":{\"id\":\"13927\"},\"ticker\":{\"id\":\"13897\"}},\"id\":\"13896\",\"type\":\"CategoricalAxis\"},{\"attributes\":{},\"id\":\"13993\",\"type\":\"UnionRenderers\"},{\"attributes\":{},\"id\":\"13741\",\"type\":\"BasicTickFormatter\"},{\"attributes\":{\"bottom_units\":\"screen\",\"coordinates\":null,\"fill_alpha\":0.5,\"fill_color\":\"lightgrey\",\"group\":null,\"left_units\":\"screen\",\"level\":\"overlay\",\"line_alpha\":1.0,\"line_color\":\"black\",\"line_dash\":[4,4],\"line_width\":2,\"right_units\":\"screen\",\"syncable\":false,\"top_units\":\"screen\"},\"id\":\"13720\",\"type\":\"BoxAnnotation\"},{\"attributes\":{},\"id\":\"13904\",\"type\":\"PanTool\"},{\"attributes\":{\"fill_alpha\":{\"value\":0.1},\"fill_color\":{\"value\":\"#30a2da\"},\"hatch_alpha\":{\"value\":0.1},\"hatch_color\":{\"value\":\"#30a2da\"},\"line_alpha\":{\"value\":0.1},\"top\":{\"field\":\"FantasyPoints_2021\"},\"width\":{\"value\":0.8},\"x\":{\"field\":\"Player\"}},\"id\":\"13685\",\"type\":\"VBar\"},{\"attributes\":{\"fill_alpha\":{\"value\":0.1},\"fill_color\":{\"value\":\"#30a2da\"},\"hatch_alpha\":{\"value\":0.1},\"hatch_color\":{\"value\":\"#30a2da\"},\"line_alpha\":{\"value\":0.1},\"top\":{\"field\":\"Rec_2021\"},\"width\":{\"value\":0.8},\"x\":{\"field\":\"Player\"}},\"id\":\"13732\",\"type\":\"VBar\"},{\"attributes\":{},\"id\":\"13897\",\"type\":\"CategoricalTicker\"},{\"attributes\":{},\"id\":\"13823\",\"type\":\"Selection\"},{\"attributes\":{},\"id\":\"13739\",\"type\":\"AllLabels\"},{\"attributes\":{\"axis_label\":\"Tgt_2021\",\"coordinates\":null,\"formatter\":{\"id\":\"13929\"},\"group\":null,\"major_label_policy\":{\"id\":\"13930\"},\"ticker\":{\"id\":\"13900\"}},\"id\":\"13899\",\"type\":\"LinearAxis\"},{\"attributes\":{\"fill_color\":{\"value\":\"#30a2da\"},\"hatch_color\":{\"value\":\"#30a2da\"},\"top\":{\"field\":\"Rec_2021\"},\"width\":{\"value\":0.8},\"x\":{\"field\":\"Player\"}},\"id\":\"13731\",\"type\":\"VBar\"},{\"attributes\":{\"tools\":[{\"id\":\"13698\"},{\"id\":\"13715\"},{\"id\":\"13716\"},{\"id\":\"13717\"},{\"id\":\"13718\"},{\"id\":\"13719\"}]},\"id\":\"13721\",\"type\":\"Toolbar\"},{\"attributes\":{},\"id\":\"13900\",\"type\":\"BasicTicker\"},{\"attributes\":{\"source\":{\"id\":\"13775\"}},\"id\":\"13782\",\"type\":\"CDSView\"},{\"attributes\":{\"source\":{\"id\":\"13728\"}},\"id\":\"13735\",\"type\":\"CDSView\"},{\"attributes\":{},\"id\":\"13903\",\"type\":\"SaveTool\"},{\"attributes\":{\"fill_alpha\":{\"value\":0.1},\"fill_color\":{\"value\":\"#30a2da\"},\"hatch_alpha\":{\"value\":0.1},\"hatch_color\":{\"value\":\"#30a2da\"},\"line_alpha\":{\"value\":0.1},\"top\":{\"field\":\"ReceivingYds_2021\"},\"width\":{\"value\":0.8},\"x\":{\"field\":\"Player\"}},\"id\":\"13779\",\"type\":\"VBar\"},{\"attributes\":{},\"id\":\"13971\",\"type\":\"UnionRenderers\"},{\"attributes\":{\"tools\":[{\"id\":\"13792\"},{\"id\":\"13809\"},{\"id\":\"13810\"},{\"id\":\"13811\"},{\"id\":\"13812\"},{\"id\":\"13813\"}]},\"id\":\"13815\",\"type\":\"Toolbar\"},{\"attributes\":{},\"id\":\"13717\",\"type\":\"WheelZoomTool\"},{\"attributes\":{\"fill_alpha\":{\"value\":0.2},\"fill_color\":{\"value\":\"#30a2da\"},\"hatch_alpha\":{\"value\":0.2},\"hatch_color\":{\"value\":\"#30a2da\"},\"line_alpha\":{\"value\":0.2},\"top\":{\"field\":\"Rec_2021\"},\"width\":{\"value\":0.8},\"x\":{\"field\":\"Player\"}},\"id\":\"13733\",\"type\":\"VBar\"},{\"attributes\":{\"bottom\":{\"value\":0},\"fill_alpha\":{\"value\":1.0},\"fill_color\":{\"value\":\"#30a2da\"},\"hatch_alpha\":{\"value\":1.0},\"hatch_color\":{\"value\":\"#30a2da\"},\"hatch_scale\":{\"value\":12.0},\"hatch_weight\":{\"value\":1.0},\"line_alpha\":{\"value\":1.0},\"line_cap\":{\"value\":\"butt\"},\"line_color\":{\"value\":\"black\"},\"line_dash\":{\"value\":[]},\"line_dash_offset\":{\"value\":0},\"line_join\":{\"value\":\"bevel\"},\"line_width\":{\"value\":1},\"top\":{\"field\":\"FantasyPoints_2021\"},\"width\":{\"value\":0.8},\"x\":{\"field\":\"Player\"}},\"id\":\"13689\",\"type\":\"VBar\"},{\"attributes\":{},\"id\":\"13692\",\"type\":\"AllLabels\"},{\"attributes\":{},\"id\":\"13917\",\"type\":\"Selection\"},{\"attributes\":{\"fill_alpha\":{\"value\":0.1},\"fill_color\":{\"value\":\"#30a2da\"},\"hatch_alpha\":{\"value\":0.1},\"hatch_color\":{\"value\":\"#30a2da\"},\"line_alpha\":{\"value\":0.1},\"top\":{\"field\":\"Tgt_2021\"},\"width\":{\"value\":0.8},\"x\":{\"field\":\"Player\"}},\"id\":\"13920\",\"type\":\"VBar\"},{\"attributes\":{},\"id\":\"13927\",\"type\":\"AllLabels\"},{\"attributes\":{\"fill_color\":{\"value\":\"#30a2da\"},\"hatch_color\":{\"value\":\"#30a2da\"},\"top\":{\"field\":\"Tgt_2021\"},\"width\":{\"value\":0.8},\"x\":{\"field\":\"Player\"}},\"id\":\"13919\",\"type\":\"VBar\"},{\"attributes\":{\"end\":79.6,\"reset_end\":79.6,\"reset_start\":0.0,\"tags\":[[[\"Rec_2021\",\"Rec_2021\",null]]]},\"id\":\"13697\",\"type\":\"Range1d\"},{\"attributes\":{\"source\":{\"id\":\"13916\"}},\"id\":\"13923\",\"type\":\"CDSView\"},{\"attributes\":{},\"id\":\"13836\",\"type\":\"AllLabels\"},{\"attributes\":{\"fill_alpha\":{\"value\":0.2},\"fill_color\":{\"value\":\"#30a2da\"},\"hatch_alpha\":{\"value\":0.2},\"hatch_color\":{\"value\":\"#30a2da\"},\"line_alpha\":{\"value\":0.2},\"top\":{\"field\":\"Tgt_2021\"},\"width\":{\"value\":0.8},\"x\":{\"field\":\"Player\"}},\"id\":\"13921\",\"type\":\"VBar\"},{\"attributes\":{},\"id\":\"13938\",\"type\":\"UnionRenderers\"},{\"attributes\":{\"coordinates\":null,\"data_source\":{\"id\":\"13916\"},\"glyph\":{\"id\":\"13919\"},\"group\":null,\"hover_glyph\":null,\"muted_glyph\":{\"id\":\"13921\"},\"nonselection_glyph\":{\"id\":\"13920\"},\"selection_glyph\":{\"id\":\"13924\"},\"view\":{\"id\":\"13923\"}},\"id\":\"13922\",\"type\":\"GlyphRenderer\"},{\"attributes\":{},\"id\":\"13835\",\"type\":\"BasicTickFormatter\"},{\"attributes\":{\"axis\":{\"id\":\"13852\"},\"coordinates\":null,\"dimension\":1,\"grid_line_color\":null,\"group\":null,\"ticker\":null},\"id\":\"13855\",\"type\":\"Grid\"},{\"attributes\":{},\"id\":\"13926\",\"type\":\"CategoricalTickFormatter\"},{\"attributes\":{},\"id\":\"13845\",\"type\":\"CategoricalScale\"},{\"attributes\":{\"coordinates\":null,\"group\":null,\"text_color\":\"black\",\"text_font_size\":\"12pt\"},\"id\":\"13841\",\"type\":\"Title\"},{\"attributes\":{},\"id\":\"13847\",\"type\":\"LinearScale\"},{\"attributes\":{\"below\":[{\"id\":\"13849\"}],\"center\":[{\"id\":\"13851\"},{\"id\":\"13855\"}],\"height\":300,\"left\":[{\"id\":\"13852\"}],\"margin\":null,\"min_border_bottom\":10,\"min_border_left\":10,\"min_border_right\":10,\"min_border_top\":10,\"renderers\":[{\"id\":\"13875\"}],\"sizing_mode\":\"fixed\",\"title\":{\"id\":\"13841\"},\"toolbar\":{\"id\":\"13862\"},\"toolbar_location\":null,\"width\":700,\"x_range\":{\"id\":\"13649\"},\"x_scale\":{\"id\":\"13845\"},\"y_range\":{\"id\":\"13838\"},\"y_scale\":{\"id\":\"13847\"}},\"id\":\"13840\",\"subtype\":\"Figure\",\"type\":\"Plot\"},{\"attributes\":{\"toolbar\":{\"id\":\"13998\"},\"toolbar_location\":\"above\"},\"id\":\"13999\",\"type\":\"ToolbarBox\"},{\"attributes\":{\"callback\":null,\"renderers\":[{\"id\":\"13875\"}],\"tags\":[\"hv_created\"],\"tooltips\":[[\"Player\",\"@{Player}\"],[\"RushingYds_2021\",\"@{RushingYds_2021}\"]]},\"id\":\"13839\",\"type\":\"HoverTool\"},{\"attributes\":{},\"id\":\"13691\",\"type\":\"CategoricalTickFormatter\"},{\"attributes\":{\"children\":[{\"id\":\"13999\"},{\"id\":\"13997\"}]},\"id\":\"14000\",\"type\":\"Column\"},{\"attributes\":{\"axis\":{\"id\":\"13849\"},\"coordinates\":null,\"grid_line_color\":null,\"group\":null,\"ticker\":null},\"id\":\"13851\",\"type\":\"Grid\"},{\"attributes\":{},\"id\":\"13695\",\"type\":\"AllLabels\"},{\"attributes\":{\"axis_label\":\"Player\",\"coordinates\":null,\"formatter\":{\"id\":\"13879\"},\"group\":null,\"major_label_orientation\":0.8726646259971648,\"major_label_policy\":{\"id\":\"13880\"},\"ticker\":{\"id\":\"13850\"}},\"id\":\"13849\",\"type\":\"CategoricalAxis\"},{\"attributes\":{},\"id\":\"13694\",\"type\":\"BasicTickFormatter\"},{\"attributes\":{},\"id\":\"13857\",\"type\":\"PanTool\"},{\"attributes\":{},\"id\":\"13706\",\"type\":\"LinearScale\"},{\"attributes\":{},\"id\":\"13850\",\"type\":\"CategoricalTicker\"},{\"attributes\":{\"below\":[{\"id\":\"13708\"}],\"center\":[{\"id\":\"13710\"},{\"id\":\"13714\"}],\"height\":300,\"left\":[{\"id\":\"13711\"}],\"margin\":null,\"min_border_bottom\":10,\"min_border_left\":10,\"min_border_right\":10,\"min_border_top\":10,\"renderers\":[{\"id\":\"13734\"}],\"sizing_mode\":\"fixed\",\"title\":{\"id\":\"13700\"},\"toolbar\":{\"id\":\"13721\"},\"toolbar_location\":null,\"width\":700,\"x_range\":{\"id\":\"13649\"},\"x_scale\":{\"id\":\"13704\"},\"y_range\":{\"id\":\"13697\"},\"y_scale\":{\"id\":\"13706\"}},\"id\":\"13699\",\"subtype\":\"Figure\",\"type\":\"Plot\"},{\"attributes\":{\"axis_label\":\"RushingYds_2021\",\"coordinates\":null,\"formatter\":{\"id\":\"13882\"},\"group\":null,\"major_label_policy\":{\"id\":\"13883\"},\"ticker\":{\"id\":\"13853\"}},\"id\":\"13852\",\"type\":\"LinearAxis\"},{\"attributes\":{},\"id\":\"13853\",\"type\":\"BasicTicker\"},{\"attributes\":{},\"id\":\"13858\",\"type\":\"WheelZoomTool\"},{\"attributes\":{\"callback\":null,\"renderers\":[{\"id\":\"13734\"}],\"tags\":[\"hv_created\"],\"tooltips\":[[\"Player\",\"@{Player}\"],[\"Rec_2021\",\"@{Rec_2021}\"]]},\"id\":\"13698\",\"type\":\"HoverTool\"},{\"attributes\":{},\"id\":\"13856\",\"type\":\"SaveTool\"},{\"attributes\":{\"overlay\":{\"id\":\"13861\"}},\"id\":\"13859\",\"type\":\"BoxZoomTool\"},{\"attributes\":{\"axis\":{\"id\":\"13711\"},\"coordinates\":null,\"dimension\":1,\"grid_line_color\":null,\"group\":null,\"ticker\":null},\"id\":\"13714\",\"type\":\"Grid\"},{\"attributes\":{},\"id\":\"13860\",\"type\":\"ResetTool\"},{\"attributes\":{\"coordinates\":null,\"group\":null,\"text_color\":\"black\",\"text_font_size\":\"12pt\"},\"id\":\"13700\",\"type\":\"Title\"},{\"attributes\":{\"bottom\":{\"value\":0},\"fill_alpha\":{\"value\":1.0},\"fill_color\":{\"value\":\"#30a2da\"},\"hatch_alpha\":{\"value\":1.0},\"hatch_color\":{\"value\":\"#30a2da\"},\"hatch_scale\":{\"value\":12.0},\"hatch_weight\":{\"value\":1.0},\"line_alpha\":{\"value\":1.0},\"line_cap\":{\"value\":\"butt\"},\"line_color\":{\"value\":\"black\"},\"line_dash\":{\"value\":[]},\"line_dash_offset\":{\"value\":0},\"line_join\":{\"value\":\"bevel\"},\"line_width\":{\"value\":1},\"top\":{\"field\":\"Tgt_2021\"},\"width\":{\"value\":0.8},\"x\":{\"field\":\"Player\"}},\"id\":\"13924\",\"type\":\"VBar\"},{\"attributes\":{\"bottom_units\":\"screen\",\"coordinates\":null,\"fill_alpha\":0.5,\"fill_color\":\"lightgrey\",\"group\":null,\"left_units\":\"screen\",\"level\":\"overlay\",\"line_alpha\":1.0,\"line_color\":\"black\",\"line_dash\":[4,4],\"line_width\":2,\"right_units\":\"screen\",\"syncable\":false,\"top_units\":\"screen\"},\"id\":\"13861\",\"type\":\"BoxAnnotation\"},{\"attributes\":{\"axis\":{\"id\":\"13708\"},\"coordinates\":null,\"grid_line_color\":null,\"group\":null,\"ticker\":null},\"id\":\"13710\",\"type\":\"Grid\"},{\"attributes\":{\"axis_label\":\"Player\",\"coordinates\":null,\"formatter\":{\"id\":\"13738\"},\"group\":null,\"major_label_orientation\":0.8726646259971648,\"major_label_policy\":{\"id\":\"13739\"},\"ticker\":{\"id\":\"13709\"}},\"id\":\"13708\",\"type\":\"CategoricalAxis\"},{\"attributes\":{},\"id\":\"13930\",\"type\":\"AllLabels\"},{\"attributes\":{\"data\":{\"FantasyPoints_2021\":{\"__ndarray__\":\"AAAAAACAXUAAAAAAAABfQAAAAAAAQF9AAAAAAABAX0AAAAAAAMBgQAAAAAAA4GFAAAAAAABAYkAAAAAAAGBiQAAAAAAAoGJAAAAAAAAAY0AAAAAAACBjQAAAAAAAwGNAAAAAAABAZEAAAAAAAOBkQAAAAAAAgGVAAAAAAACAZUAAAAAAAOBlQAAAAAAAIGZAAAAAAADgZkAAAAAAAGBnQAAAAAAAYGdAAAAAAACAZ0AAAAAAAABoQAAAAAAAYGhAAAAAAACgaUAAAAAAAKBrQAAAAAAAYGxAAAAAAADAbkAAAAAAACBxQAAAAAAA0HRA\",\"dtype\":\"float64\",\"order\":\"little\",\"shape\":[30]},\"Player\":[\"Michael Carter\",\"Tony Pollard\",\"Sony Michel\",\"Myles Gaskin\",\"Darrell Henderson\",\"James Robinson\",\"Elijah Mitchell\",\"D'Andre Swift\",\"Darrel Williams\",\"AJ Dillon\",\"David Montgomery\",\"Devin Singletary\",\"Javonte Williams\",\"Melvin Gordon\",\"Josh Jacobs\",\"Dalvin Cook*\",\"Derrick Henry\",\"Aaron Jones\",\"Cordarrelle Patterson\",\"Leonard Fournette\",\"Antonio Gibson\",\"Alvin Kamara*\",\"Damien Harris\",\"Nick Chubb*\",\"Ezekiel Elliott\",\"James Conner*\",\"Najee Harris*\",\"Joe Mixon*\",\"Austin Ekeler\",\"Jonathan Taylor*+\"]},\"selected\":{\"id\":\"13682\"},\"selection_policy\":{\"id\":\"13938\"}},\"id\":\"13681\",\"type\":\"ColumnDataSource\"},{\"attributes\":{},\"id\":\"13704\",\"type\":\"CategoricalScale\"},{\"attributes\":{},\"id\":\"13929\",\"type\":\"BasicTickFormatter\"},{\"attributes\":{\"overlay\":{\"id\":\"13908\"}},\"id\":\"13906\",\"type\":\"BoxZoomTool\"},{\"attributes\":{},\"id\":\"13716\",\"type\":\"PanTool\"},{\"attributes\":{\"toolbars\":[{\"id\":\"13674\"},{\"id\":\"13721\"},{\"id\":\"13768\"},{\"id\":\"13815\"},{\"id\":\"13862\"},{\"id\":\"13909\"}],\"tools\":[{\"id\":\"13651\"},{\"id\":\"13668\"},{\"id\":\"13669\"},{\"id\":\"13670\"},{\"id\":\"13671\"},{\"id\":\"13672\"},{\"id\":\"13698\"},{\"id\":\"13715\"},{\"id\":\"13716\"},{\"id\":\"13717\"},{\"id\":\"13718\"},{\"id\":\"13719\"},{\"id\":\"13745\"},{\"id\":\"13762\"},{\"id\":\"13763\"},{\"id\":\"13764\"},{\"id\":\"13765\"},{\"id\":\"13766\"},{\"id\":\"13792\"},{\"id\":\"13809\"},{\"id\":\"13810\"},{\"id\":\"13811\"},{\"id\":\"13812\"},{\"id\":\"13813\"},{\"id\":\"13839\"},{\"id\":\"13856\"},{\"id\":\"13857\"},{\"id\":\"13858\"},{\"id\":\"13859\"},{\"id\":\"13860\"},{\"id\":\"13886\"},{\"id\":\"13903\"},{\"id\":\"13904\"},{\"id\":\"13905\"},{\"id\":\"13906\"},{\"id\":\"13907\"}]},\"id\":\"13998\",\"type\":\"ProxyToolbar\"},{\"attributes\":{},\"id\":\"13709\",\"type\":\"CategoricalTicker\"},{\"attributes\":{\"axis_label\":\"Rec_2021\",\"coordinates\":null,\"formatter\":{\"id\":\"13741\"},\"group\":null,\"major_label_policy\":{\"id\":\"13742\"},\"ticker\":{\"id\":\"13712\"}},\"id\":\"13711\",\"type\":\"LinearAxis\"},{\"attributes\":{},\"id\":\"13712\",\"type\":\"BasicTicker\"},{\"attributes\":{\"tools\":[{\"id\":\"13886\"},{\"id\":\"13903\"},{\"id\":\"13904\"},{\"id\":\"13905\"},{\"id\":\"13906\"},{\"id\":\"13907\"}]},\"id\":\"13909\",\"type\":\"Toolbar\"},{\"attributes\":{},\"id\":\"13715\",\"type\":\"SaveTool\"},{\"attributes\":{},\"id\":\"13905\",\"type\":\"WheelZoomTool\"},{\"attributes\":{\"tools\":[{\"id\":\"13839\"},{\"id\":\"13856\"},{\"id\":\"13857\"},{\"id\":\"13858\"},{\"id\":\"13859\"},{\"id\":\"13860\"}]},\"id\":\"13862\",\"type\":\"Toolbar\"},{\"attributes\":{\"data\":{\"Player\":[\"Elijah Mitchell\",\"Derrick Henry\",\"Damien Harris\",\"Nick Chubb*\",\"Sony Michel\",\"AJ Dillon\",\"Melvin Gordon\",\"James Conner*\",\"Darrell Henderson\",\"James Robinson\",\"Tony Pollard\",\"Joe Mixon*\",\"Dalvin Cook*\",\"Devin Singletary\",\"David Montgomery\",\"Jonathan Taylor*+\",\"Antonio Gibson\",\"Javonte Williams\",\"Michael Carter\",\"Darrel Williams\",\"Myles Gaskin\",\"Josh Jacobs\",\"Aaron Jones\",\"Ezekiel Elliott\",\"Alvin Kamara*\",\"Cordarrelle Patterson\",\"D'Andre Swift\",\"Leonard Fournette\",\"Najee Harris*\",\"Austin Ekeler\"],\"Tgt_2021\":{\"__ndarray__\":\"AAAAAAAANEAAAAAAAAA0QAAAAAAAADVAAAAAAAAAOUAAAAAAAIBAQAAAAAAAgEJAAAAAAAAAQ0AAAAAAAIBDQAAAAAAAAERAAAAAAAAAR0AAAAAAAABHQAAAAAAAAEhAAAAAAACASEAAAAAAAABJQAAAAAAAgElAAAAAAACASUAAAAAAAABKQAAAAAAAgEpAAAAAAACAS0AAAAAAAIBMQAAAAAAAgE9AAAAAAAAAUEAAAAAAAEBQQAAAAAAAQFBAAAAAAADAUEAAAAAAAEBRQAAAAAAAgFNAAAAAAAAAVUAAAAAAAIBXQAAAAAAAgFdA\",\"dtype\":\"float64\",\"order\":\"little\",\"shape\":[30]}},\"selected\":{\"id\":\"13917\"},\"selection_policy\":{\"id\":\"13993\"}},\"id\":\"13916\",\"type\":\"ColumnDataSource\"},{\"attributes\":{},\"id\":\"13982\",\"type\":\"UnionRenderers\"},{\"attributes\":{},\"id\":\"13907\",\"type\":\"ResetTool\"},{\"attributes\":{\"data\":{\"Player\":[\"Tony Pollard\",\"Myles Gaskin\",\"Michael Carter\",\"Sony Michel\",\"Alvin Kamara*\",\"Javonte Williams\",\"Aaron Jones\",\"Darrell Henderson\",\"Elijah Mitchell\",\"D'Andre Swift\",\"AJ Dillon\",\"Darrel Williams\",\"Dalvin Cook*\",\"Cordarrelle Patterson\",\"Antonio Gibson\",\"Devin Singletary\",\"David Montgomery\",\"Najee Harris*\",\"Nick Chubb*\",\"Leonard Fournette\",\"Melvin Gordon\",\"James Robinson\",\"Josh Jacobs\",\"Derrick Henry\",\"Ezekiel Elliott\",\"Austin Ekeler\",\"Joe Mixon*\",\"Damien Harris\",\"James Conner*\",\"Jonathan Taylor*+\"],\"RushingTD_2021\":{\"__ndarray__\":\"AAAAAAAAAEAAAAAAAAAIQAAAAAAAABBAAAAAAAAAEEAAAAAAAAAQQAAAAAAAABBAAAAAAAAAEEAAAAAAAAAUQAAAAAAAABRAAAAAAAAAFEAAAAAAAAAUQAAAAAAAABhAAAAAAAAAGEAAAAAAAAAYQAAAAAAAABxAAAAAAAAAHEAAAAAAAAAcQAAAAAAAABxAAAAAAAAAIEAAAAAAAAAgQAAAAAAAACBAAAAAAAAAIEAAAAAAAAAiQAAAAAAAACRAAAAAAAAAJEAAAAAAAAAoQAAAAAAAACpAAAAAAAAALkAAAAAAAAAuQAAAAAAAADJA\",\"dtype\":\"float64\",\"order\":\"little\",\"shape\":[30]}},\"selected\":{\"id\":\"13823\"},\"selection_policy\":{\"id\":\"13971\"}},\"id\":\"13822\",\"type\":\"ColumnDataSource\"},{\"attributes\":{\"margin\":[5,5,5,5],\"name\":\"HSpacer15285\",\"sizing_mode\":\"stretch_width\"},\"id\":\"13648\",\"type\":\"Spacer\"},{\"attributes\":{},\"id\":\"13870\",\"type\":\"Selection\"}],\"root_ids\":[\"13647\"]},\"title\":\"Bokeh Application\",\"version\":\"2.4.2\"}};\n",
       "    var render_items = [{\"docid\":\"37bd052a-dff5-431a-ae18-53b47ef0f047\",\"root_ids\":[\"13647\"],\"roots\":{\"13647\":\"adb3084a-2d29-41e1-9734-261db00f5551\"}}];\n",
       "    root.Bokeh.embed.embed_items_notebook(docs_json, render_items);\n",
       "  }\n",
       "  if (root.Bokeh !== undefined && root.Bokeh.Panel !== undefined) {\n",
       "    embed_document(root);\n",
       "  } else {\n",
       "    var attempts = 0;\n",
       "    var timer = setInterval(function(root) {\n",
       "      if (root.Bokeh !== undefined && root.Bokeh.Panel !== undefined) {\n",
       "        clearInterval(timer);\n",
       "        embed_document(root);\n",
       "      } else if (document.readyState == \"complete\") {\n",
       "        attempts++;\n",
       "        if (attempts > 200) {\n",
       "          clearInterval(timer);\n",
       "          console.log(\"Bokeh: ERROR: Unable to run BokehJS code because BokehJS library is missing\");\n",
       "        }\n",
       "      }\n",
       "    }, 25, root)\n",
       "  }\n",
       "})(window);</script>"
      ],
      "text/plain": [
       ":Layout\n",
       "   .Bars.I   :Bars   [Player]   (FantasyPoints_2021)\n",
       "   .Bars.II  :Bars   [Player]   (Rec_2021)\n",
       "   .Bars.III :Bars   [Player]   (ReceivingYds_2021)\n",
       "   .Bars.IV  :Bars   [Player]   (RushingTD_2021)\n",
       "   .Bars.V   :Bars   [Player]   (RushingYds_2021)\n",
       "   .Bars.VI  :Bars   [Player]   (Tgt_2021)"
      ]
     },
     "execution_count": 119,
     "metadata": {
      "application/vnd.holoviews_exec.v0+json": {
       "id": "13647"
      }
     },
     "output_type": "execute_result"
    }
   ],
   "source": [
    "RB_hist_2021"
   ]
  },
  {
   "cell_type": "code",
   "execution_count": 120,
   "metadata": {},
   "outputs": [
    {
     "data": {},
     "metadata": {},
     "output_type": "display_data"
    },
    {
     "data": {
      "application/vnd.holoviews_exec.v0+json": "",
      "text/html": [
       "<div id='14843'>\n",
       "\n",
       "\n",
       "\n",
       "\n",
       "\n",
       "  <div class=\"bk-root\" id=\"09ac563d-ac66-41ed-9f6e-3dd786b4682e\" data-root-id=\"14843\"></div>\n",
       "</div>\n",
       "<script type=\"application/javascript\">(function(root) {\n",
       "  function embed_document(root) {\n",
       "    var docs_json = {\"d0f09012-aee8-40fb-8a6b-b6615e2d64ee\":{\"defs\":[{\"extends\":null,\"module\":null,\"name\":\"ReactiveHTML1\",\"overrides\":[],\"properties\":[]},{\"extends\":null,\"module\":null,\"name\":\"FlexBox1\",\"overrides\":[],\"properties\":[{\"default\":\"flex-start\",\"kind\":null,\"name\":\"align_content\"},{\"default\":\"flex-start\",\"kind\":null,\"name\":\"align_items\"},{\"default\":\"row\",\"kind\":null,\"name\":\"flex_direction\"},{\"default\":\"wrap\",\"kind\":null,\"name\":\"flex_wrap\"},{\"default\":\"flex-start\",\"kind\":null,\"name\":\"justify_content\"}]},{\"extends\":null,\"module\":null,\"name\":\"GridStack1\",\"overrides\":[],\"properties\":[{\"default\":\"warn\",\"kind\":null,\"name\":\"mode\"},{\"default\":null,\"kind\":null,\"name\":\"ncols\"},{\"default\":null,\"kind\":null,\"name\":\"nrows\"},{\"default\":true,\"kind\":null,\"name\":\"allow_resize\"},{\"default\":true,\"kind\":null,\"name\":\"allow_drag\"},{\"default\":[],\"kind\":null,\"name\":\"state\"}]},{\"extends\":null,\"module\":null,\"name\":\"click1\",\"overrides\":[],\"properties\":[{\"default\":\"\",\"kind\":null,\"name\":\"terminal_output\"},{\"default\":\"\",\"kind\":null,\"name\":\"debug_name\"},{\"default\":0,\"kind\":null,\"name\":\"clears\"}]},{\"extends\":null,\"module\":null,\"name\":\"TemplateActions1\",\"overrides\":[],\"properties\":[{\"default\":0,\"kind\":null,\"name\":\"open_modal\"},{\"default\":0,\"kind\":null,\"name\":\"close_modal\"}]},{\"extends\":null,\"module\":null,\"name\":\"MaterialTemplateActions1\",\"overrides\":[],\"properties\":[{\"default\":0,\"kind\":null,\"name\":\"open_modal\"},{\"default\":0,\"kind\":null,\"name\":\"close_modal\"}]}],\"roots\":{\"references\":[{\"attributes\":{\"coordinates\":null,\"group\":null,\"text_color\":\"black\",\"text_font_size\":\"12pt\"},\"id\":\"14849\",\"type\":\"Title\"},{\"attributes\":{\"callback\":null,\"renderers\":[{\"id\":\"14883\"}],\"tags\":[\"hv_created\"],\"tooltips\":[[\"Player\",\"@{Player}\"],[\"yds_per_rush_year_2021\",\"@{yds_per_rush_year_2021}\"]]},\"id\":\"14847\",\"type\":\"HoverTool\"},{\"attributes\":{},\"id\":\"14853\",\"type\":\"CategoricalScale\"},{\"attributes\":{},\"id\":\"14855\",\"type\":\"LinearScale\"},{\"attributes\":{\"axis\":{\"id\":\"14857\"},\"coordinates\":null,\"grid_line_color\":null,\"group\":null,\"ticker\":null},\"id\":\"14859\",\"type\":\"Grid\"},{\"attributes\":{\"coordinates\":null,\"data_source\":{\"id\":\"14877\"},\"glyph\":{\"id\":\"14880\"},\"group\":null,\"hover_glyph\":null,\"muted_glyph\":{\"id\":\"14882\"},\"nonselection_glyph\":{\"id\":\"14881\"},\"selection_glyph\":{\"id\":\"14885\"},\"view\":{\"id\":\"14884\"}},\"id\":\"14883\",\"type\":\"GlyphRenderer\"},{\"attributes\":{\"fill_color\":{\"value\":\"#30a2da\"},\"hatch_color\":{\"value\":\"#30a2da\"},\"top\":{\"field\":\"yds_per_rush_year_2021\"},\"width\":{\"value\":0.8},\"x\":{\"field\":\"Player\"}},\"id\":\"14880\",\"type\":\"VBar\"},{\"attributes\":{\"axis_label\":\"Player\",\"coordinates\":null,\"formatter\":{\"id\":\"14887\"},\"group\":null,\"major_label_orientation\":0.8726646259971648,\"major_label_policy\":{\"id\":\"14888\"},\"ticker\":{\"id\":\"14858\"}},\"id\":\"14857\",\"type\":\"CategoricalAxis\"},{\"attributes\":{\"axis\":{\"id\":\"14860\"},\"coordinates\":null,\"dimension\":1,\"grid_line_color\":null,\"group\":null,\"ticker\":null},\"id\":\"14863\",\"type\":\"Grid\"},{\"attributes\":{\"below\":[{\"id\":\"14857\"}],\"center\":[{\"id\":\"14859\"},{\"id\":\"14863\"}],\"height\":300,\"left\":[{\"id\":\"14860\"}],\"margin\":[5,5,5,5],\"min_border_bottom\":10,\"min_border_left\":10,\"min_border_right\":10,\"min_border_top\":10,\"renderers\":[{\"id\":\"14883\"}],\"sizing_mode\":\"fixed\",\"title\":{\"id\":\"14849\"},\"toolbar\":{\"id\":\"14870\"},\"width\":700,\"x_range\":{\"id\":\"14845\"},\"x_scale\":{\"id\":\"14853\"},\"y_range\":{\"id\":\"14846\"},\"y_scale\":{\"id\":\"14855\"}},\"id\":\"14848\",\"subtype\":\"Figure\",\"type\":\"Plot\"},{\"attributes\":{\"margin\":[5,5,5,5],\"name\":\"HSpacer16002\",\"sizing_mode\":\"stretch_width\"},\"id\":\"14844\",\"type\":\"Spacer\"},{\"attributes\":{},\"id\":\"14865\",\"type\":\"PanTool\"},{\"attributes\":{},\"id\":\"14858\",\"type\":\"CategoricalTicker\"},{\"attributes\":{\"axis_label\":\"yds_per_rush_year_2021\",\"coordinates\":null,\"formatter\":{\"id\":\"14890\"},\"group\":null,\"major_label_policy\":{\"id\":\"14891\"},\"ticker\":{\"id\":\"14861\"}},\"id\":\"14860\",\"type\":\"LinearAxis\"},{\"attributes\":{},\"id\":\"14891\",\"type\":\"AllLabels\"},{\"attributes\":{},\"id\":\"14861\",\"type\":\"BasicTicker\"},{\"attributes\":{\"fill_alpha\":{\"value\":0.2},\"fill_color\":{\"value\":\"#30a2da\"},\"hatch_alpha\":{\"value\":0.2},\"hatch_color\":{\"value\":\"#30a2da\"},\"line_alpha\":{\"value\":0.2},\"top\":{\"field\":\"yds_per_rush_year_2021\"},\"width\":{\"value\":0.8},\"x\":{\"field\":\"Player\"}},\"id\":\"14882\",\"type\":\"VBar\"},{\"attributes\":{},\"id\":\"14866\",\"type\":\"WheelZoomTool\"},{\"attributes\":{},\"id\":\"14890\",\"type\":\"BasicTickFormatter\"},{\"attributes\":{\"children\":[{\"id\":\"14844\"},{\"id\":\"14848\"},{\"id\":\"14912\"}],\"margin\":[0,0,0,0],\"name\":\"Row15998\",\"tags\":[\"embedded\"]},\"id\":\"14843\",\"type\":\"Row\"},{\"attributes\":{},\"id\":\"14864\",\"type\":\"SaveTool\"},{\"attributes\":{\"source\":{\"id\":\"14877\"}},\"id\":\"14884\",\"type\":\"CDSView\"},{\"attributes\":{},\"id\":\"14899\",\"type\":\"UnionRenderers\"},{\"attributes\":{\"overlay\":{\"id\":\"14869\"}},\"id\":\"14867\",\"type\":\"BoxZoomTool\"},{\"attributes\":{},\"id\":\"14868\",\"type\":\"ResetTool\"},{\"attributes\":{\"bottom_units\":\"screen\",\"coordinates\":null,\"fill_alpha\":0.5,\"fill_color\":\"lightgrey\",\"group\":null,\"left_units\":\"screen\",\"level\":\"overlay\",\"line_alpha\":1.0,\"line_color\":\"black\",\"line_dash\":[4,4],\"line_width\":2,\"right_units\":\"screen\",\"syncable\":false,\"top_units\":\"screen\"},\"id\":\"14869\",\"type\":\"BoxAnnotation\"},{\"attributes\":{\"factors\":[\"Myles Gaskin\",\"Chuba Hubbard\",\"Mike Davis\",\"Saquon Barkley\",\"Alexander Mattison\",\"James Conner*\",\"Alvin Kamara*\",\"David Montgomery\",\"Darrel Williams\",\"Najee Harris*\",\"Josh Jacobs\",\"Antonio Gibson\",\"Cordarrelle Patterson\",\"Sony Michel\",\"D'Andre Swift\",\"Devontae Booker\",\"Joe Mixon*\",\"Ezekiel Elliott\",\"Derrick Henry\",\"AJ Dillon\",\"Devonta Freeman\",\"Clyde Edwards-Helaire\",\"Michael Carter\",\"Austin Ekeler\",\"Javonte Williams\",\"Leonard Fournette\",\"Melvin Gordon\",\"Rhamondre Stevenson\",\"Damien Harris\",\"Darrell Henderson\",\"Devin Singletary\",\"Elijah Mitchell\",\"Dalvin Cook*\",\"Aaron Jones\",\"James Robinson\",\"Chase Edmonds\",\"Jonathan Taylor*+\",\"Nick Chubb*\",\"Tony Pollard\",\"Rashaad Penny\"],\"tags\":[[[\"Player\",\"Player\",null]]]},\"id\":\"14845\",\"type\":\"FactorRange\"},{\"attributes\":{},\"id\":\"14887\",\"type\":\"CategoricalTickFormatter\"},{\"attributes\":{\"data\":{\"Player\":[\"Myles Gaskin\",\"Chuba Hubbard\",\"Mike Davis\",\"Saquon Barkley\",\"Alexander Mattison\",\"James Conner*\",\"Alvin Kamara*\",\"David Montgomery\",\"Darrel Williams\",\"Najee Harris*\",\"Josh Jacobs\",\"Antonio Gibson\",\"Cordarrelle Patterson\",\"Sony Michel\",\"D'Andre Swift\",\"Devontae Booker\",\"Joe Mixon*\",\"Ezekiel Elliott\",\"Derrick Henry\",\"AJ Dillon\",\"Devonta Freeman\",\"Clyde Edwards-Helaire\",\"Michael Carter\",\"Austin Ekeler\",\"Javonte Williams\",\"Leonard Fournette\",\"Melvin Gordon\",\"Rhamondre Stevenson\",\"Damien Harris\",\"Darrell Henderson\",\"Devin Singletary\",\"Elijah Mitchell\",\"Dalvin Cook*\",\"Aaron Jones\",\"James Robinson\",\"Chase Edmonds\",\"Jonathan Taylor*+\",\"Nick Chubb*\",\"Tony Pollard\",\"Rashaad Penny\"],\"yds_per_rush_year_2021\":{\"__ndarray__\":\"AducrvJMDEAecUfcEXcMQBM/o8TPKA1A4OnW/LBIDUDhV2MiPVANQCkw6dQ8yA1A7+7u7u7uDUAwlvxiyS8OQAAAAAAAAA9AjEizMzZFD0CBS8Al4BIQQIU9YU/YExBAKCgoKCgoEEAAAAAAAEAQQKNgUbAoWBBA6bzFkM5bEEAcOHDgwIEQQNORPQNR6RBA1FFORzkdEUAtLS0tLS0RQCwVsVTEUhFAhc5ghc5gEUBZHxrrQ2MRQFxtDE13sBFAjbDc0wjLEUC2YAu2YAsSQMOP6hKzFhJAnKNvjr45EkBC7vrZYmUSQKKajrlEeBJAYnIFMbmCEkDqTW9605sSQLH0Ik5UnhJACusprKewEkC1K1G7ErUSQOaeRljuaRRAlxUDJbzRFUBnMZ3FdBYWQPiBH/iBHxZALS0tLS0tGUA=\",\"dtype\":\"float64\",\"order\":\"little\",\"shape\":[40]}},\"selected\":{\"id\":\"14878\"},\"selection_policy\":{\"id\":\"14899\"}},\"id\":\"14877\",\"type\":\"ColumnDataSource\"},{\"attributes\":{},\"id\":\"14878\",\"type\":\"Selection\"},{\"attributes\":{\"margin\":[5,5,5,5],\"name\":\"HSpacer16003\",\"sizing_mode\":\"stretch_width\"},\"id\":\"14912\",\"type\":\"Spacer\"},{\"attributes\":{\"end\":6.569772186331179,\"reset_end\":6.569772186331179,\"reset_start\":0.0,\"tags\":[[[\"yds_per_rush_year_2021\",\"yds_per_rush_year_2021\",null]]]},\"id\":\"14846\",\"type\":\"Range1d\"},{\"attributes\":{\"bottom\":{\"value\":0},\"fill_alpha\":{\"value\":1.0},\"fill_color\":{\"value\":\"#30a2da\"},\"hatch_alpha\":{\"value\":1.0},\"hatch_color\":{\"value\":\"#30a2da\"},\"hatch_scale\":{\"value\":12.0},\"hatch_weight\":{\"value\":1.0},\"line_alpha\":{\"value\":1.0},\"line_cap\":{\"value\":\"butt\"},\"line_color\":{\"value\":\"black\"},\"line_dash\":{\"value\":[]},\"line_dash_offset\":{\"value\":0},\"line_join\":{\"value\":\"bevel\"},\"line_width\":{\"value\":1},\"top\":{\"field\":\"yds_per_rush_year_2021\"},\"width\":{\"value\":0.8},\"x\":{\"field\":\"Player\"}},\"id\":\"14885\",\"type\":\"VBar\"},{\"attributes\":{\"tools\":[{\"id\":\"14847\"},{\"id\":\"14864\"},{\"id\":\"14865\"},{\"id\":\"14866\"},{\"id\":\"14867\"},{\"id\":\"14868\"}]},\"id\":\"14870\",\"type\":\"Toolbar\"},{\"attributes\":{\"fill_alpha\":{\"value\":0.1},\"fill_color\":{\"value\":\"#30a2da\"},\"hatch_alpha\":{\"value\":0.1},\"hatch_color\":{\"value\":\"#30a2da\"},\"line_alpha\":{\"value\":0.1},\"top\":{\"field\":\"yds_per_rush_year_2021\"},\"width\":{\"value\":0.8},\"x\":{\"field\":\"Player\"}},\"id\":\"14881\",\"type\":\"VBar\"},{\"attributes\":{},\"id\":\"14888\",\"type\":\"AllLabels\"}],\"root_ids\":[\"14843\"]},\"title\":\"Bokeh Application\",\"version\":\"2.4.2\"}};\n",
       "    var render_items = [{\"docid\":\"d0f09012-aee8-40fb-8a6b-b6615e2d64ee\",\"root_ids\":[\"14843\"],\"roots\":{\"14843\":\"09ac563d-ac66-41ed-9f6e-3dd786b4682e\"}}];\n",
       "    root.Bokeh.embed.embed_items_notebook(docs_json, render_items);\n",
       "  }\n",
       "  if (root.Bokeh !== undefined && root.Bokeh.Panel !== undefined) {\n",
       "    embed_document(root);\n",
       "  } else {\n",
       "    var attempts = 0;\n",
       "    var timer = setInterval(function(root) {\n",
       "      if (root.Bokeh !== undefined && root.Bokeh.Panel !== undefined) {\n",
       "        clearInterval(timer);\n",
       "        embed_document(root);\n",
       "      } else if (document.readyState == \"complete\") {\n",
       "        attempts++;\n",
       "        if (attempts > 200) {\n",
       "          clearInterval(timer);\n",
       "          console.log(\"Bokeh: ERROR: Unable to run BokehJS code because BokehJS library is missing\");\n",
       "        }\n",
       "      }\n",
       "    }, 25, root)\n",
       "  }\n",
       "})(window);</script>"
      ],
      "text/plain": [
       ":Bars   [Player]   (yds_per_rush_year_2021)"
      ]
     },
     "execution_count": 120,
     "metadata": {
      "application/vnd.holoviews_exec.v0+json": {
       "id": "14843"
      }
     },
     "output_type": "execute_result"
    }
   ],
   "source": [
    "rush_attempt(RB_df, 'RushingYds_2021', 'RushingAtt_2021', 'yds_per_rush_year_2021')"
   ]
  },
  {
   "cell_type": "code",
   "execution_count": 121,
   "metadata": {},
   "outputs": [
    {
     "data": {},
     "metadata": {},
     "output_type": "display_data"
    },
    {
     "data": {
      "application/vnd.holoviews_exec.v0+json": "",
      "text/html": [
       "<div id='14964'>\n",
       "\n",
       "\n",
       "\n",
       "\n",
       "\n",
       "  <div class=\"bk-root\" id=\"6b48ede4-61e3-42fe-ace3-0faceaf63665\" data-root-id=\"14964\"></div>\n",
       "</div>\n",
       "<script type=\"application/javascript\">(function(root) {\n",
       "  function embed_document(root) {\n",
       "    var docs_json = {\"6e975187-1f8d-4366-8a57-07d105827b7e\":{\"defs\":[{\"extends\":null,\"module\":null,\"name\":\"ReactiveHTML1\",\"overrides\":[],\"properties\":[]},{\"extends\":null,\"module\":null,\"name\":\"FlexBox1\",\"overrides\":[],\"properties\":[{\"default\":\"flex-start\",\"kind\":null,\"name\":\"align_content\"},{\"default\":\"flex-start\",\"kind\":null,\"name\":\"align_items\"},{\"default\":\"row\",\"kind\":null,\"name\":\"flex_direction\"},{\"default\":\"wrap\",\"kind\":null,\"name\":\"flex_wrap\"},{\"default\":\"flex-start\",\"kind\":null,\"name\":\"justify_content\"}]},{\"extends\":null,\"module\":null,\"name\":\"GridStack1\",\"overrides\":[],\"properties\":[{\"default\":\"warn\",\"kind\":null,\"name\":\"mode\"},{\"default\":null,\"kind\":null,\"name\":\"ncols\"},{\"default\":null,\"kind\":null,\"name\":\"nrows\"},{\"default\":true,\"kind\":null,\"name\":\"allow_resize\"},{\"default\":true,\"kind\":null,\"name\":\"allow_drag\"},{\"default\":[],\"kind\":null,\"name\":\"state\"}]},{\"extends\":null,\"module\":null,\"name\":\"click1\",\"overrides\":[],\"properties\":[{\"default\":\"\",\"kind\":null,\"name\":\"terminal_output\"},{\"default\":\"\",\"kind\":null,\"name\":\"debug_name\"},{\"default\":0,\"kind\":null,\"name\":\"clears\"}]},{\"extends\":null,\"module\":null,\"name\":\"TemplateActions1\",\"overrides\":[],\"properties\":[{\"default\":0,\"kind\":null,\"name\":\"open_modal\"},{\"default\":0,\"kind\":null,\"name\":\"close_modal\"}]},{\"extends\":null,\"module\":null,\"name\":\"MaterialTemplateActions1\",\"overrides\":[],\"properties\":[{\"default\":0,\"kind\":null,\"name\":\"open_modal\"},{\"default\":0,\"kind\":null,\"name\":\"close_modal\"}]}],\"roots\":{\"references\":[{\"attributes\":{\"overlay\":{\"id\":\"14990\"}},\"id\":\"14988\",\"type\":\"BoxZoomTool\"},{\"attributes\":{\"source\":{\"id\":\"14998\"}},\"id\":\"15005\",\"type\":\"CDSView\"},{\"attributes\":{},\"id\":\"14989\",\"type\":\"ResetTool\"},{\"attributes\":{\"bottom_units\":\"screen\",\"coordinates\":null,\"fill_alpha\":0.5,\"fill_color\":\"lightgrey\",\"group\":null,\"left_units\":\"screen\",\"level\":\"overlay\",\"line_alpha\":1.0,\"line_color\":\"black\",\"line_dash\":[4,4],\"line_width\":2,\"right_units\":\"screen\",\"syncable\":false,\"top_units\":\"screen\"},\"id\":\"14990\",\"type\":\"BoxAnnotation\"},{\"attributes\":{},\"id\":\"15020\",\"type\":\"UnionRenderers\"},{\"attributes\":{\"bottom\":{\"value\":0},\"fill_alpha\":{\"value\":1.0},\"fill_color\":{\"value\":\"#30a2da\"},\"hatch_alpha\":{\"value\":1.0},\"hatch_color\":{\"value\":\"#30a2da\"},\"hatch_scale\":{\"value\":12.0},\"hatch_weight\":{\"value\":1.0},\"line_alpha\":{\"value\":1.0},\"line_cap\":{\"value\":\"butt\"},\"line_color\":{\"value\":\"black\"},\"line_dash\":{\"value\":[]},\"line_dash_offset\":{\"value\":0},\"line_join\":{\"value\":\"bevel\"},\"line_width\":{\"value\":1},\"top\":{\"field\":\"ppg_2021\"},\"width\":{\"value\":0.8},\"x\":{\"field\":\"Player\"}},\"id\":\"15006\",\"type\":\"VBar\"},{\"attributes\":{\"fill_alpha\":{\"value\":0.1},\"fill_color\":{\"value\":\"#30a2da\"},\"hatch_alpha\":{\"value\":0.1},\"hatch_color\":{\"value\":\"#30a2da\"},\"line_alpha\":{\"value\":0.1},\"top\":{\"field\":\"ppg_2021\"},\"width\":{\"value\":0.8},\"x\":{\"field\":\"Player\"}},\"id\":\"15002\",\"type\":\"VBar\"},{\"attributes\":{\"factors\":[\"DeVonta Smith\",\"Kendrick Bourne\",\"Christian Kirk\",\"Adam Thielen\",\"Amari Cooper\",\"Marquise Brown\",\"Terry McLaurin\",\"Amon-Ra St. Brown\",\"Darnell Mooney\",\"Brandin Cooks\",\"Jaylen Waddle\",\"Chris Godwin\",\"D.J. Moore\",\"Tee Higgins\",\"Michael Pittman Jr.\",\"Keenan Allen*\",\"CeeDee Lamb*\",\"Hunter Renfrow*\",\"Diontae Johnson*\",\"Tyler Lockett\",\"D.K. Metcalf\",\"Mike Williams\",\"Stefon Diggs*\",\"Tyreek Hill*\",\"Mike Evans*\",\"Davante Adams*+\",\"Justin Jefferson*\",\"Ja'Marr Chase*\",\"Deebo Samuel*+\",\"Cooper Kupp*+\"],\"tags\":[[[\"Player\",\"Player\",null]]]},\"id\":\"14966\",\"type\":\"FactorRange\"},{\"attributes\":{\"margin\":[5,5,5,5],\"name\":\"HSpacer16152\",\"sizing_mode\":\"stretch_width\"},\"id\":\"15033\",\"type\":\"Spacer\"},{\"attributes\":{},\"id\":\"15009\",\"type\":\"AllLabels\"},{\"attributes\":{\"tools\":[{\"id\":\"14968\"},{\"id\":\"14985\"},{\"id\":\"14986\"},{\"id\":\"14987\"},{\"id\":\"14988\"},{\"id\":\"14989\"}]},\"id\":\"14991\",\"type\":\"Toolbar\"},{\"attributes\":{\"below\":[{\"id\":\"14978\"}],\"center\":[{\"id\":\"14980\"},{\"id\":\"14984\"}],\"height\":300,\"left\":[{\"id\":\"14981\"}],\"margin\":[5,5,5,5],\"min_border_bottom\":10,\"min_border_left\":10,\"min_border_right\":10,\"min_border_top\":10,\"renderers\":[{\"id\":\"15004\"}],\"sizing_mode\":\"fixed\",\"title\":{\"id\":\"14970\"},\"toolbar\":{\"id\":\"14991\"},\"width\":700,\"x_range\":{\"id\":\"14966\"},\"x_scale\":{\"id\":\"14974\"},\"y_range\":{\"id\":\"14967\"},\"y_scale\":{\"id\":\"14976\"}},\"id\":\"14969\",\"subtype\":\"Figure\",\"type\":\"Plot\"},{\"attributes\":{},\"id\":\"14974\",\"type\":\"CategoricalScale\"},{\"attributes\":{\"data\":{\"Player\":[\"DeVonta Smith\",\"Kendrick Bourne\",\"Christian Kirk\",\"Adam Thielen\",\"Amari Cooper\",\"Marquise Brown\",\"Terry McLaurin\",\"Amon-Ra St. Brown\",\"Darnell Mooney\",\"Brandin Cooks\",\"Jaylen Waddle\",\"Chris Godwin\",\"D.J. Moore\",\"Tee Higgins\",\"Michael Pittman Jr.\",\"Keenan Allen*\",\"CeeDee Lamb*\",\"Hunter Renfrow*\",\"Diontae Johnson*\",\"Tyler Lockett\",\"D.K. Metcalf\",\"Mike Williams\",\"Stefon Diggs*\",\"Tyreek Hill*\",\"Mike Evans*\",\"Davante Adams*+\",\"Justin Jefferson*\",\"Ja'Marr Chase*\",\"Deebo Samuel*+\",\"Cooper Kupp*+\"],\"ppg_2021\":{\"__ndarray__\":\"tbS0tLS0HECmpaWlpaUdQNPS0tLS0h5AS0tLS0tLH0DEw8PDw8MfQMTDw8PDwx9AHh4eHh4eIEAeHh4eHh4gQFpaWlpaWiBAtbS0tLS0IEC1tLS0tLQgQPHw8PDw8CBADw8PDw8PIUAPDw8PDw8hQMTDw8PDwyFA4uHh4eHhIUAeHh4eHh4iQFpaWlpaWiJApqWlpaWlI0DEw8PDw8MjQOLh4eHh4SNAHh4eHh4eJECIh4eHh4clQOLh4eHh4SVAPDw8PDw8JkAAAAAAAAAqQB4eHh4eHipAWlpaWlpaKkDT0tLS0tIuQFpaWlpaWjFA\",\"dtype\":\"float64\",\"order\":\"little\",\"shape\":[30]}},\"selected\":{\"id\":\"14999\"},\"selection_policy\":{\"id\":\"15020\"}},\"id\":\"14998\",\"type\":\"ColumnDataSource\"},{\"attributes\":{\"callback\":null,\"renderers\":[{\"id\":\"15004\"}],\"tags\":[\"hv_created\"],\"tooltips\":[[\"Player\",\"@{Player}\"],[\"ppg_2021\",\"@{ppg_2021}\"]]},\"id\":\"14968\",\"type\":\"HoverTool\"},{\"attributes\":{},\"id\":\"14999\",\"type\":\"Selection\"},{\"attributes\":{},\"id\":\"14976\",\"type\":\"LinearScale\"},{\"attributes\":{\"coordinates\":null,\"group\":null,\"text_color\":\"black\",\"text_font_size\":\"12pt\"},\"id\":\"14970\",\"type\":\"Title\"},{\"attributes\":{\"end\":18.370588235294115,\"reset_end\":18.370588235294115,\"reset_start\":0.0,\"tags\":[[[\"ppg_2021\",\"ppg_2021\",null]]]},\"id\":\"14967\",\"type\":\"Range1d\"},{\"attributes\":{\"coordinates\":null,\"data_source\":{\"id\":\"14998\"},\"glyph\":{\"id\":\"15001\"},\"group\":null,\"hover_glyph\":null,\"muted_glyph\":{\"id\":\"15003\"},\"nonselection_glyph\":{\"id\":\"15002\"},\"selection_glyph\":{\"id\":\"15006\"},\"view\":{\"id\":\"15005\"}},\"id\":\"15004\",\"type\":\"GlyphRenderer\"},{\"attributes\":{\"fill_alpha\":{\"value\":0.2},\"fill_color\":{\"value\":\"#30a2da\"},\"hatch_alpha\":{\"value\":0.2},\"hatch_color\":{\"value\":\"#30a2da\"},\"line_alpha\":{\"value\":0.2},\"top\":{\"field\":\"ppg_2021\"},\"width\":{\"value\":0.8},\"x\":{\"field\":\"Player\"}},\"id\":\"15003\",\"type\":\"VBar\"},{\"attributes\":{\"axis\":{\"id\":\"14978\"},\"coordinates\":null,\"grid_line_color\":null,\"group\":null,\"ticker\":null},\"id\":\"14980\",\"type\":\"Grid\"},{\"attributes\":{\"margin\":[5,5,5,5],\"name\":\"HSpacer16151\",\"sizing_mode\":\"stretch_width\"},\"id\":\"14965\",\"type\":\"Spacer\"},{\"attributes\":{\"fill_color\":{\"value\":\"#30a2da\"},\"hatch_color\":{\"value\":\"#30a2da\"},\"top\":{\"field\":\"ppg_2021\"},\"width\":{\"value\":0.8},\"x\":{\"field\":\"Player\"}},\"id\":\"15001\",\"type\":\"VBar\"},{\"attributes\":{\"axis_label\":\"Player\",\"coordinates\":null,\"formatter\":{\"id\":\"15008\"},\"group\":null,\"major_label_orientation\":0.8726646259971648,\"major_label_policy\":{\"id\":\"15009\"},\"ticker\":{\"id\":\"14979\"}},\"id\":\"14978\",\"type\":\"CategoricalAxis\"},{\"attributes\":{\"axis\":{\"id\":\"14981\"},\"coordinates\":null,\"dimension\":1,\"grid_line_color\":null,\"group\":null,\"ticker\":null},\"id\":\"14984\",\"type\":\"Grid\"},{\"attributes\":{},\"id\":\"14986\",\"type\":\"PanTool\"},{\"attributes\":{},\"id\":\"14979\",\"type\":\"CategoricalTicker\"},{\"attributes\":{},\"id\":\"15008\",\"type\":\"CategoricalTickFormatter\"},{\"attributes\":{\"axis_label\":\"ppg_2021\",\"coordinates\":null,\"formatter\":{\"id\":\"15011\"},\"group\":null,\"major_label_policy\":{\"id\":\"15012\"},\"ticker\":{\"id\":\"14982\"}},\"id\":\"14981\",\"type\":\"LinearAxis\"},{\"attributes\":{\"children\":[{\"id\":\"14965\"},{\"id\":\"14969\"},{\"id\":\"15033\"}],\"margin\":[0,0,0,0],\"name\":\"Row16147\",\"tags\":[\"embedded\"]},\"id\":\"14964\",\"type\":\"Row\"},{\"attributes\":{},\"id\":\"15012\",\"type\":\"AllLabels\"},{\"attributes\":{},\"id\":\"14982\",\"type\":\"BasicTicker\"},{\"attributes\":{},\"id\":\"14987\",\"type\":\"WheelZoomTool\"},{\"attributes\":{},\"id\":\"15011\",\"type\":\"BasicTickFormatter\"},{\"attributes\":{},\"id\":\"14985\",\"type\":\"SaveTool\"}],\"root_ids\":[\"14964\"]},\"title\":\"Bokeh Application\",\"version\":\"2.4.2\"}};\n",
       "    var render_items = [{\"docid\":\"6e975187-1f8d-4366-8a57-07d105827b7e\",\"root_ids\":[\"14964\"],\"roots\":{\"14964\":\"6b48ede4-61e3-42fe-ace3-0faceaf63665\"}}];\n",
       "    root.Bokeh.embed.embed_items_notebook(docs_json, render_items);\n",
       "  }\n",
       "  if (root.Bokeh !== undefined && root.Bokeh.Panel !== undefined) {\n",
       "    embed_document(root);\n",
       "  } else {\n",
       "    var attempts = 0;\n",
       "    var timer = setInterval(function(root) {\n",
       "      if (root.Bokeh !== undefined && root.Bokeh.Panel !== undefined) {\n",
       "        clearInterval(timer);\n",
       "        embed_document(root);\n",
       "      } else if (document.readyState == \"complete\") {\n",
       "        attempts++;\n",
       "        if (attempts > 200) {\n",
       "          clearInterval(timer);\n",
       "          console.log(\"Bokeh: ERROR: Unable to run BokehJS code because BokehJS library is missing\");\n",
       "        }\n",
       "      }\n",
       "    }, 25, root)\n",
       "  }\n",
       "})(window);</script>"
      ],
      "text/plain": [
       ":Bars   [Player]   (ppg_2021)"
      ]
     },
     "execution_count": 121,
     "metadata": {
      "application/vnd.holoviews_exec.v0+json": {
       "id": "14964"
      }
     },
     "output_type": "execute_result"
    }
   ],
   "source": [
    "point_per_game(WR_df,\"FantasyPoints_2021\", 'ppg_2021')"
   ]
  },
  {
   "cell_type": "code",
   "execution_count": 123,
   "metadata": {},
   "outputs": [
    {
     "data": {},
     "metadata": {},
     "output_type": "display_data"
    },
    {
     "data": {
      "application/vnd.holoviews_exec.v0+json": "",
      "text/html": [
       "<div id='15085'>\n",
       "\n",
       "\n",
       "\n",
       "\n",
       "\n",
       "  <div class=\"bk-root\" id=\"18e1357d-3c49-42bd-9ae7-74bc94435f58\" data-root-id=\"15085\"></div>\n",
       "</div>\n",
       "<script type=\"application/javascript\">(function(root) {\n",
       "  function embed_document(root) {\n",
       "    var docs_json = {\"d665fbe5-2c10-4d06-96fc-0607dea3e43a\":{\"defs\":[{\"extends\":null,\"module\":null,\"name\":\"ReactiveHTML1\",\"overrides\":[],\"properties\":[]},{\"extends\":null,\"module\":null,\"name\":\"FlexBox1\",\"overrides\":[],\"properties\":[{\"default\":\"flex-start\",\"kind\":null,\"name\":\"align_content\"},{\"default\":\"flex-start\",\"kind\":null,\"name\":\"align_items\"},{\"default\":\"row\",\"kind\":null,\"name\":\"flex_direction\"},{\"default\":\"wrap\",\"kind\":null,\"name\":\"flex_wrap\"},{\"default\":\"flex-start\",\"kind\":null,\"name\":\"justify_content\"}]},{\"extends\":null,\"module\":null,\"name\":\"GridStack1\",\"overrides\":[],\"properties\":[{\"default\":\"warn\",\"kind\":null,\"name\":\"mode\"},{\"default\":null,\"kind\":null,\"name\":\"ncols\"},{\"default\":null,\"kind\":null,\"name\":\"nrows\"},{\"default\":true,\"kind\":null,\"name\":\"allow_resize\"},{\"default\":true,\"kind\":null,\"name\":\"allow_drag\"},{\"default\":[],\"kind\":null,\"name\":\"state\"}]},{\"extends\":null,\"module\":null,\"name\":\"click1\",\"overrides\":[],\"properties\":[{\"default\":\"\",\"kind\":null,\"name\":\"terminal_output\"},{\"default\":\"\",\"kind\":null,\"name\":\"debug_name\"},{\"default\":0,\"kind\":null,\"name\":\"clears\"}]},{\"extends\":null,\"module\":null,\"name\":\"TemplateActions1\",\"overrides\":[],\"properties\":[{\"default\":0,\"kind\":null,\"name\":\"open_modal\"},{\"default\":0,\"kind\":null,\"name\":\"close_modal\"}]},{\"extends\":null,\"module\":null,\"name\":\"MaterialTemplateActions1\",\"overrides\":[],\"properties\":[{\"default\":0,\"kind\":null,\"name\":\"open_modal\"},{\"default\":0,\"kind\":null,\"name\":\"close_modal\"}]}],\"roots\":{\"references\":[{\"attributes\":{},\"id\":\"15097\",\"type\":\"LinearScale\"},{\"attributes\":{\"coordinates\":null,\"group\":null,\"text_color\":\"black\",\"text_font_size\":\"12pt\"},\"id\":\"15091\",\"type\":\"Title\"},{\"attributes\":{\"callback\":null,\"renderers\":[{\"id\":\"15125\"}],\"tags\":[\"hv_created\"],\"tooltips\":[[\"Player\",\"@{Player}\"],[\"ppa_2021\",\"@{ppa_2021}\"]]},\"id\":\"15089\",\"type\":\"HoverTool\"},{\"attributes\":{},\"id\":\"15095\",\"type\":\"CategoricalScale\"},{\"attributes\":{\"axis\":{\"id\":\"15099\"},\"coordinates\":null,\"grid_line_color\":null,\"group\":null,\"ticker\":null},\"id\":\"15101\",\"type\":\"Grid\"},{\"attributes\":{\"end\":1.716098742995608,\"reset_end\":1.716098742995608,\"reset_start\":0.0,\"tags\":[[[\"ppa_2021\",\"ppa_2021\",null]]]},\"id\":\"15088\",\"type\":\"Range1d\"},{\"attributes\":{\"fill_color\":{\"value\":\"#30a2da\"},\"hatch_color\":{\"value\":\"#30a2da\"},\"top\":{\"field\":\"ppa_2021\"},\"width\":{\"value\":0.8},\"x\":{\"field\":\"Player\"}},\"id\":\"15122\",\"type\":\"VBar\"},{\"attributes\":{\"axis_label\":\"Player\",\"coordinates\":null,\"formatter\":{\"id\":\"15129\"},\"group\":null,\"major_label_orientation\":0.8726646259971648,\"major_label_policy\":{\"id\":\"15130\"},\"ticker\":{\"id\":\"15100\"}},\"id\":\"15099\",\"type\":\"CategoricalAxis\"},{\"attributes\":{\"below\":[{\"id\":\"15099\"}],\"center\":[{\"id\":\"15101\"},{\"id\":\"15105\"}],\"height\":300,\"left\":[{\"id\":\"15102\"}],\"margin\":[5,5,5,5],\"min_border_bottom\":10,\"min_border_left\":10,\"min_border_right\":10,\"min_border_top\":10,\"renderers\":[{\"id\":\"15125\"}],\"sizing_mode\":\"fixed\",\"title\":{\"id\":\"15091\"},\"toolbar\":{\"id\":\"15112\"},\"width\":700,\"x_range\":{\"id\":\"15087\"},\"x_scale\":{\"id\":\"15095\"},\"y_range\":{\"id\":\"15088\"},\"y_scale\":{\"id\":\"15097\"}},\"id\":\"15090\",\"subtype\":\"Figure\",\"type\":\"Plot\"},{\"attributes\":{\"axis\":{\"id\":\"15102\"},\"coordinates\":null,\"dimension\":1,\"grid_line_color\":null,\"group\":null,\"ticker\":null},\"id\":\"15105\",\"type\":\"Grid\"},{\"attributes\":{\"margin\":[5,5,5,5],\"name\":\"HSpacer16300\",\"sizing_mode\":\"stretch_width\"},\"id\":\"15086\",\"type\":\"Spacer\"},{\"attributes\":{},\"id\":\"15107\",\"type\":\"PanTool\"},{\"attributes\":{},\"id\":\"15100\",\"type\":\"CategoricalTicker\"},{\"attributes\":{\"factors\":[\"Cole Kmet\",\"Evan Engram\",\"Mike Gesicki\",\"Darren Waller\",\"Cameron Brate\",\"Tyler Conklin\",\"Austin Hooper\",\"Zach Ertz\",\"Kyle Pitts*\",\"T.J. Hockenson\",\"Noah Fant\",\"Tyler Higbee\",\"Jared Cook\",\"Anthony Firkser\",\"Albert Okwuegbunam\",\"Gerald Everett\",\"Jack Doyle\",\"Pat Freiermuth\",\"Mo Alie-Cox\",\"Foster Moreau\",\"C.J. Uzomah\",\"Dalton Schultz\",\"Mark Andrews*+\",\"Travis Kelce*\",\"Rob Gronkowski\",\"George Kittle*\",\"David Njoku\",\"Dallas Goedert\",\"Hunter Henry\",\"Dawson Knox\"],\"tags\":[[[\"Player\",\"Player\",null]]]},\"id\":\"15087\",\"type\":\"FactorRange\"},{\"attributes\":{\"axis_label\":\"ppa_2021\",\"coordinates\":null,\"formatter\":{\"id\":\"15132\"},\"group\":null,\"major_label_policy\":{\"id\":\"15133\"},\"ticker\":{\"id\":\"15103\"}},\"id\":\"15102\",\"type\":\"LinearAxis\"},{\"attributes\":{},\"id\":\"15133\",\"type\":\"AllLabels\"},{\"attributes\":{},\"id\":\"15103\",\"type\":\"BasicTicker\"},{\"attributes\":{},\"id\":\"15108\",\"type\":\"WheelZoomTool\"},{\"attributes\":{\"source\":{\"id\":\"15119\"}},\"id\":\"15126\",\"type\":\"CDSView\"},{\"attributes\":{},\"id\":\"15132\",\"type\":\"BasicTickFormatter\"},{\"attributes\":{\"children\":[{\"id\":\"15086\"},{\"id\":\"15090\"},{\"id\":\"15154\"}],\"margin\":[0,0,0,0],\"name\":\"Row16296\",\"tags\":[\"embedded\"]},\"id\":\"15085\",\"type\":\"Row\"},{\"attributes\":{\"coordinates\":null,\"data_source\":{\"id\":\"15119\"},\"glyph\":{\"id\":\"15122\"},\"group\":null,\"hover_glyph\":null,\"muted_glyph\":{\"id\":\"15124\"},\"nonselection_glyph\":{\"id\":\"15123\"},\"selection_glyph\":{\"id\":\"15127\"},\"view\":{\"id\":\"15126\"}},\"id\":\"15125\",\"type\":\"GlyphRenderer\"},{\"attributes\":{},\"id\":\"15106\",\"type\":\"SaveTool\"},{\"attributes\":{\"fill_alpha\":{\"value\":0.2},\"fill_color\":{\"value\":\"#30a2da\"},\"hatch_alpha\":{\"value\":0.2},\"hatch_color\":{\"value\":\"#30a2da\"},\"line_alpha\":{\"value\":0.2},\"top\":{\"field\":\"ppa_2021\"},\"width\":{\"value\":0.8},\"x\":{\"field\":\"Player\"}},\"id\":\"15124\",\"type\":\"VBar\"},{\"attributes\":{},\"id\":\"15141\",\"type\":\"UnionRenderers\"},{\"attributes\":{\"overlay\":{\"id\":\"15111\"}},\"id\":\"15109\",\"type\":\"BoxZoomTool\"},{\"attributes\":{},\"id\":\"15110\",\"type\":\"ResetTool\"},{\"attributes\":{\"margin\":[5,5,5,5],\"name\":\"HSpacer16301\",\"sizing_mode\":\"stretch_width\"},\"id\":\"15154\",\"type\":\"Spacer\"},{\"attributes\":{\"bottom_units\":\"screen\",\"coordinates\":null,\"fill_alpha\":0.5,\"fill_color\":\"lightgrey\",\"group\":null,\"left_units\":\"screen\",\"level\":\"overlay\",\"line_alpha\":1.0,\"line_color\":\"black\",\"line_dash\":[4,4],\"line_width\":2,\"right_units\":\"screen\",\"syncable\":false,\"top_units\":\"screen\"},\"id\":\"15111\",\"type\":\"BoxAnnotation\"},{\"attributes\":{},\"id\":\"15129\",\"type\":\"CategoricalTickFormatter\"},{\"attributes\":{\"tools\":[{\"id\":\"15089\"},{\"id\":\"15106\"},{\"id\":\"15107\"},{\"id\":\"15108\"},{\"id\":\"15109\"},{\"id\":\"15110\"}]},\"id\":\"15112\",\"type\":\"Toolbar\"},{\"attributes\":{},\"id\":\"15120\",\"type\":\"Selection\"},{\"attributes\":{\"data\":{\"Player\":[\"Cole Kmet\",\"Evan Engram\",\"Mike Gesicki\",\"Darren Waller\",\"Cameron Brate\",\"Tyler Conklin\",\"Austin Hooper\",\"Zach Ertz\",\"Kyle Pitts*\",\"T.J. Hockenson\",\"Noah Fant\",\"Tyler Higbee\",\"Jared Cook\",\"Anthony Firkser\",\"Albert Okwuegbunam\",\"Gerald Everett\",\"Jack Doyle\",\"Pat Freiermuth\",\"Mo Alie-Cox\",\"Foster Moreau\",\"C.J. Uzomah\",\"Dalton Schultz\",\"Mark Andrews*+\",\"Travis Kelce*\",\"Rob Gronkowski\",\"George Kittle*\",\"David Njoku\",\"Dallas Goedert\",\"Hunter Henry\",\"Dawson Knox\"],\"ppa_2021\":{\"__ndarray__\":\"/fTTTz/95D/Ijx8/fvzoP5IkSZIkSeo/L7vssssu6z8kuI/gPoLrP0EmxQtkUuw/FZcMwTra7D8lSZIkSZLuP7ZvWPuGte8/AAAAAAAA8D/Ygi3Ygi3wPzAwMDAwMPA/59ceclkx8D8w6Av6gr7wPzMzMzMzM/E/chzHcRzH8T+nrClrypryP0SlI3sGovI/lD7pkz7p8z8AAAAAAAD0PwRBEARBEPQ/dmIndmIn9D/0nkn0nkn0P4LK2S38avQ/Tm1qU5va9D826jsb9Z31P9nnkJpgvPU/KK+hvIby9j9SuB6F61H4P0w9Gb9d6vk/\",\"dtype\":\"float64\",\"order\":\"little\",\"shape\":[30]}},\"selected\":{\"id\":\"15120\"},\"selection_policy\":{\"id\":\"15141\"}},\"id\":\"15119\",\"type\":\"ColumnDataSource\"},{\"attributes\":{\"fill_alpha\":{\"value\":0.1},\"fill_color\":{\"value\":\"#30a2da\"},\"hatch_alpha\":{\"value\":0.1},\"hatch_color\":{\"value\":\"#30a2da\"},\"line_alpha\":{\"value\":0.1},\"top\":{\"field\":\"ppa_2021\"},\"width\":{\"value\":0.8},\"x\":{\"field\":\"Player\"}},\"id\":\"15123\",\"type\":\"VBar\"},{\"attributes\":{\"bottom\":{\"value\":0},\"fill_alpha\":{\"value\":1.0},\"fill_color\":{\"value\":\"#30a2da\"},\"hatch_alpha\":{\"value\":1.0},\"hatch_color\":{\"value\":\"#30a2da\"},\"hatch_scale\":{\"value\":12.0},\"hatch_weight\":{\"value\":1.0},\"line_alpha\":{\"value\":1.0},\"line_cap\":{\"value\":\"butt\"},\"line_color\":{\"value\":\"black\"},\"line_dash\":{\"value\":[]},\"line_dash_offset\":{\"value\":0},\"line_join\":{\"value\":\"bevel\"},\"line_width\":{\"value\":1},\"top\":{\"field\":\"ppa_2021\"},\"width\":{\"value\":0.8},\"x\":{\"field\":\"Player\"}},\"id\":\"15127\",\"type\":\"VBar\"},{\"attributes\":{},\"id\":\"15130\",\"type\":\"AllLabels\"}],\"root_ids\":[\"15085\"]},\"title\":\"Bokeh Application\",\"version\":\"2.4.2\"}};\n",
       "    var render_items = [{\"docid\":\"d665fbe5-2c10-4d06-96fc-0607dea3e43a\",\"root_ids\":[\"15085\"],\"roots\":{\"15085\":\"18e1357d-3c49-42bd-9ae7-74bc94435f58\"}}];\n",
       "    root.Bokeh.embed.embed_items_notebook(docs_json, render_items);\n",
       "  }\n",
       "  if (root.Bokeh !== undefined && root.Bokeh.Panel !== undefined) {\n",
       "    embed_document(root);\n",
       "  } else {\n",
       "    var attempts = 0;\n",
       "    var timer = setInterval(function(root) {\n",
       "      if (root.Bokeh !== undefined && root.Bokeh.Panel !== undefined) {\n",
       "        clearInterval(timer);\n",
       "        embed_document(root);\n",
       "      } else if (document.readyState == \"complete\") {\n",
       "        attempts++;\n",
       "        if (attempts > 200) {\n",
       "          clearInterval(timer);\n",
       "          console.log(\"Bokeh: ERROR: Unable to run BokehJS code because BokehJS library is missing\");\n",
       "        }\n",
       "      }\n",
       "    }, 25, root)\n",
       "  }\n",
       "})(window);</script>"
      ],
      "text/plain": [
       ":Bars   [Player]   (ppa_2021)"
      ]
     },
     "execution_count": 123,
     "metadata": {
      "application/vnd.holoviews_exec.v0+json": {
       "id": "15085"
      }
     },
     "output_type": "execute_result"
    }
   ],
   "source": [
    "points_per_attempt(TE_df, \"FantasyPoints_2021\", 'Tgt_2021', 'ppa_2021')"
   ]
  },
  {
   "cell_type": "code",
   "execution_count": null,
   "metadata": {},
   "outputs": [],
   "source": []
  }
 ],
 "metadata": {
  "kernelspec": {
   "display_name": "Python 3.9.12 ('base')",
   "language": "python",
   "name": "python3"
  },
  "language_info": {
   "codemirror_mode": {
    "name": "ipython",
    "version": 3
   },
   "file_extension": ".py",
   "mimetype": "text/x-python",
   "name": "python",
   "nbconvert_exporter": "python",
   "pygments_lexer": "ipython3",
   "version": "3.9.12"
  },
  "orig_nbformat": 4,
  "vscode": {
   "interpreter": {
    "hash": "3161287874ee3d3bfe19bc31235e4eed2eb54f98e4cc9a0a76f68004823bd9ff"
   }
  }
 },
 "nbformat": 4,
 "nbformat_minor": 2
}
